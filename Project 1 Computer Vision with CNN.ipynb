{
 "cells": [
  {
   "cell_type": "markdown",
   "metadata": {},
   "source": [
    "### Project 1 Computer Vision with CNN\n",
    "\n",
    "The case study is from a dataset from Kaggle. \n",
    "\n",
    "Link to the Kaggle project site:\n",
    "\n",
    "https://www.kaggle.com/c/plant-seedlings-classification (Links to an external site.)Links to an external site.\n",
    "\n",
    " \n",
    "\n",
    "The dataset has to be downloaded from the above Kaggle web site.\n",
    "\n",
    "Can you differentiate a weed from a crop seedling?\n",
    "\n",
    "The ability to do so effectively can mean better crop yields and better stewardship of the environment.\n",
    "\n",
    "The Aarhus University Signal Processing group, in collaboration with the University of Southern Denmark, has recently released a dataset containing images of approximately 960 unique plants belonging to 12 species at several growth stages.\n",
    "\n",
    " \n",
    "\n",
    " \n",
    "\n",
    "The points distribution for this case is as follows:\n",
    "\n",
    "Read the images and generate the train and test dataset (10 points)\n",
    "2. Divide the data set into Train and validation data sets ( 10 points)\n",
    "3. Initialize & build the model (20 points)\n",
    "4. Optimize the model (15 points)\n",
    "5. Predict the accuracy for both train and validation data (5 points)"
   ]
  },
  {
   "cell_type": "code",
   "execution_count": null,
   "metadata": {},
   "outputs": [],
   "source": []
  }
 ],
 "metadata": {
  "kernelspec": {
   "display_name": "Python 3",
   "language": "python",
   "name": "python3"
  },
  "language_info": {
   "codemirror_mode": {
    "name": "ipython",
    "version": 3
   },
   "file_extension": ".py",
   "mimetype": "text/x-python",
   "name": "python",
   "nbconvert_exporter": "python",
   "pygments_lexer": "ipython3",
   "version": "3.7.3"
  }
 },
 "nbformat": 4,
 "nbformat_minor": 2
}
