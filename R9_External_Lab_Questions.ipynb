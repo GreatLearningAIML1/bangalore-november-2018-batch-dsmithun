{
  "nbformat": 4,
  "nbformat_minor": 0,
  "metadata": {
    "colab": {
      "name": "R9_External_Lab_Questions.ipynb",
      "version": "0.3.2",
      "provenance": [],
      "collapsed_sections": []
    },
    "kernelspec": {
      "name": "python3",
      "display_name": "Python 3"
    },
    "language_info": {
      "codemirror_mode": {
        "name": "ipython",
        "version": 3
      },
      "file_extension": ".py",
      "mimetype": "text/x-python",
      "name": "python",
      "nbconvert_exporter": "python",
      "pygments_lexer": "ipython3",
      "version": "3.7.3"
    },
    "accelerator": "GPU"
  },
  "cells": [
    {
      "cell_type": "markdown",
      "metadata": {
        "colab_type": "text",
        "id": "WPJHV_CIn6Bg"
      },
      "source": [
        "# U - Net\n",
        "## Problem: \n",
        "\n",
        "Seismic data is collected using reflection seismology, or seismic reflection. The method requires a controlled seismic source of energy, such as compressed air or a seismic vibrator, and sensors record the reflection from rock interfaces within the subsurface. The recorded data is then processed to create a 3D view of earth’s interior. Reflection seismology is similar to X-ray, sonar and echolocation.\n",
        "\n",
        "A seismic image is produced from imaging the reflection coming from rock boundaries. The seismic image shows the boundaries between different rock types. In theory, the strength of reflection is directly proportional to the difference in the physical properties on either sides of the interface. While seismic images show rock boundaries, they don't say much about the rock themselves; some rocks are easy to identify while some are difficult.\n",
        "\n",
        "There are several areas of the world where there are vast quantities of salt in the subsurface. One of the challenges of seismic imaging is to identify the part of subsurface which is salt. Salt has characteristics that makes it both simple and hard to identify. Salt density is usually 2.14 g/cc which is lower than most surrounding rocks. The seismic velocity of salt is 4.5 km/sec, which is usually faster than its surrounding rocks. This difference creates a sharp reflection at the salt-sediment interface. Usually salt is an amorphous rock without much internal structure. This means that there is typically not much reflectivity inside the salt, unless there are sediments trapped inside it. The unusually high seismic velocity of salt can create problems with seismic imaging.\n",
        "\n",
        "### Data\n",
        "The data is a set of images chosen at various locations chosen at random in the subsurface. The images are 101 x 101 pixels and each pixel is classified as either salt or sediment. In addition to the seismic images, the depth of the imaged location is provided for each image. The goal of the competition is to segment regions that contain salt.\n",
        "\n",
        "#### Source: \n",
        "https://www.kaggle.com/c/tgs-salt-identification-challenge\n",
        "\n",
        "\n",
        "### Note: \n",
        "Accept the terms and download data from the above link"
      ]
    },
    {
      "cell_type": "markdown",
      "metadata": {
        "colab_type": "text",
        "id": "3OKrTNUtn-od"
      },
      "source": [
        "### Aim: \n",
        "\n",
        "Implement U-Net neural model architecture in keras to solve this problem.\n",
        "\n",
        "\n",
        "In this, you are asked to segment salt deposits beneath the Earth’s surface. Given a set of seismic images that are 101 x 101 pixels each and each pixel we need to classify as either salt or sediment. Our goal is to segment regions that contain salt. A seismic image is produced from imaging the reflection coming from rock boundaries. The seismic image shows the boundaries between different rock types. "
      ]
    },
    {
      "cell_type": "markdown",
      "metadata": {
        "colab_type": "text",
        "id": "ZUOAF8WWoA1x"
      },
      "source": [
        "### Broad Steps:\n",
        "\n",
        "1. Download the dataset\n",
        "2. Upload to Drive\n",
        "3. Import from drive to colab\n",
        "4. Load the images and create training data.\n",
        "5. Build U-net Model\n",
        "6. Train your model.\n",
        "7. Check the validation accuracy and plot sample."
      ]
    },
    {
      "cell_type": "code",
      "metadata": {
        "colab_type": "code",
        "id": "b7TLNzB6oDep",
        "outputId": "1b62afcb-5417-4edf-8231-eaf5ff92f819",
        "colab": {
          "base_uri": "https://localhost:8080/",
          "height": 34
        }
      },
      "source": [
        "#Importing necessary libraries\n",
        "import os\n",
        "import random\n",
        "import pandas as pd\n",
        "import numpy as np\n",
        "import matplotlib.pyplot as plt\n",
        "plt.style.use(\"ggplot\")\n",
        "%matplotlib inline\n",
        "\n",
        "from tqdm import tqdm_notebook, tnrange\n",
        "from itertools import chain\n",
        "from skimage.io import imread, imshow, concatenate_images\n",
        "from skimage.transform import resize\n",
        "from skimage.morphology import label\n",
        "from sklearn.model_selection import train_test_split\n",
        "\n",
        "import tensorflow as tf\n",
        "from keras.models import Model, load_model\n",
        "from keras.layers import Input, BatchNormalization, Activation, Dense, Dropout\n",
        "from keras.layers.core import Lambda, RepeatVector, Reshape\n",
        "from keras.layers.convolutional import Conv2D, Conv2DTranspose\n",
        "from keras.layers.pooling import MaxPooling2D, GlobalMaxPool2D\n",
        "from keras.layers.merge import concatenate, add\n",
        "from keras.callbacks import EarlyStopping, ModelCheckpoint, ReduceLROnPlateau\n",
        "from keras.optimizers import Adam\n",
        "from keras.preprocessing.image import ImageDataGenerator, array_to_img, img_to_array, load_img"
      ],
      "execution_count": 0,
      "outputs": [
        {
          "output_type": "stream",
          "text": [
            "Using TensorFlow backend.\n"
          ],
          "name": "stderr"
        }
      ]
    },
    {
      "cell_type": "code",
      "metadata": {
        "colab_type": "code",
        "id": "6qiCvW9coD_E",
        "outputId": "ef1fd740-5ac8-4174-bd4d-d48f4b6f02c0",
        "colab": {
          "base_uri": "https://localhost:8080/",
          "height": 34
        }
      },
      "source": [
        "#Mount drive\n",
        "from google.colab import drive\n",
        "drive.mount('/content/drive/')"
      ],
      "execution_count": 0,
      "outputs": [
        {
          "output_type": "stream",
          "text": [
            "Drive already mounted at /content/drive/; to attempt to forcibly remount, call drive.mount(\"/content/drive/\", force_remount=True).\n"
          ],
          "name": "stdout"
        }
      ]
    },
    {
      "cell_type": "markdown",
      "metadata": {
        "colab_type": "text",
        "id": "B4IaUgploION"
      },
      "source": [
        "### 1.Set your project path where you have your data and related files for this lab."
      ]
    },
    {
      "cell_type": "code",
      "metadata": {
        "colab_type": "code",
        "id": "0tPkbXWyoK-z",
        "colab": {}
      },
      "source": [
        "project_path = '/content/drive/My Drive/AIML/External Lab/'\n",
        "os.chdir(project_path)\n",
        "path = '.'"
      ],
      "execution_count": 0,
      "outputs": []
    },
    {
      "cell_type": "code",
      "metadata": {
        "colab_type": "code",
        "id": "Kxy5LexhoLMT",
        "outputId": "5931abd5-0493-4989-d43d-65bffa68718a",
        "colab": {
          "base_uri": "https://localhost:8080/",
          "height": 34
        }
      },
      "source": [
        "#Get the present working directory\n",
        "pwd"
      ],
      "execution_count": 0,
      "outputs": [
        {
          "output_type": "execute_result",
          "data": {
            "text/plain": [
              "'/content/drive/My Drive/AIML/External Lab'"
            ]
          },
          "metadata": {
            "tags": []
          },
          "execution_count": 4
        }
      ]
    },
    {
      "cell_type": "markdown",
      "metadata": {
        "colab_type": "text",
        "id": "g15qSXZSoSuL"
      },
      "source": [
        "### 2. Set the necessary parameters"
      ]
    },
    {
      "cell_type": "code",
      "metadata": {
        "id": "F_35tPKW8VzI",
        "colab_type": "code",
        "colab": {}
      },
      "source": [
        "im_width = 128      #width of your train image\n",
        "im_height = 128     #hight of your train image\n",
        "#border =        \n",
        "path_train = project_path + 'train/'   #Path for your train data"
      ],
      "execution_count": 0,
      "outputs": []
    },
    {
      "cell_type": "code",
      "metadata": {
        "id": "kSE0zuVA8YH_",
        "colab_type": "code",
        "outputId": "7ab070ec-41d8-423b-eb47-d6dc1316dd80",
        "colab": {
          "base_uri": "https://localhost:8080/",
          "height": 34
        }
      },
      "source": [
        "#Print the path\n",
        "path_train"
      ],
      "execution_count": 0,
      "outputs": [
        {
          "output_type": "execute_result",
          "data": {
            "text/plain": [
              "'/content/drive/My Drive/AIML/External Lab/train/'"
            ]
          },
          "metadata": {
            "tags": []
          },
          "execution_count": 6
        }
      ]
    },
    {
      "cell_type": "markdown",
      "metadata": {
        "colab_type": "text",
        "id": "Dzrz2Or_HdxR"
      },
      "source": [
        "## Setup"
      ]
    },
    {
      "cell_type": "code",
      "metadata": {
        "colab_type": "code",
        "id": "uZQyyn55oKW-",
        "colab": {}
      },
      "source": [
        ""
      ],
      "execution_count": 0,
      "outputs": []
    },
    {
      "cell_type": "markdown",
      "metadata": {
        "colab_type": "text",
        "id": "Q3IoS6RCoZPh"
      },
      "source": [
        "# 3. Make directory for train data at in your project/lab folder.\n",
        "\n",
        "Hint - use !mkdir function."
      ]
    },
    {
      "cell_type": "code",
      "metadata": {
        "colab_type": "code",
        "id": "MRPpQ2QrocBQ",
        "outputId": "82a64322-2335-4107-d1bd-ffb3d1780dc6",
        "colab": {
          "base_uri": "https://localhost:8080/",
          "height": 34
        }
      },
      "source": [
        "!mkdir 'train'"
      ],
      "execution_count": 0,
      "outputs": [
        {
          "output_type": "stream",
          "text": [
            "mkdir: cannot create directory ‘train’: File exists\n"
          ],
          "name": "stdout"
        }
      ]
    },
    {
      "cell_type": "code",
      "metadata": {
        "colab_type": "code",
        "id": "RWATodbkocN9",
        "colab": {}
      },
      "source": [
        ""
      ],
      "execution_count": 0,
      "outputs": []
    },
    {
      "cell_type": "markdown",
      "metadata": {
        "colab_type": "text",
        "id": "fRbC22DGoeb7"
      },
      "source": [
        "# 4. Extract your train images to the train directory you have just created above. \n",
        "train.zip and test.zip files available at your google drive/local system.\n",
        "\n",
        "As a good practice - Upload or copy the data at your project path folder.\n",
        "\n",
        "Make sure you are providing the right project_path."
      ]
    },
    {
      "cell_type": "code",
      "metadata": {
        "colab_type": "code",
        "id": "5BtPznFbogjG",
        "colab": {}
      },
      "source": [
        "#For simplicity we have added the required code here.\n",
        "from zipfile import ZipFile\n",
        "\n",
        "with ZipFile(project_path + 'train.zip', 'r') as zf:\n",
        "  zf.extractall('train/')\n"
      ],
      "execution_count": 0,
      "outputs": []
    },
    {
      "cell_type": "code",
      "metadata": {
        "colab_type": "code",
        "id": "7YZ2prb9oiX4",
        "colab": {}
      },
      "source": [
        "#The train file have both images and masks with the same names_ids."
      ],
      "execution_count": 0,
      "outputs": []
    },
    {
      "cell_type": "markdown",
      "metadata": {
        "colab_type": "text",
        "id": "iwCH81ZWomLA"
      },
      "source": [
        "### 5. Get the list of names of images and masks and name the list imagelist and masklist.\n",
        "\n",
        "Hint - Use os.listdir() funtions."
      ]
    },
    {
      "cell_type": "code",
      "metadata": {
        "colab_type": "code",
        "id": "Clt5ya_JoplC",
        "colab": {}
      },
      "source": [
        "imagelist = os.listdir('/content/drive/My Drive/AIML/External Lab/train/images')\n",
        "masklist = os.listdir('/content/drive/My Drive/AIML/External Lab/train/masks')"
      ],
      "execution_count": 0,
      "outputs": []
    },
    {
      "cell_type": "code",
      "metadata": {
        "colab_type": "code",
        "outputId": "3fa50983-cd08-41bf-c5d1-e6878beca8b8",
        "id": "NhHqlEmz9CfS",
        "colab": {
          "base_uri": "https://localhost:8080/",
          "height": 84
        }
      },
      "source": [
        "#Test your list names by printing some of the names as given below.\n",
        "print(imagelist[-1])\n",
        "print(masklist[-1])\n",
        "print(imagelist[10])\n",
        "print(masklist[10])"
      ],
      "execution_count": 0,
      "outputs": [
        {
          "output_type": "stream",
          "text": [
            "7cc53fe88b.png\n",
            "7cc53fe88b.png\n",
            "de08c5a3b7.png\n",
            "de08c5a3b7.png\n"
          ],
          "name": "stdout"
        }
      ]
    },
    {
      "cell_type": "code",
      "metadata": {
        "colab_type": "code",
        "outputId": "a4055472-e774-4da3-da5b-622d1d14788d",
        "id": "WyNKkLGW8-PI",
        "colab": {
          "base_uri": "https://localhost:8080/",
          "height": 84
        }
      },
      "source": [
        "#Test your list names by printing some of the names as given below.\n",
        "print(imagelist[-1])\n",
        "print(masklist[-1])\n",
        "print(imagelist[10])\n",
        "print(masklist[10])"
      ],
      "execution_count": 0,
      "outputs": [
        {
          "output_type": "stream",
          "text": [
            "7cc53fe88b.png\n",
            "7cc53fe88b.png\n",
            "de08c5a3b7.png\n",
            "de08c5a3b7.png\n"
          ],
          "name": "stdout"
        }
      ]
    },
    {
      "cell_type": "markdown",
      "metadata": {
        "colab_type": "text",
        "id": "1t8raFq5ous8"
      },
      "source": [
        "# 6. Read and test your images and respective masks.\n",
        "\n",
        "Hint -\n",
        "\n",
        "import  matplotlib.pyplot as plt\n",
        "\n",
        "import cv2\n",
        "\n",
        "plt.imshow(cv2.imread('path of image'))\n",
        "\n",
        "plt.imshow(cv2.imread('path of mask'))\n"
      ]
    },
    {
      "cell_type": "code",
      "metadata": {
        "colab_type": "code",
        "id": "1gGpCSPpovvH",
        "colab": {}
      },
      "source": [
        "import matplotlib.pyplot as plt\n",
        "import cv2"
      ],
      "execution_count": 0,
      "outputs": []
    },
    {
      "cell_type": "code",
      "metadata": {
        "colab_type": "code",
        "id": "9E-McW2toyaR",
        "outputId": "f54a1f69-abf0-496a-fd4b-98bc4047f61e",
        "colab": {
          "base_uri": "https://localhost:8080/",
          "height": 286
        }
      },
      "source": [
        "imagePath = os.path.join('/content/drive/My Drive/AIML/External Lab/train/images', imagelist[19])\n",
        "plt.imshow(cv2.imread(imagePath))"
      ],
      "execution_count": 0,
      "outputs": [
        {
          "output_type": "execute_result",
          "data": {
            "text/plain": [
              "<matplotlib.image.AxesImage at 0x7feb174fe438>"
            ]
          },
          "metadata": {
            "tags": []
          },
          "execution_count": 14
        },
        {
          "output_type": "display_data",
          "data": {
            "image/png": "[encoded data removed]",
            "text/plain": [
              "<Figure size 432x288 with 1 Axes>"
            ]
          },
          "metadata": {
            "tags": []
          }
        }
      ]
    },
    {
      "cell_type": "code",
      "metadata": {
        "id": "JqjaJ-tO9qOS",
        "colab_type": "code",
        "outputId": "ca9b0552-f709-408e-d7ca-b29047304199",
        "colab": {
          "base_uri": "https://localhost:8080/",
          "height": 286
        }
      },
      "source": [
        "maskPath = os.path.join('/content/drive/My Drive/AIML/External Lab/train/masks', masklist[19])\n",
        "plt.imshow(cv2.imread(maskPath))"
      ],
      "execution_count": 0,
      "outputs": [
        {
          "output_type": "execute_result",
          "data": {
            "text/plain": [
              "<matplotlib.image.AxesImage at 0x7feb14c12208>"
            ]
          },
          "metadata": {
            "tags": []
          },
          "execution_count": 15
        },
        {
          "output_type": "display_data",
          "data": {
            "image/png": "[encoded data removed]",
            "text/plain": [
              "<Figure size 432x288 with 1 Axes>"
            ]
          },
          "metadata": {
            "tags": []
          }
        }
      ]
    },
    {
      "cell_type": "code",
      "metadata": {
        "colab_type": "code",
        "id": "q31uuO1tdQAE",
        "colab": {}
      },
      "source": [
        "X = np.zeros(((len(imagelist), im_height, im_width, 1)), dtype=np.float32)"
      ],
      "execution_count": 0,
      "outputs": []
    },
    {
      "cell_type": "code",
      "metadata": {
        "colab_type": "code",
        "id": "yUi8FuMPdSvB",
        "colab": {}
      },
      "source": [
        "y = np.zeros(((len(masklist), im_height, im_width, 1)), dtype=np.float32)"
      ],
      "execution_count": 0,
      "outputs": []
    },
    {
      "cell_type": "code",
      "metadata": {
        "colab_type": "code",
        "id": "KI_rMCI5faHW",
        "colab": {}
      },
      "source": [
        "image_path = []\n",
        "for n in imagelist:\n",
        "  image_path = os.path.join('/content/drive/My Drive/AIML/External Lab/train' +'/images/' +n )"
      ],
      "execution_count": 0,
      "outputs": []
    },
    {
      "cell_type": "code",
      "metadata": {
        "colab_type": "code",
        "id": "FGUiofSlg1h1",
        "colab": {}
      },
      "source": [
        "image_path = os.path.join('/content/drive/My Drive/AIML/External Lab/train' +'/images/' )"
      ],
      "execution_count": 0,
      "outputs": []
    },
    {
      "cell_type": "code",
      "metadata": {
        "colab_type": "code",
        "id": "cYQdxZ7wiOGV",
        "outputId": "998d993f-1488-4504-e185-086bb4681dd3",
        "colab": {
          "base_uri": "https://localhost:8080/",
          "height": 34
        }
      },
      "source": [
        "image_path"
      ],
      "execution_count": 0,
      "outputs": [
        {
          "output_type": "execute_result",
          "data": {
            "text/plain": [
              "'/content/drive/My Drive/AIML/External Lab/train/images/'"
            ]
          },
          "metadata": {
            "tags": []
          },
          "execution_count": 20
        }
      ]
    },
    {
      "cell_type": "markdown",
      "metadata": {
        "colab_type": "text",
        "id": "_qFeroMNoylc"
      },
      "source": [
        "# 7. Create your training data.\n",
        "\n",
        "Hints - \n",
        "\n",
        "image_path = os.path.join(project_path +'path of your image directory' +n )\n",
        "\n",
        "mask_path = os.path.join(project_path +'path of your mask directory'+n )"
      ]
    },
    {
      "cell_type": "code",
      "metadata": {
        "colab_type": "code",
        "id": "gJbRVbL4o1qT",
        "outputId": "ba7b21d5-6fbb-4cfb-990b-d1a525b16bdb",
        "colab": {
          "base_uri": "https://localhost:8080/",
          "height": 34
        }
      },
      "source": [
        "# Get and resize train images and masks\n",
        "def get_data(train=True):\n",
        "    X = np.zeros(((len(imagelist), im_height, im_width, 1)), dtype=np.float32) # Create an array for image\n",
        "    y = np.zeros(((len(masklist), im_height, im_width, 1)), dtype=np.float32) #Create an array for mask\n",
        "    \n",
        "    for n in imagelist: \n",
        "        k = imagelist.index(n)\n",
        "        ##Add image_path\n",
        "        ##/*** Add your code here***/\n",
        "        image_path = os.path.join('/content/drive/My Drive/AIML/External Lab/train' +'/images/' )  \n",
        "        ##Add mask_path\n",
        "        mask_path = os.path.join('/content/drive/My Drive/AIML/External Lab/train' + '/masks/')                                                          \n",
        "        \n",
        "        # Load images and resize to (128,128,1)\n",
        "        ##/*** Add your code here***/\n",
        "        # Load image\n",
        "        img = load_img(image_path + n, color_mode = 'grayscale')\n",
        "        resized_img = img_to_array(img)\n",
        "        resized_img = resize(resized_img,(128,128,1),mode='constant', preserve_range=True)\n",
        "        \n",
        "        # Load masks and resize to (128,128,1)\n",
        "        ##/*** Add your code here***/\n",
        "        msk = load_img(mask_path + n, color_mode = 'grayscale')\n",
        "        resized_mask = img_to_array(msk)\n",
        "        resized_mask = resize(resized_mask,(128,128,1),mode='constant', preserve_range=True)\n",
        "        \n",
        "        # Save images\n",
        "        X[k, ..., 0] = resized_img.squeeze() / 255\n",
        "        y[k] = resized_mask/255\n",
        "\n",
        "    print('Done!')\n",
        "    if train:\n",
        "        return X, y\n",
        "    else:\n",
        "        return X\n",
        "    \n",
        "X, y = get_data(train=True)"
      ],
      "execution_count": 0,
      "outputs": [
        {
          "output_type": "stream",
          "text": [
            "Done!\n"
          ],
          "name": "stdout"
        }
      ]
    },
    {
      "cell_type": "code",
      "metadata": {
        "colab_type": "code",
        "id": "kt6zXJPHo35y",
        "colab": {}
      },
      "source": [
        "# Split train and valid\n",
        "from sklearn.model_selection import train_test_split\n",
        "X_train, X_valid, y_train, y_valid = train_test_split(X, y, test_size=0.15, random_state=2019)"
      ],
      "execution_count": 0,
      "outputs": []
    },
    {
      "cell_type": "code",
      "metadata": {
        "colab_type": "code",
        "id": "mh_SRFGro6wr",
        "outputId": "94769976-dfa8-4e91-fbd1-274e19096926",
        "colab": {
          "base_uri": "https://localhost:8080/",
          "height": 319
        }
      },
      "source": [
        "## Test your data whether it looks fine - Random check\n",
        "import random \n",
        "# Check if training data looks all right\n",
        "ix = random.randint(0, len(X_train))\n",
        "has_mask = y_train[ix].max() > 0\n",
        "\n",
        "fig, ax = plt.subplots(1, 2, figsize=(10, 10))\n",
        "\n",
        "ax[0].imshow(X_train[ix, ..., 0], cmap='seismic', interpolation='bilinear')\n",
        "if has_mask:\n",
        "    ax[0].contour(y_train[ix].squeeze(), colors='k', levels=[0.5])\n",
        "ax[0].set_title('Seismic')\n",
        "\n",
        "ax[1].imshow(y_train[ix].squeeze(), interpolation='bilinear', cmap='gray')\n",
        "ax[1].set_title('Salt');\n",
        "\n",
        "\n"
      ],
      "execution_count": 0,
      "outputs": [
        {
          "output_type": "display_data",
          "data": {
            "image/png": "[encoded data removed]",
            "text/plain": [
              "<Figure size 720x720 with 2 Axes>"
            ]
          },
          "metadata": {
            "tags": []
          }
        }
      ]
    },
    {
      "cell_type": "markdown",
      "metadata": {
        "colab_type": "text",
        "id": "em5jGV93o8qR"
      },
      "source": [
        "### 8. Define loss and dice_coeff function."
      ]
    },
    {
      "cell_type": "code",
      "metadata": {
        "colab_type": "code",
        "id": "BcC2clxcF9w4",
        "colab": {}
      },
      "source": [
        "def loss(y_true, y_pred):\n",
        "    return binary_crossentropy(y_true, y_pred) - tf.log(dice_coefficient(y_true, y_pred) + tf.keras.backend.epsilon())"
      ],
      "execution_count": 0,
      "outputs": []
    },
    {
      "cell_type": "code",
      "metadata": {
        "colab_type": "code",
        "id": "GRpjJeb3F9xa",
        "colab": {}
      },
      "source": [
        "def dice_coefficient(y_true, y_pred):\n",
        "    numerator = 2 * tf.reduce_sum(y_true * y_pred)\n",
        "    denominator = tf.reduce_sum(y_true + y_pred)\n",
        "\n",
        "    return numerator / (denominator + tf.keras.backend.epsilon())"
      ],
      "execution_count": 0,
      "outputs": []
    },
    {
      "cell_type": "code",
      "metadata": {
        "colab_type": "code",
        "id": "EmCjyEUUpA_V",
        "colab": {}
      },
      "source": [
        ""
      ],
      "execution_count": 0,
      "outputs": []
    },
    {
      "cell_type": "markdown",
      "metadata": {
        "colab_type": "text",
        "id": "-ofKZA-9pDVJ"
      },
      "source": [
        "### 9. Build and compile UNet Model for your data.\n",
        "\n",
        "Hint - \n",
        "You can install and use segmentation models from this github repository.\n",
        "\n",
        "#Install segmentation models\n",
        "\n",
        "!pip install git+https://github.com/qubvel/segmentation_models"
      ]
    },
    {
      "cell_type": "code",
      "metadata": {
        "id": "IAXwzAQDGPAP",
        "colab_type": "code",
        "colab": {}
      },
      "source": [
        ""
      ],
      "execution_count": 0,
      "outputs": []
    },
    {
      "cell_type": "code",
      "metadata": {
        "colab_type": "code",
        "id": "0_2sObbYqvK2",
        "colab": {}
      },
      "source": [
        "#Install segmentation models\n",
        "\n",
        "#!pip install git+https://github.com/qubvel/segmentation_models"
      ],
      "execution_count": 0,
      "outputs": []
    },
    {
      "cell_type": "code",
      "metadata": {
        "colab_type": "code",
        "id": "456utznCpGco",
        "outputId": "b95a3901-bb95-4629-8fdc-0df3484974a6",
        "colab": {
          "base_uri": "https://localhost:8080/",
          "height": 358
        }
      },
      "source": [
        "#model = Unet(backbone_name='resnet34', encoder_weights=None, input_shape=(None, None, 1))\n",
        "#compile your model by adding the parameters like optimizer, loss and metrics.\n",
        "\n",
        "from segmentation_models import Unet\n",
        "model = Unet(backbone_name='resnet34', encoder_weights=None, input_shape=(None, None, 1))"
      ],
      "execution_count": 0,
      "outputs": [
        {
          "output_type": "stream",
          "text": [
            "/usr/local/lib/python3.6/dist-packages/classification_models/resnext/__init__.py:4: UserWarning: Current ResNext models are deprecated, use keras.applications ResNeXt models\n",
            "  warnings.warn('Current ResNext models are deprecated, '\n",
            "WARNING: Logging before flag parsing goes to stderr.\n",
            "W0802 11:35:46.596065 140649322661760 deprecation_wrapper.py:119] From /usr/local/lib/python3.6/dist-packages/keras/backend/tensorflow_backend.py:517: The name tf.placeholder is deprecated. Please use tf.compat.v1.placeholder instead.\n",
            "\n",
            "W0802 11:35:46.634940 140649322661760 deprecation_wrapper.py:119] From /usr/local/lib/python3.6/dist-packages/keras/backend/tensorflow_backend.py:245: The name tf.get_default_graph is deprecated. Please use tf.compat.v1.get_default_graph instead.\n",
            "\n",
            "W0802 11:35:46.636659 140649322661760 deprecation_wrapper.py:119] From /usr/local/lib/python3.6/dist-packages/keras/backend/tensorflow_backend.py:174: The name tf.get_default_session is deprecated. Please use tf.compat.v1.get_default_session instead.\n",
            "\n",
            "W0802 11:35:46.641266 140649322661760 deprecation_wrapper.py:119] From /usr/local/lib/python3.6/dist-packages/keras/backend/tensorflow_backend.py:181: The name tf.ConfigProto is deprecated. Please use tf.compat.v1.ConfigProto instead.\n",
            "\n",
            "W0802 11:35:46.645431 140649322661760 deprecation_wrapper.py:119] From /usr/local/lib/python3.6/dist-packages/keras/backend/tensorflow_backend.py:186: The name tf.Session is deprecated. Please use tf.compat.v1.Session instead.\n",
            "\n",
            "W0802 11:35:47.234739 140649322661760 deprecation_wrapper.py:119] From /usr/local/lib/python3.6/dist-packages/keras/backend/tensorflow_backend.py:1834: The name tf.nn.fused_batch_norm is deprecated. Please use tf.compat.v1.nn.fused_batch_norm instead.\n",
            "\n",
            "W0802 11:35:47.586566 140649322661760 deprecation_wrapper.py:119] From /usr/local/lib/python3.6/dist-packages/keras/backend/tensorflow_backend.py:3976: The name tf.nn.max_pool is deprecated. Please use tf.nn.max_pool2d instead.\n",
            "\n",
            "W0802 11:35:51.399761 140649322661760 deprecation_wrapper.py:119] From /usr/local/lib/python3.6/dist-packages/keras/backend/tensorflow_backend.py:2018: The name tf.image.resize_nearest_neighbor is deprecated. Please use tf.compat.v1.image.resize_nearest_neighbor instead.\n",
            "\n"
          ],
          "name": "stderr"
        }
      ]
    },
    {
      "cell_type": "code",
      "metadata": {
        "colab_type": "code",
        "id": "oLuxtddFqDu0",
        "outputId": "ac987ff1-c45e-447e-cb63-839bfa519d71",
        "colab": {
          "base_uri": "https://localhost:8080/",
          "height": 121
        }
      },
      "source": [
        "import tensorflow as tf\n",
        "from keras.optimizers import Adam\n",
        "from tensorflow.keras.losses import binary_crossentropy\n",
        "# compile model\n",
        "model.compile(optimizer='Adam', loss=loss, metrics=[dice_coefficient])"
      ],
      "execution_count": 0,
      "outputs": [
        {
          "output_type": "stream",
          "text": [
            "W0802 11:35:52.468940 140649322661760 deprecation_wrapper.py:119] From /usr/local/lib/python3.6/dist-packages/keras/optimizers.py:790: The name tf.train.Optimizer is deprecated. Please use tf.compat.v1.train.Optimizer instead.\n",
            "\n",
            "W0802 11:35:52.501055 140649322661760 deprecation.py:323] From /usr/local/lib/python3.6/dist-packages/tensorflow/python/ops/nn_impl.py:180: add_dispatch_support.<locals>.wrapper (from tensorflow.python.ops.array_ops) is deprecated and will be removed in a future version.\n",
            "Instructions for updating:\n",
            "Use tf.where in 2.0, which has the same broadcast rule as np.where\n"
          ],
          "name": "stderr"
        }
      ]
    },
    {
      "cell_type": "code",
      "metadata": {
        "colab_type": "code",
        "id": "eL1lRlXDpIHl",
        "outputId": "a84e8bea-f32e-47ad-d1be-5e20267e2595",
        "colab": {
          "base_uri": "https://localhost:8080/",
          "height": 1000
        }
      },
      "source": [
        "#Get the summary of your model\n",
        "model.summary()"
      ],
      "execution_count": 0,
      "outputs": [
        {
          "output_type": "stream",
          "text": [
            "__________________________________________________________________________________________________\n",
            "Layer (type)                    Output Shape         Param #     Connected to                     \n",
            "==================================================================================================\n",
            "data (InputLayer)               (None, None, None, 1 0                                            \n",
            "__________________________________________________________________________________________________\n",
            "bn_data (BatchNormalization)    (None, None, None, 1 3           data[0][0]                       \n",
            "__________________________________________________________________________________________________\n",
            "zero_padding2d_1 (ZeroPadding2D (None, None, None, 1 0           bn_data[0][0]                    \n",
            "__________________________________________________________________________________________________\n",
            "conv0 (Conv2D)                  (None, None, None, 6 3136        zero_padding2d_1[0][0]           \n",
            "__________________________________________________________________________________________________\n",
            "bn0 (BatchNormalization)        (None, None, None, 6 256         conv0[0][0]                      \n",
            "__________________________________________________________________________________________________\n",
            "relu0 (Activation)              (None, None, None, 6 0           bn0[0][0]                        \n",
            "__________________________________________________________________________________________________\n",
            "zero_padding2d_2 (ZeroPadding2D (None, None, None, 6 0           relu0[0][0]                      \n",
            "__________________________________________________________________________________________________\n",
            "pooling0 (MaxPooling2D)         (None, None, None, 6 0           zero_padding2d_2[0][0]           \n",
            "__________________________________________________________________________________________________\n",
            "stage1_unit1_bn1 (BatchNormaliz (None, None, None, 6 256         pooling0[0][0]                   \n",
            "__________________________________________________________________________________________________\n",
            "stage1_unit1_relu1 (Activation) (None, None, None, 6 0           stage1_unit1_bn1[0][0]           \n",
            "__________________________________________________________________________________________________\n",
            "zero_padding2d_3 (ZeroPadding2D (None, None, None, 6 0           stage1_unit1_relu1[0][0]         \n",
            "__________________________________________________________________________________________________\n",
            "stage1_unit1_conv1 (Conv2D)     (None, None, None, 6 36864       zero_padding2d_3[0][0]           \n",
            "__________________________________________________________________________________________________\n",
            "stage1_unit1_bn2 (BatchNormaliz (None, None, None, 6 256         stage1_unit1_conv1[0][0]         \n",
            "__________________________________________________________________________________________________\n",
            "stage1_unit1_relu2 (Activation) (None, None, None, 6 0           stage1_unit1_bn2[0][0]           \n",
            "__________________________________________________________________________________________________\n",
            "zero_padding2d_4 (ZeroPadding2D (None, None, None, 6 0           stage1_unit1_relu2[0][0]         \n",
            "__________________________________________________________________________________________________\n",
            "stage1_unit1_conv2 (Conv2D)     (None, None, None, 6 36864       zero_padding2d_4[0][0]           \n",
            "__________________________________________________________________________________________________\n",
            "stage1_unit1_sc (Conv2D)        (None, None, None, 6 4096        stage1_unit1_relu1[0][0]         \n",
            "__________________________________________________________________________________________________\n",
            "add_1 (Add)                     (None, None, None, 6 0           stage1_unit1_conv2[0][0]         \n",
            "                                                                 stage1_unit1_sc[0][0]            \n",
            "__________________________________________________________________________________________________\n",
            "stage1_unit2_bn1 (BatchNormaliz (None, None, None, 6 256         add_1[0][0]                      \n",
            "__________________________________________________________________________________________________\n",
            "stage1_unit2_relu1 (Activation) (None, None, None, 6 0           stage1_unit2_bn1[0][0]           \n",
            "__________________________________________________________________________________________________\n",
            "zero_padding2d_5 (ZeroPadding2D (None, None, None, 6 0           stage1_unit2_relu1[0][0]         \n",
            "__________________________________________________________________________________________________\n",
            "stage1_unit2_conv1 (Conv2D)     (None, None, None, 6 36864       zero_padding2d_5[0][0]           \n",
            "__________________________________________________________________________________________________\n",
            "stage1_unit2_bn2 (BatchNormaliz (None, None, None, 6 256         stage1_unit2_conv1[0][0]         \n",
            "__________________________________________________________________________________________________\n",
            "stage1_unit2_relu2 (Activation) (None, None, None, 6 0           stage1_unit2_bn2[0][0]           \n",
            "__________________________________________________________________________________________________\n",
            "zero_padding2d_6 (ZeroPadding2D (None, None, None, 6 0           stage1_unit2_relu2[0][0]         \n",
            "__________________________________________________________________________________________________\n",
            "stage1_unit2_conv2 (Conv2D)     (None, None, None, 6 36864       zero_padding2d_6[0][0]           \n",
            "__________________________________________________________________________________________________\n",
            "add_2 (Add)                     (None, None, None, 6 0           stage1_unit2_conv2[0][0]         \n",
            "                                                                 add_1[0][0]                      \n",
            "__________________________________________________________________________________________________\n",
            "stage1_unit3_bn1 (BatchNormaliz (None, None, None, 6 256         add_2[0][0]                      \n",
            "__________________________________________________________________________________________________\n",
            "stage1_unit3_relu1 (Activation) (None, None, None, 6 0           stage1_unit3_bn1[0][0]           \n",
            "__________________________________________________________________________________________________\n",
            "zero_padding2d_7 (ZeroPadding2D (None, None, None, 6 0           stage1_unit3_relu1[0][0]         \n",
            "__________________________________________________________________________________________________\n",
            "stage1_unit3_conv1 (Conv2D)     (None, None, None, 6 36864       zero_padding2d_7[0][0]           \n",
            "__________________________________________________________________________________________________\n",
            "stage1_unit3_bn2 (BatchNormaliz (None, None, None, 6 256         stage1_unit3_conv1[0][0]         \n",
            "__________________________________________________________________________________________________\n",
            "stage1_unit3_relu2 (Activation) (None, None, None, 6 0           stage1_unit3_bn2[0][0]           \n",
            "__________________________________________________________________________________________________\n",
            "zero_padding2d_8 (ZeroPadding2D (None, None, None, 6 0           stage1_unit3_relu2[0][0]         \n",
            "__________________________________________________________________________________________________\n",
            "stage1_unit3_conv2 (Conv2D)     (None, None, None, 6 36864       zero_padding2d_8[0][0]           \n",
            "__________________________________________________________________________________________________\n",
            "add_3 (Add)                     (None, None, None, 6 0           stage1_unit3_conv2[0][0]         \n",
            "                                                                 add_2[0][0]                      \n",
            "__________________________________________________________________________________________________\n",
            "stage2_unit1_bn1 (BatchNormaliz (None, None, None, 6 256         add_3[0][0]                      \n",
            "__________________________________________________________________________________________________\n",
            "stage2_unit1_relu1 (Activation) (None, None, None, 6 0           stage2_unit1_bn1[0][0]           \n",
            "__________________________________________________________________________________________________\n",
            "zero_padding2d_9 (ZeroPadding2D (None, None, None, 6 0           stage2_unit1_relu1[0][0]         \n",
            "__________________________________________________________________________________________________\n",
            "stage2_unit1_conv1 (Conv2D)     (None, None, None, 1 73728       zero_padding2d_9[0][0]           \n",
            "__________________________________________________________________________________________________\n",
            "stage2_unit1_bn2 (BatchNormaliz (None, None, None, 1 512         stage2_unit1_conv1[0][0]         \n",
            "__________________________________________________________________________________________________\n",
            "stage2_unit1_relu2 (Activation) (None, None, None, 1 0           stage2_unit1_bn2[0][0]           \n",
            "__________________________________________________________________________________________________\n",
            "zero_padding2d_10 (ZeroPadding2 (None, None, None, 1 0           stage2_unit1_relu2[0][0]         \n",
            "__________________________________________________________________________________________________\n",
            "stage2_unit1_conv2 (Conv2D)     (None, None, None, 1 147456      zero_padding2d_10[0][0]          \n",
            "__________________________________________________________________________________________________\n",
            "stage2_unit1_sc (Conv2D)        (None, None, None, 1 8192        stage2_unit1_relu1[0][0]         \n",
            "__________________________________________________________________________________________________\n",
            "add_4 (Add)                     (None, None, None, 1 0           stage2_unit1_conv2[0][0]         \n",
            "                                                                 stage2_unit1_sc[0][0]            \n",
            "__________________________________________________________________________________________________\n",
            "stage2_unit2_bn1 (BatchNormaliz (None, None, None, 1 512         add_4[0][0]                      \n",
            "__________________________________________________________________________________________________\n",
            "stage2_unit2_relu1 (Activation) (None, None, None, 1 0           stage2_unit2_bn1[0][0]           \n",
            "__________________________________________________________________________________________________\n",
            "zero_padding2d_11 (ZeroPadding2 (None, None, None, 1 0           stage2_unit2_relu1[0][0]         \n",
            "__________________________________________________________________________________________________\n",
            "stage2_unit2_conv1 (Conv2D)     (None, None, None, 1 147456      zero_padding2d_11[0][0]          \n",
            "__________________________________________________________________________________________________\n",
            "stage2_unit2_bn2 (BatchNormaliz (None, None, None, 1 512         stage2_unit2_conv1[0][0]         \n",
            "__________________________________________________________________________________________________\n",
            "stage2_unit2_relu2 (Activation) (None, None, None, 1 0           stage2_unit2_bn2[0][0]           \n",
            "__________________________________________________________________________________________________\n",
            "zero_padding2d_12 (ZeroPadding2 (None, None, None, 1 0           stage2_unit2_relu2[0][0]         \n",
            "__________________________________________________________________________________________________\n",
            "stage2_unit2_conv2 (Conv2D)     (None, None, None, 1 147456      zero_padding2d_12[0][0]          \n",
            "__________________________________________________________________________________________________\n",
            "add_5 (Add)                     (None, None, None, 1 0           stage2_unit2_conv2[0][0]         \n",
            "                                                                 add_4[0][0]                      \n",
            "__________________________________________________________________________________________________\n",
            "stage2_unit3_bn1 (BatchNormaliz (None, None, None, 1 512         add_5[0][0]                      \n",
            "__________________________________________________________________________________________________\n",
            "stage2_unit3_relu1 (Activation) (None, None, None, 1 0           stage2_unit3_bn1[0][0]           \n",
            "__________________________________________________________________________________________________\n",
            "zero_padding2d_13 (ZeroPadding2 (None, None, None, 1 0           stage2_unit3_relu1[0][0]         \n",
            "__________________________________________________________________________________________________\n",
            "stage2_unit3_conv1 (Conv2D)     (None, None, None, 1 147456      zero_padding2d_13[0][0]          \n",
            "__________________________________________________________________________________________________\n",
            "stage2_unit3_bn2 (BatchNormaliz (None, None, None, 1 512         stage2_unit3_conv1[0][0]         \n",
            "__________________________________________________________________________________________________\n",
            "stage2_unit3_relu2 (Activation) (None, None, None, 1 0           stage2_unit3_bn2[0][0]           \n",
            "__________________________________________________________________________________________________\n",
            "zero_padding2d_14 (ZeroPadding2 (None, None, None, 1 0           stage2_unit3_relu2[0][0]         \n",
            "__________________________________________________________________________________________________\n",
            "stage2_unit3_conv2 (Conv2D)     (None, None, None, 1 147456      zero_padding2d_14[0][0]          \n",
            "__________________________________________________________________________________________________\n",
            "add_6 (Add)                     (None, None, None, 1 0           stage2_unit3_conv2[0][0]         \n",
            "                                                                 add_5[0][0]                      \n",
            "__________________________________________________________________________________________________\n",
            "stage2_unit4_bn1 (BatchNormaliz (None, None, None, 1 512         add_6[0][0]                      \n",
            "__________________________________________________________________________________________________\n",
            "stage2_unit4_relu1 (Activation) (None, None, None, 1 0           stage2_unit4_bn1[0][0]           \n",
            "__________________________________________________________________________________________________\n",
            "zero_padding2d_15 (ZeroPadding2 (None, None, None, 1 0           stage2_unit4_relu1[0][0]         \n",
            "__________________________________________________________________________________________________\n",
            "stage2_unit4_conv1 (Conv2D)     (None, None, None, 1 147456      zero_padding2d_15[0][0]          \n",
            "__________________________________________________________________________________________________\n",
            "stage2_unit4_bn2 (BatchNormaliz (None, None, None, 1 512         stage2_unit4_conv1[0][0]         \n",
            "__________________________________________________________________________________________________\n",
            "stage2_unit4_relu2 (Activation) (None, None, None, 1 0           stage2_unit4_bn2[0][0]           \n",
            "__________________________________________________________________________________________________\n",
            "zero_padding2d_16 (ZeroPadding2 (None, None, None, 1 0           stage2_unit4_relu2[0][0]         \n",
            "__________________________________________________________________________________________________\n",
            "stage2_unit4_conv2 (Conv2D)     (None, None, None, 1 147456      zero_padding2d_16[0][0]          \n",
            "__________________________________________________________________________________________________\n",
            "add_7 (Add)                     (None, None, None, 1 0           stage2_unit4_conv2[0][0]         \n",
            "                                                                 add_6[0][0]                      \n",
            "__________________________________________________________________________________________________\n",
            "stage3_unit1_bn1 (BatchNormaliz (None, None, None, 1 512         add_7[0][0]                      \n",
            "__________________________________________________________________________________________________\n",
            "stage3_unit1_relu1 (Activation) (None, None, None, 1 0           stage3_unit1_bn1[0][0]           \n",
            "__________________________________________________________________________________________________\n",
            "zero_padding2d_17 (ZeroPadding2 (None, None, None, 1 0           stage3_unit1_relu1[0][0]         \n",
            "__________________________________________________________________________________________________\n",
            "stage3_unit1_conv1 (Conv2D)     (None, None, None, 2 294912      zero_padding2d_17[0][0]          \n",
            "__________________________________________________________________________________________________\n",
            "stage3_unit1_bn2 (BatchNormaliz (None, None, None, 2 1024        stage3_unit1_conv1[0][0]         \n",
            "__________________________________________________________________________________________________\n",
            "stage3_unit1_relu2 (Activation) (None, None, None, 2 0           stage3_unit1_bn2[0][0]           \n",
            "__________________________________________________________________________________________________\n",
            "zero_padding2d_18 (ZeroPadding2 (None, None, None, 2 0           stage3_unit1_relu2[0][0]         \n",
            "__________________________________________________________________________________________________\n",
            "stage3_unit1_conv2 (Conv2D)     (None, None, None, 2 589824      zero_padding2d_18[0][0]          \n",
            "__________________________________________________________________________________________________\n",
            "stage3_unit1_sc (Conv2D)        (None, None, None, 2 32768       stage3_unit1_relu1[0][0]         \n",
            "__________________________________________________________________________________________________\n",
            "add_8 (Add)                     (None, None, None, 2 0           stage3_unit1_conv2[0][0]         \n",
            "                                                                 stage3_unit1_sc[0][0]            \n",
            "__________________________________________________________________________________________________\n",
            "stage3_unit2_bn1 (BatchNormaliz (None, None, None, 2 1024        add_8[0][0]                      \n",
            "__________________________________________________________________________________________________\n",
            "stage3_unit2_relu1 (Activation) (None, None, None, 2 0           stage3_unit2_bn1[0][0]           \n",
            "__________________________________________________________________________________________________\n",
            "zero_padding2d_19 (ZeroPadding2 (None, None, None, 2 0           stage3_unit2_relu1[0][0]         \n",
            "__________________________________________________________________________________________________\n",
            "stage3_unit2_conv1 (Conv2D)     (None, None, None, 2 589824      zero_padding2d_19[0][0]          \n",
            "__________________________________________________________________________________________________\n",
            "stage3_unit2_bn2 (BatchNormaliz (None, None, None, 2 1024        stage3_unit2_conv1[0][0]         \n",
            "__________________________________________________________________________________________________\n",
            "stage3_unit2_relu2 (Activation) (None, None, None, 2 0           stage3_unit2_bn2[0][0]           \n",
            "__________________________________________________________________________________________________\n",
            "zero_padding2d_20 (ZeroPadding2 (None, None, None, 2 0           stage3_unit2_relu2[0][0]         \n",
            "__________________________________________________________________________________________________\n",
            "stage3_unit2_conv2 (Conv2D)     (None, None, None, 2 589824      zero_padding2d_20[0][0]          \n",
            "__________________________________________________________________________________________________\n",
            "add_9 (Add)                     (None, None, None, 2 0           stage3_unit2_conv2[0][0]         \n",
            "                                                                 add_8[0][0]                      \n",
            "__________________________________________________________________________________________________\n",
            "stage3_unit3_bn1 (BatchNormaliz (None, None, None, 2 1024        add_9[0][0]                      \n",
            "__________________________________________________________________________________________________\n",
            "stage3_unit3_relu1 (Activation) (None, None, None, 2 0           stage3_unit3_bn1[0][0]           \n",
            "__________________________________________________________________________________________________\n",
            "zero_padding2d_21 (ZeroPadding2 (None, None, None, 2 0           stage3_unit3_relu1[0][0]         \n",
            "__________________________________________________________________________________________________\n",
            "stage3_unit3_conv1 (Conv2D)     (None, None, None, 2 589824      zero_padding2d_21[0][0]          \n",
            "__________________________________________________________________________________________________\n",
            "stage3_unit3_bn2 (BatchNormaliz (None, None, None, 2 1024        stage3_unit3_conv1[0][0]         \n",
            "__________________________________________________________________________________________________\n",
            "stage3_unit3_relu2 (Activation) (None, None, None, 2 0           stage3_unit3_bn2[0][0]           \n",
            "__________________________________________________________________________________________________\n",
            "zero_padding2d_22 (ZeroPadding2 (None, None, None, 2 0           stage3_unit3_relu2[0][0]         \n",
            "__________________________________________________________________________________________________\n",
            "stage3_unit3_conv2 (Conv2D)     (None, None, None, 2 589824      zero_padding2d_22[0][0]          \n",
            "__________________________________________________________________________________________________\n",
            "add_10 (Add)                    (None, None, None, 2 0           stage3_unit3_conv2[0][0]         \n",
            "                                                                 add_9[0][0]                      \n",
            "__________________________________________________________________________________________________\n",
            "stage3_unit4_bn1 (BatchNormaliz (None, None, None, 2 1024        add_10[0][0]                     \n",
            "__________________________________________________________________________________________________\n",
            "stage3_unit4_relu1 (Activation) (None, None, None, 2 0           stage3_unit4_bn1[0][0]           \n",
            "__________________________________________________________________________________________________\n",
            "zero_padding2d_23 (ZeroPadding2 (None, None, None, 2 0           stage3_unit4_relu1[0][0]         \n",
            "__________________________________________________________________________________________________\n",
            "stage3_unit4_conv1 (Conv2D)     (None, None, None, 2 589824      zero_padding2d_23[0][0]          \n",
            "__________________________________________________________________________________________________\n",
            "stage3_unit4_bn2 (BatchNormaliz (None, None, None, 2 1024        stage3_unit4_conv1[0][0]         \n",
            "__________________________________________________________________________________________________\n",
            "stage3_unit4_relu2 (Activation) (None, None, None, 2 0           stage3_unit4_bn2[0][0]           \n",
            "__________________________________________________________________________________________________\n",
            "zero_padding2d_24 (ZeroPadding2 (None, None, None, 2 0           stage3_unit4_relu2[0][0]         \n",
            "__________________________________________________________________________________________________\n",
            "stage3_unit4_conv2 (Conv2D)     (None, None, None, 2 589824      zero_padding2d_24[0][0]          \n",
            "__________________________________________________________________________________________________\n",
            "add_11 (Add)                    (None, None, None, 2 0           stage3_unit4_conv2[0][0]         \n",
            "                                                                 add_10[0][0]                     \n",
            "__________________________________________________________________________________________________\n",
            "stage3_unit5_bn1 (BatchNormaliz (None, None, None, 2 1024        add_11[0][0]                     \n",
            "__________________________________________________________________________________________________\n",
            "stage3_unit5_relu1 (Activation) (None, None, None, 2 0           stage3_unit5_bn1[0][0]           \n",
            "__________________________________________________________________________________________________\n",
            "zero_padding2d_25 (ZeroPadding2 (None, None, None, 2 0           stage3_unit5_relu1[0][0]         \n",
            "__________________________________________________________________________________________________\n",
            "stage3_unit5_conv1 (Conv2D)     (None, None, None, 2 589824      zero_padding2d_25[0][0]          \n",
            "__________________________________________________________________________________________________\n",
            "stage3_unit5_bn2 (BatchNormaliz (None, None, None, 2 1024        stage3_unit5_conv1[0][0]         \n",
            "__________________________________________________________________________________________________\n",
            "stage3_unit5_relu2 (Activation) (None, None, None, 2 0           stage3_unit5_bn2[0][0]           \n",
            "__________________________________________________________________________________________________\n",
            "zero_padding2d_26 (ZeroPadding2 (None, None, None, 2 0           stage3_unit5_relu2[0][0]         \n",
            "__________________________________________________________________________________________________\n",
            "stage3_unit5_conv2 (Conv2D)     (None, None, None, 2 589824      zero_padding2d_26[0][0]          \n",
            "__________________________________________________________________________________________________\n",
            "add_12 (Add)                    (None, None, None, 2 0           stage3_unit5_conv2[0][0]         \n",
            "                                                                 add_11[0][0]                     \n",
            "__________________________________________________________________________________________________\n",
            "stage3_unit6_bn1 (BatchNormaliz (None, None, None, 2 1024        add_12[0][0]                     \n",
            "__________________________________________________________________________________________________\n",
            "stage3_unit6_relu1 (Activation) (None, None, None, 2 0           stage3_unit6_bn1[0][0]           \n",
            "__________________________________________________________________________________________________\n",
            "zero_padding2d_27 (ZeroPadding2 (None, None, None, 2 0           stage3_unit6_relu1[0][0]         \n",
            "__________________________________________________________________________________________________\n",
            "stage3_unit6_conv1 (Conv2D)     (None, None, None, 2 589824      zero_padding2d_27[0][0]          \n",
            "__________________________________________________________________________________________________\n",
            "stage3_unit6_bn2 (BatchNormaliz (None, None, None, 2 1024        stage3_unit6_conv1[0][0]         \n",
            "__________________________________________________________________________________________________\n",
            "stage3_unit6_relu2 (Activation) (None, None, None, 2 0           stage3_unit6_bn2[0][0]           \n",
            "__________________________________________________________________________________________________\n",
            "zero_padding2d_28 (ZeroPadding2 (None, None, None, 2 0           stage3_unit6_relu2[0][0]         \n",
            "__________________________________________________________________________________________________\n",
            "stage3_unit6_conv2 (Conv2D)     (None, None, None, 2 589824      zero_padding2d_28[0][0]          \n",
            "__________________________________________________________________________________________________\n",
            "add_13 (Add)                    (None, None, None, 2 0           stage3_unit6_conv2[0][0]         \n",
            "                                                                 add_12[0][0]                     \n",
            "__________________________________________________________________________________________________\n",
            "stage4_unit1_bn1 (BatchNormaliz (None, None, None, 2 1024        add_13[0][0]                     \n",
            "__________________________________________________________________________________________________\n",
            "stage4_unit1_relu1 (Activation) (None, None, None, 2 0           stage4_unit1_bn1[0][0]           \n",
            "__________________________________________________________________________________________________\n",
            "zero_padding2d_29 (ZeroPadding2 (None, None, None, 2 0           stage4_unit1_relu1[0][0]         \n",
            "__________________________________________________________________________________________________\n",
            "stage4_unit1_conv1 (Conv2D)     (None, None, None, 5 1179648     zero_padding2d_29[0][0]          \n",
            "__________________________________________________________________________________________________\n",
            "stage4_unit1_bn2 (BatchNormaliz (None, None, None, 5 2048        stage4_unit1_conv1[0][0]         \n",
            "__________________________________________________________________________________________________\n",
            "stage4_unit1_relu2 (Activation) (None, None, None, 5 0           stage4_unit1_bn2[0][0]           \n",
            "__________________________________________________________________________________________________\n",
            "zero_padding2d_30 (ZeroPadding2 (None, None, None, 5 0           stage4_unit1_relu2[0][0]         \n",
            "__________________________________________________________________________________________________\n",
            "stage4_unit1_conv2 (Conv2D)     (None, None, None, 5 2359296     zero_padding2d_30[0][0]          \n",
            "__________________________________________________________________________________________________\n",
            "stage4_unit1_sc (Conv2D)        (None, None, None, 5 131072      stage4_unit1_relu1[0][0]         \n",
            "__________________________________________________________________________________________________\n",
            "add_14 (Add)                    (None, None, None, 5 0           stage4_unit1_conv2[0][0]         \n",
            "                                                                 stage4_unit1_sc[0][0]            \n",
            "__________________________________________________________________________________________________\n",
            "stage4_unit2_bn1 (BatchNormaliz (None, None, None, 5 2048        add_14[0][0]                     \n",
            "__________________________________________________________________________________________________\n",
            "stage4_unit2_relu1 (Activation) (None, None, None, 5 0           stage4_unit2_bn1[0][0]           \n",
            "__________________________________________________________________________________________________\n",
            "zero_padding2d_31 (ZeroPadding2 (None, None, None, 5 0           stage4_unit2_relu1[0][0]         \n",
            "__________________________________________________________________________________________________\n",
            "stage4_unit2_conv1 (Conv2D)     (None, None, None, 5 2359296     zero_padding2d_31[0][0]          \n",
            "__________________________________________________________________________________________________\n",
            "stage4_unit2_bn2 (BatchNormaliz (None, None, None, 5 2048        stage4_unit2_conv1[0][0]         \n",
            "__________________________________________________________________________________________________\n",
            "stage4_unit2_relu2 (Activation) (None, None, None, 5 0           stage4_unit2_bn2[0][0]           \n",
            "__________________________________________________________________________________________________\n",
            "zero_padding2d_32 (ZeroPadding2 (None, None, None, 5 0           stage4_unit2_relu2[0][0]         \n",
            "__________________________________________________________________________________________________\n",
            "stage4_unit2_conv2 (Conv2D)     (None, None, None, 5 2359296     zero_padding2d_32[0][0]          \n",
            "__________________________________________________________________________________________________\n",
            "add_15 (Add)                    (None, None, None, 5 0           stage4_unit2_conv2[0][0]         \n",
            "                                                                 add_14[0][0]                     \n",
            "__________________________________________________________________________________________________\n",
            "stage4_unit3_bn1 (BatchNormaliz (None, None, None, 5 2048        add_15[0][0]                     \n",
            "__________________________________________________________________________________________________\n",
            "stage4_unit3_relu1 (Activation) (None, None, None, 5 0           stage4_unit3_bn1[0][0]           \n",
            "__________________________________________________________________________________________________\n",
            "zero_padding2d_33 (ZeroPadding2 (None, None, None, 5 0           stage4_unit3_relu1[0][0]         \n",
            "__________________________________________________________________________________________________\n",
            "stage4_unit3_conv1 (Conv2D)     (None, None, None, 5 2359296     zero_padding2d_33[0][0]          \n",
            "__________________________________________________________________________________________________\n",
            "stage4_unit3_bn2 (BatchNormaliz (None, None, None, 5 2048        stage4_unit3_conv1[0][0]         \n",
            "__________________________________________________________________________________________________\n",
            "stage4_unit3_relu2 (Activation) (None, None, None, 5 0           stage4_unit3_bn2[0][0]           \n",
            "__________________________________________________________________________________________________\n",
            "zero_padding2d_34 (ZeroPadding2 (None, None, None, 5 0           stage4_unit3_relu2[0][0]         \n",
            "__________________________________________________________________________________________________\n",
            "stage4_unit3_conv2 (Conv2D)     (None, None, None, 5 2359296     zero_padding2d_34[0][0]          \n",
            "__________________________________________________________________________________________________\n",
            "add_16 (Add)                    (None, None, None, 5 0           stage4_unit3_conv2[0][0]         \n",
            "                                                                 add_15[0][0]                     \n",
            "__________________________________________________________________________________________________\n",
            "bn1 (BatchNormalization)        (None, None, None, 5 2048        add_16[0][0]                     \n",
            "__________________________________________________________________________________________________\n",
            "relu1 (Activation)              (None, None, None, 5 0           bn1[0][0]                        \n",
            "__________________________________________________________________________________________________\n",
            "decoder_stage0_upsample (UpSamp (None, None, None, 5 0           relu1[0][0]                      \n",
            "__________________________________________________________________________________________________\n",
            "concatenate_1 (Concatenate)     (None, None, None, 7 0           decoder_stage0_upsample[0][0]    \n",
            "                                                                 stage4_unit1_relu1[0][0]         \n",
            "__________________________________________________________________________________________________\n",
            "decoder_stage0_conv1 (Conv2D)   (None, None, None, 2 1769472     concatenate_1[0][0]              \n",
            "__________________________________________________________________________________________________\n",
            "decoder_stage0_bn1 (BatchNormal (None, None, None, 2 1024        decoder_stage0_conv1[0][0]       \n",
            "__________________________________________________________________________________________________\n",
            "decoder_stage0_relu1 (Activatio (None, None, None, 2 0           decoder_stage0_bn1[0][0]         \n",
            "__________________________________________________________________________________________________\n",
            "decoder_stage0_conv2 (Conv2D)   (None, None, None, 2 589824      decoder_stage0_relu1[0][0]       \n",
            "__________________________________________________________________________________________________\n",
            "decoder_stage0_bn2 (BatchNormal (None, None, None, 2 1024        decoder_stage0_conv2[0][0]       \n",
            "__________________________________________________________________________________________________\n",
            "decoder_stage0_relu2 (Activatio (None, None, None, 2 0           decoder_stage0_bn2[0][0]         \n",
            "__________________________________________________________________________________________________\n",
            "decoder_stage1_upsample (UpSamp (None, None, None, 2 0           decoder_stage0_relu2[0][0]       \n",
            "__________________________________________________________________________________________________\n",
            "concatenate_2 (Concatenate)     (None, None, None, 3 0           decoder_stage1_upsample[0][0]    \n",
            "                                                                 stage3_unit1_relu1[0][0]         \n",
            "__________________________________________________________________________________________________\n",
            "decoder_stage1_conv1 (Conv2D)   (None, None, None, 1 442368      concatenate_2[0][0]              \n",
            "__________________________________________________________________________________________________\n",
            "decoder_stage1_bn1 (BatchNormal (None, None, None, 1 512         decoder_stage1_conv1[0][0]       \n",
            "__________________________________________________________________________________________________\n",
            "decoder_stage1_relu1 (Activatio (None, None, None, 1 0           decoder_stage1_bn1[0][0]         \n",
            "__________________________________________________________________________________________________\n",
            "decoder_stage1_conv2 (Conv2D)   (None, None, None, 1 147456      decoder_stage1_relu1[0][0]       \n",
            "__________________________________________________________________________________________________\n",
            "decoder_stage1_bn2 (BatchNormal (None, None, None, 1 512         decoder_stage1_conv2[0][0]       \n",
            "__________________________________________________________________________________________________\n",
            "decoder_stage1_relu2 (Activatio (None, None, None, 1 0           decoder_stage1_bn2[0][0]         \n",
            "__________________________________________________________________________________________________\n",
            "decoder_stage2_upsample (UpSamp (None, None, None, 1 0           decoder_stage1_relu2[0][0]       \n",
            "__________________________________________________________________________________________________\n",
            "concatenate_3 (Concatenate)     (None, None, None, 1 0           decoder_stage2_upsample[0][0]    \n",
            "                                                                 stage2_unit1_relu1[0][0]         \n",
            "__________________________________________________________________________________________________\n",
            "decoder_stage2_conv1 (Conv2D)   (None, None, None, 6 110592      concatenate_3[0][0]              \n",
            "__________________________________________________________________________________________________\n",
            "decoder_stage2_bn1 (BatchNormal (None, None, None, 6 256         decoder_stage2_conv1[0][0]       \n",
            "__________________________________________________________________________________________________\n",
            "decoder_stage2_relu1 (Activatio (None, None, None, 6 0           decoder_stage2_bn1[0][0]         \n",
            "__________________________________________________________________________________________________\n",
            "decoder_stage2_conv2 (Conv2D)   (None, None, None, 6 36864       decoder_stage2_relu1[0][0]       \n",
            "__________________________________________________________________________________________________\n",
            "decoder_stage2_bn2 (BatchNormal (None, None, None, 6 256         decoder_stage2_conv2[0][0]       \n",
            "__________________________________________________________________________________________________\n",
            "decoder_stage2_relu2 (Activatio (None, None, None, 6 0           decoder_stage2_bn2[0][0]         \n",
            "__________________________________________________________________________________________________\n",
            "decoder_stage3_upsample (UpSamp (None, None, None, 6 0           decoder_stage2_relu2[0][0]       \n",
            "__________________________________________________________________________________________________\n",
            "concatenate_4 (Concatenate)     (None, None, None, 1 0           decoder_stage3_upsample[0][0]    \n",
            "                                                                 relu0[0][0]                      \n",
            "__________________________________________________________________________________________________\n",
            "decoder_stage3_conv1 (Conv2D)   (None, None, None, 3 36864       concatenate_4[0][0]              \n",
            "__________________________________________________________________________________________________\n",
            "decoder_stage3_bn1 (BatchNormal (None, None, None, 3 128         decoder_stage3_conv1[0][0]       \n",
            "__________________________________________________________________________________________________\n",
            "decoder_stage3_relu1 (Activatio (None, None, None, 3 0           decoder_stage3_bn1[0][0]         \n",
            "__________________________________________________________________________________________________\n",
            "decoder_stage3_conv2 (Conv2D)   (None, None, None, 3 9216        decoder_stage3_relu1[0][0]       \n",
            "__________________________________________________________________________________________________\n",
            "decoder_stage3_bn2 (BatchNormal (None, None, None, 3 128         decoder_stage3_conv2[0][0]       \n",
            "__________________________________________________________________________________________________\n",
            "decoder_stage3_relu2 (Activatio (None, None, None, 3 0           decoder_stage3_bn2[0][0]         \n",
            "__________________________________________________________________________________________________\n",
            "decoder_stage4_upsample (UpSamp (None, None, None, 3 0           decoder_stage3_relu2[0][0]       \n",
            "__________________________________________________________________________________________________\n",
            "decoder_stage4_conv1 (Conv2D)   (None, None, None, 1 4608        decoder_stage4_upsample[0][0]    \n",
            "__________________________________________________________________________________________________\n",
            "decoder_stage4_bn1 (BatchNormal (None, None, None, 1 64          decoder_stage4_conv1[0][0]       \n",
            "__________________________________________________________________________________________________\n",
            "decoder_stage4_relu1 (Activatio (None, None, None, 1 0           decoder_stage4_bn1[0][0]         \n",
            "__________________________________________________________________________________________________\n",
            "decoder_stage4_conv2 (Conv2D)   (None, None, None, 1 2304        decoder_stage4_relu1[0][0]       \n",
            "__________________________________________________________________________________________________\n",
            "decoder_stage4_bn2 (BatchNormal (None, None, None, 1 64          decoder_stage4_conv2[0][0]       \n",
            "__________________________________________________________________________________________________\n",
            "decoder_stage4_relu2 (Activatio (None, None, None, 1 0           decoder_stage4_bn2[0][0]         \n",
            "__________________________________________________________________________________________________\n",
            "final_conv (Conv2D)             (None, None, None, 1 145         decoder_stage4_relu2[0][0]       \n",
            "__________________________________________________________________________________________________\n",
            "sigmoid (Activation)            (None, None, None, 1 0           final_conv[0][0]                 \n",
            "==================================================================================================\n",
            "Total params: 24,449,876\n",
            "Trainable params: 24,432,530\n",
            "Non-trainable params: 17,346\n",
            "__________________________________________________________________________________________________\n"
          ],
          "name": "stdout"
        }
      ]
    },
    {
      "cell_type": "code",
      "metadata": {
        "colab_type": "code",
        "id": "cA4f4oYYpJA6",
        "colab": {}
      },
      "source": [
        "from segmentation_models.backbones import get_preprocessing\n",
        "from segmentation_models.losses import bce_jaccard_loss\n",
        "from segmentation_models.metrics import iou_score"
      ],
      "execution_count": 0,
      "outputs": []
    },
    {
      "cell_type": "code",
      "metadata": {
        "colab_type": "code",
        "id": "bLIU-ixjv_cG",
        "colab": {}
      },
      "source": [
        "BACKBONE = 'resnet34'\n",
        "preprocess_input = get_preprocessing(BACKBONE)"
      ],
      "execution_count": 0,
      "outputs": []
    },
    {
      "cell_type": "code",
      "metadata": {
        "colab_type": "code",
        "id": "JUeL3-55wMRw",
        "colab": {}
      },
      "source": [
        "x_train = preprocess_input(X_train)\n",
        "x_val = preprocess_input(X_valid)"
      ],
      "execution_count": 0,
      "outputs": []
    },
    {
      "cell_type": "markdown",
      "metadata": {
        "colab_type": "text",
        "id": "6UYvb8OdpLV5"
      },
      "source": [
        "### 10. Fit your model using model.fit function.\n",
        "Hint - As it might take long time to run. Run it for only 1 or 2 epochs."
      ]
    },
    {
      "cell_type": "code",
      "metadata": {
        "colab_type": "code",
        "id": "bFw1Yq06pQbp",
        "outputId": "d25f0515-9058-4c3f-f414-2d8af859eccd",
        "colab": {
          "base_uri": "https://localhost:8080/",
          "height": 220
        }
      },
      "source": [
        "results = model.fit(\n",
        "    x=x_train,\n",
        "    y=y_train,\n",
        "    batch_size=50,    \n",
        "    epochs=5,\n",
        "    validation_data=(x_val, y_valid)\n",
        ")\n",
        "results"
      ],
      "execution_count": 0,
      "outputs": [
        {
          "output_type": "stream",
          "text": [
            "Train on 3400 samples, validate on 600 samples\n",
            "Epoch 1/5\n",
            "3400/3400 [==============================] - 54s 16ms/step - loss: 1.0952 - dice_coefficient: 0.5510 - val_loss: 2.2913 - val_dice_coefficient: 0.5330\n",
            "Epoch 2/5\n",
            "3400/3400 [==============================] - 40s 12ms/step - loss: 0.7034 - dice_coefficient: 0.6957 - val_loss: 1.1764 - val_dice_coefficient: 0.6228\n",
            "Epoch 3/5\n",
            "3400/3400 [==============================] - 40s 12ms/step - loss: 0.6420 - dice_coefficient: 0.7230 - val_loss: 1.4252 - val_dice_coefficient: 0.6486\n",
            "Epoch 4/5\n",
            "3400/3400 [==============================] - 40s 12ms/step - loss: 0.6188 - dice_coefficient: 0.7312 - val_loss: 1.2967 - val_dice_coefficient: 0.6552\n",
            "Epoch 5/5\n",
            "3400/3400 [==============================] - 40s 12ms/step - loss: 0.5962 - dice_coefficient: 0.7392 - val_loss: 1.1368 - val_dice_coefficient: 0.6867\n"
          ],
          "name": "stdout"
        },
        {
          "output_type": "execute_result",
          "data": {
            "text/plain": [
              "<keras.callbacks.History at 0x7feac62802e8>"
            ]
          },
          "metadata": {
            "tags": []
          },
          "execution_count": 34
        }
      ]
    },
    {
      "cell_type": "markdown",
      "metadata": {
        "colab_type": "text",
        "id": "iH34vMq9pSnh"
      },
      "source": [
        "### 11.Predict on val set using model.predict funtion and store in preds_val variable.\n",
        "\n"
      ]
    },
    {
      "cell_type": "code",
      "metadata": {
        "colab_type": "code",
        "outputId": "88295238-c990-4a94-acda-a8026b2ab657",
        "id": "xu1dG8GWHwQf",
        "colab": {
          "base_uri": "https://localhost:8080/",
          "height": 51
        }
      },
      "source": [
        "# evaluate the model\n",
        "model.evaluate(x_val, y_valid, verbose=1)"
      ],
      "execution_count": 0,
      "outputs": [
        {
          "output_type": "stream",
          "text": [
            "600/600 [==============================] - 3s 5ms/step\n"
          ],
          "name": "stdout"
        },
        {
          "output_type": "execute_result",
          "data": {
            "text/plain": [
              "[1.1460541462898255, 0.6832783691088359]"
            ]
          },
          "metadata": {
            "tags": []
          },
          "execution_count": 35
        }
      ]
    },
    {
      "cell_type": "code",
      "metadata": {
        "colab_type": "code",
        "id": "o635Tce9xOoG",
        "outputId": "cced5658-8791-4419-8cc2-c29c562a70f4",
        "colab": {
          "base_uri": "https://localhost:8080/",
          "height": 51
        }
      },
      "source": [
        "# Predict on train, val and test\n",
        "preds_train = model.predict(x_train, verbose=1)\n",
        "preds_val = model.predict(x_val, verbose=1)"
      ],
      "execution_count": 0,
      "outputs": [
        {
          "output_type": "stream",
          "text": [
            "3400/3400 [==============================] - 12s 4ms/step\n",
            "600/600 [==============================] - 2s 3ms/step\n"
          ],
          "name": "stdout"
        }
      ]
    },
    {
      "cell_type": "code",
      "metadata": {
        "colab_type": "code",
        "id": "jZDjfHgpxh7i",
        "colab": {}
      },
      "source": [
        "import numpy as np"
      ],
      "execution_count": 0,
      "outputs": []
    },
    {
      "cell_type": "code",
      "metadata": {
        "colab_type": "code",
        "id": "uKkpE3vEpXi8",
        "colab": {}
      },
      "source": [
        "#Get the threshold predictions to look at refined results.\n",
        "preds_val_t = (preds_val > 0.5).astype(np.uint8)"
      ],
      "execution_count": 0,
      "outputs": []
    },
    {
      "cell_type": "code",
      "metadata": {
        "colab_type": "code",
        "id": "Pyn3RyCRpaRH",
        "colab": {}
      },
      "source": [
        "#Plot a sample\n",
        "def plot_sample(X, y, preds, binary_preds, ix=None):\n",
        "    if ix is None:\n",
        "        ix = random.randint(0, len(X))\n",
        "\n",
        "    has_mask = y[ix].max() > 0\n",
        "\n",
        "    fig, ax = plt.subplots(1, 4, figsize=(20, 10))\n",
        "    ax[0].imshow(X[ix, ..., 0], cmap='seismic')\n",
        "    if has_mask:\n",
        "        ax[0].contour(y[ix].squeeze(), colors='k', levels=[0.5])\n",
        "    ax[0].set_title('Seismic')\n",
        "\n",
        "    ax[1].imshow(y[ix].squeeze())\n",
        "    ax[1].set_title('Salt')\n",
        "\n",
        "    ax[2].imshow(preds[ix].squeeze(), vmin=0, vmax=1)\n",
        "    if has_mask:\n",
        "        ax[2].contour(y[ix].squeeze(), colors='k', levels=[0.5])\n",
        "    ax[2].set_title('Salt Predicted')\n",
        "    \n",
        "    ax[3].imshow(binary_preds[ix].squeeze(), vmin=0, vmax=1)\n",
        "    if has_mask:\n",
        "        ax[3].contour(y[ix].squeeze(), colors='k', levels=[0.5])\n",
        "    ax[3].set_title('Salt Predicted binary');"
      ],
      "execution_count": 0,
      "outputs": []
    },
    {
      "cell_type": "code",
      "metadata": {
        "colab_type": "code",
        "id": "s_h5fcgYpbyR",
        "outputId": "956469eb-a99b-47b9-ca5f-631ba7ef5fc1",
        "colab": {
          "base_uri": "https://localhost:8080/",
          "height": 308
        }
      },
      "source": [
        "# Check if valid data looks all right\n",
        "plot_sample(X_valid, y_valid, preds_val, preds_val_t, ix=15)"
      ],
      "execution_count": 0,
      "outputs": [
        {
          "output_type": "display_data",
          "data": {
            "image/png": "[encoded data removed]",
            "text/plain": [
              "<Figure size 1440x720 with 4 Axes>"
            ]
          },
          "metadata": {
            "tags": []
          }
        }
      ]
    },
    {
      "cell_type": "markdown",
      "metadata": {
        "colab_type": "text",
        "id": "oasnhlaDpeU0"
      },
      "source": [
        "If you are getting good results- Congratulations.\n",
        "If you are not, try to explore what might be the reason."
      ]
    },
    {
      "cell_type": "code",
      "metadata": {
        "colab_type": "code",
        "id": "u2rsWiNQyTnv",
        "outputId": "46acd27b-8581-411e-d18f-0406f820e6e8",
        "colab": {
          "base_uri": "https://localhost:8080/",
          "height": 517
        }
      },
      "source": [
        "plt.figure(figsize=(8, 8))\n",
        "plt.title(\"Learning curve\")\n",
        "plt.plot(results.history[\"loss\"], label=\"loss\")\n",
        "plt.plot(results.history[\"val_loss\"], label=\"val_loss\")\n",
        "plt.plot( np.argmin(results.history[\"val_loss\"]), np.min(results.history[\"val_loss\"]), marker=\"x\", color=\"r\", label=\"best model\")\n",
        "plt.xlabel(\"Epochs\")\n",
        "plt.ylabel(\"log_loss\")\n",
        "plt.legend();"
      ],
      "execution_count": 0,
      "outputs": [
        {
          "output_type": "display_data",
          "data": {
            "image/png": "[encoded data removed]",
            "text/plain": [
              "<Figure size 576x576 with 1 Axes>"
            ]
          },
          "metadata": {
            "tags": []
          }
        }
      ]
    },
    {
      "cell_type": "markdown",
      "metadata": {
        "colab_type": "text",
        "id": "yllJR0PQpm4M"
      },
      "source": [
        "# Text generation using a RNN"
      ]
    },
    {
      "cell_type": "markdown",
      "metadata": {
        "colab_type": "text",
        "id": "2W6g03QsptwG"
      },
      "source": [
        "Given a sequence of words from this data, train a model to predict the next word in the sequence. Longer sequences of text can be generated by calling the model repeatedly."
      ]
    },
    {
      "cell_type": "markdown",
      "metadata": {
        "colab_type": "text",
        "id": "hbd3E0IuHwjz"
      },
      "source": [
        "**Mount your Google Drive**"
      ]
    },
    {
      "cell_type": "code",
      "metadata": {
        "colab_type": "code",
        "id": "Dikrw1ylHtAL",
        "colab": {}
      },
      "source": [
        ""
      ],
      "execution_count": 0,
      "outputs": []
    },
    {
      "cell_type": "code",
      "metadata": {
        "colab_type": "code",
        "outputId": "197fa7ff-f223-4f93-d301-be0c2230b3eb",
        "id": "2sjYGKX_I9D2",
        "colab": {
          "base_uri": "https://localhost:8080/",
          "height": 34
        }
      },
      "source": [
        "from google.colab import drive\n",
        "drive.mount('/content/drive/')"
      ],
      "execution_count": 0,
      "outputs": [
        {
          "output_type": "stream",
          "text": [
            "Drive already mounted at /content/drive/; to attempt to forcibly remount, call drive.mount(\"/content/drive/\", force_remount=True).\n"
          ],
          "name": "stdout"
        }
      ]
    },
    {
      "cell_type": "code",
      "metadata": {
        "colab_type": "code",
        "id": "XBwBDKNXI9ET",
        "colab": {}
      },
      "source": [
        "project_path = '/content/drive/My Drive/AIML/External Lab/'\n",
        "os.chdir(project_path)\n",
        "\n"
      ],
      "execution_count": 0,
      "outputs": []
    },
    {
      "cell_type": "code",
      "metadata": {
        "colab_type": "code",
        "id": "YLMCPQzRWj2w",
        "outputId": "1b884a13-eb80-4c6a-cf05-73f8fc0a3b36",
        "colab": {
          "base_uri": "https://localhost:8080/",
          "height": 34
        }
      },
      "source": [
        "project_path"
      ],
      "execution_count": 0,
      "outputs": [
        {
          "output_type": "execute_result",
          "data": {
            "text/plain": [
              "'/content/drive/My Drive/AIML/External Lab/'"
            ]
          },
          "metadata": {
            "tags": []
          },
          "execution_count": 45
        }
      ]
    },
    {
      "cell_type": "code",
      "metadata": {
        "colab_type": "code",
        "id": "v1VF4qX43fpR",
        "colab": {}
      },
      "source": [
        "#For simplicity we have added the required code here.\n",
        "from zipfile import ZipFile\n",
        "\n",
        "with ZipFile(project_path + 'data.zip', 'r') as zf:\n",
        "  zf.extractall('')"
      ],
      "execution_count": 0,
      "outputs": []
    },
    {
      "cell_type": "code",
      "metadata": {
        "colab_type": "code",
        "id": "8_uTQu4nIGzm",
        "colab": {}
      },
      "source": [
        ""
      ],
      "execution_count": 0,
      "outputs": []
    },
    {
      "cell_type": "markdown",
      "metadata": {
        "colab_type": "text",
        "id": "fnIX_mLXHdxS"
      },
      "source": [
        "### Import Keras and other libraries"
      ]
    },
    {
      "cell_type": "code",
      "metadata": {
        "colab_type": "code",
        "id": "0TmrQuvpHdxU",
        "colab": {}
      },
      "source": [
        "import glob\n",
        "\n",
        "from sklearn.utils import shuffle\n",
        "import numpy as np\n",
        "\n",
        "from keras.preprocessing.text import Tokenizer\n",
        "from keras.models import Sequential, load_model\n",
        "from keras.layers import LSTM, Dense, Dropout, Embedding, Masking, Bidirectional\n",
        "from keras.optimizers import Adam\n",
        "from keras import backend"
      ],
      "execution_count": 0,
      "outputs": []
    },
    {
      "cell_type": "markdown",
      "metadata": {
        "colab_type": "text",
        "id": "zKBXQflGlPjG"
      },
      "source": [
        "## Download data\n",
        "Reference: Data is collected from http://www.gutenberg.org\n",
        "\n",
        "For the lab purpose, you can load the dataset provided by Great Learning"
      ]
    },
    {
      "cell_type": "markdown",
      "metadata": {
        "colab_type": "text",
        "id": "s321mV4DHdxZ"
      },
      "source": [
        "### Load the Oscar Wilde dataset\n",
        "\n",
        "Store all the \".txt\" file names in a list"
      ]
    },
    {
      "cell_type": "code",
      "metadata": {
        "colab_type": "code",
        "id": "VUanlzNJHdxa",
        "colab": {}
      },
      "source": [
        "oscarlist = glob.glob(\"./data/*.txt\")"
      ],
      "execution_count": 0,
      "outputs": []
    },
    {
      "cell_type": "markdown",
      "metadata": {
        "colab_type": "text",
        "id": "glr4hv6uZkL-"
      },
      "source": [
        "### Read the data\n",
        "\n",
        "Read contents of every file from the list and append the text in a new list"
      ]
    },
    {
      "cell_type": "code",
      "metadata": {
        "colab_type": "code",
        "id": "zLrMMjrkRt9x",
        "colab": {}
      },
      "source": [
        "codetext = []\n",
        "bookranges = []\n",
        "for oscarfile in oscarlist:\n",
        "    oscartext = open(oscarfile, \"r\")\n",
        "    start = len(codetext)\n",
        "    codetext.append(oscartext.read())\n",
        "    end = len(codetext)\n",
        "    bookranges.append({\"start\": start, \"end\": end, \"name\": oscarfile.rsplit(\"/\", 1)[-1]})\n",
        "    oscartext.close()"
      ],
      "execution_count": 0,
      "outputs": []
    },
    {
      "cell_type": "markdown",
      "metadata": {
        "colab_type": "text",
        "id": "jMX-Fu-GHdxj"
      },
      "source": [
        "## Process the text\n",
        "Initialize and fit the tokenizer"
      ]
    },
    {
      "cell_type": "code",
      "metadata": {
        "colab_type": "code",
        "id": "zQf1AV8wHdxl",
        "colab": {}
      },
      "source": [
        "tokenizer = Tokenizer(lower=True, filters='!\"#$%&()*+,-./:;<=>?@[\\\\]^_`{|}~\\t\\n')\n",
        "tokenizer.fit_on_texts(codetext)"
      ],
      "execution_count": 0,
      "outputs": []
    },
    {
      "cell_type": "markdown",
      "metadata": {
        "colab_type": "text",
        "id": "vpZ0A2-xHdxp"
      },
      "source": [
        "### Vectorize the text\n",
        "\n",
        "Before training, we need to map strings to a numerical representation. Create two lookup tables: one mapping words to numbers, and another for numbers to words."
      ]
    },
    {
      "cell_type": "code",
      "metadata": {
        "colab_type": "code",
        "id": "_Nsq-rSPHdxq",
        "colab": {}
      },
      "source": [
        ""
      ],
      "execution_count": 0,
      "outputs": []
    },
    {
      "cell_type": "code",
      "metadata": {
        "colab_type": "code",
        "id": "99iWxiboJ6v1",
        "colab": {}
      },
      "source": [
        "word_idx = tokenizer.word_index\n",
        "idx_word = tokenizer.index_word"
      ],
      "execution_count": 0,
      "outputs": []
    },
    {
      "cell_type": "markdown",
      "metadata": {
        "colab_type": "text",
        "id": "YMYdjx4aHdxu"
      },
      "source": [
        "Get the word count for every word and also get the total number of words."
      ]
    },
    {
      "cell_type": "code",
      "metadata": {
        "colab_type": "code",
        "id": "ioEZ2c21Hdxw",
        "colab": {}
      },
      "source": [
        "word_counts = tokenizer.word_counts\n",
        "num_words = len(word_idx) + 1"
      ],
      "execution_count": 0,
      "outputs": []
    },
    {
      "cell_type": "markdown",
      "metadata": {
        "colab_type": "text",
        "id": "dWUBr9rHHdx0"
      },
      "source": [
        "Convert text to sequence of numbers"
      ]
    },
    {
      "cell_type": "code",
      "metadata": {
        "colab_type": "code",
        "id": "dwLl0BWKHdx2",
        "colab": {}
      },
      "source": [
        "sequences = tokenizer.texts_to_sequences(codetext)"
      ],
      "execution_count": 0,
      "outputs": []
    },
    {
      "cell_type": "markdown",
      "metadata": {
        "colab_type": "text",
        "id": "GkpK8McUHdx6"
      },
      "source": [
        "### Generate Features and Labels"
      ]
    },
    {
      "cell_type": "code",
      "metadata": {
        "colab_type": "code",
        "id": "zxhQamjwHdx7",
        "colab": {}
      },
      "source": [
        "features = []\n",
        "labels = []\n",
        "\n",
        "training_length = 50\n",
        "# Iterate through the sequences of tokens\n",
        "for seq in sequences:\n",
        "    # Create multiple training examples from each sequence\n",
        "    for i in range(training_length, training_length+300):\n",
        "        # Extract the features and label\n",
        "        extract = seq[i - training_length: i - training_length + 20]\n",
        "\n",
        "        # Set the features and label\n",
        "        features.append(extract[:-1])\n",
        "        labels.append(extract[-1])"
      ],
      "execution_count": 0,
      "outputs": []
    },
    {
      "cell_type": "markdown",
      "metadata": {
        "colab_type": "text",
        "id": "bbmsf23Bymwe"
      },
      "source": [
        "### The prediction task"
      ]
    },
    {
      "cell_type": "markdown",
      "metadata": {
        "colab_type": "text",
        "id": "wssHQ1oGymwe"
      },
      "source": [
        "Given a word, or a sequence of words, what is the most probable next word? This is the task we're training the model to perform. The input to the model will be a sequence of words, and we train the model to predict the output—the following word at each time step.\n",
        "\n",
        "Since RNNs maintain an internal state that depends on the previously seen elements, given all the words computed until this moment, what is the next word?"
      ]
    },
    {
      "cell_type": "markdown",
      "metadata": {
        "colab_type": "text",
        "id": "T2bsVOl7HdyA"
      },
      "source": [
        "### Generate training and testing data"
      ]
    },
    {
      "cell_type": "code",
      "metadata": {
        "colab_type": "code",
        "id": "j7-IsvynHdyB",
        "colab": {}
      },
      "source": [
        "from sklearn.utils import shuffle\n",
        "import numpy as np\n",
        "\n",
        "features, labels = shuffle(features, labels, random_state=1)\n",
        "\n",
        "# Decide on number of samples for training\n",
        "train_end = int(0.7 * len(labels))\n",
        "\n",
        "train_features = np.array(features[:train_end])\n",
        "valid_features = np.array(features[train_end:])\n",
        "\n",
        "train_labels = labels[:train_end]\n",
        "valid_labels = labels[train_end:]\n",
        "\n",
        "# Convert to arrays\n",
        "X_train, X_valid = np.array(train_features), np.array(valid_features)\n",
        "\n",
        "# Using int8 for memory savings\n",
        "y_train = np.zeros((len(train_labels), num_words), dtype=np.int8)\n",
        "y_valid = np.zeros((len(valid_labels), num_words), dtype=np.int8)\n",
        "\n",
        "# One hot encoding of labels\n",
        "for example_index, word_index in enumerate(train_labels):\n",
        "    y_train[example_index, word_index] = 1\n",
        "\n",
        "for example_index, word_index in enumerate(valid_labels):\n",
        "    y_valid[example_index, word_index] = 1"
      ],
      "execution_count": 0,
      "outputs": []
    },
    {
      "cell_type": "markdown",
      "metadata": {
        "colab_type": "text",
        "id": "juT1mZrUHdyE"
      },
      "source": [
        "This is just to check the features and labels"
      ]
    },
    {
      "cell_type": "code",
      "metadata": {
        "colab_type": "code",
        "id": "wkdmNbgjHdyF",
        "outputId": "6daef5e5-8350-4d89-d442-7487409cef57",
        "colab": {
          "base_uri": "https://localhost:8080/",
          "height": 152
        }
      },
      "source": [
        "for i, sequence in enumerate(X_train[:2]):\n",
        "    text = []\n",
        "#     print(i, sequence)\n",
        "    for idx in sequence:\n",
        "        text.append(idx_word[idx])\n",
        "        \n",
        "    print('Features: ' + ' '.join(text)+'\\n')\n",
        "    print('Label: ' + idx_word[np.argmax(y_train[i])] + '\\n')"
      ],
      "execution_count": 0,
      "outputs": [
        {
          "output_type": "stream",
          "text": [
            "Features: room in algernon's flat in half moon street the room is luxuriously and artistically furnished the sound of a\n",
            "\n",
            "Label: piano\n",
            "\n",
            "Features: a woman of no importance a play author oscar wilde release date september 16 2014 ebook 854 this file\n",
            "\n",
            "Label: was\n",
            "\n"
          ],
          "name": "stdout"
        }
      ]
    },
    {
      "cell_type": "markdown",
      "metadata": {
        "colab_type": "text",
        "id": "r6oUuElIMgVx"
      },
      "source": [
        "## Build The Model"
      ]
    },
    {
      "cell_type": "markdown",
      "metadata": {
        "colab_type": "text",
        "id": "m8gPwEjRzf-Z"
      },
      "source": [
        "Use `keras.Sequential` to define the model. For this simple example three layers are used to define our model:\n",
        "\n",
        "* `keras.layers.Embedding`: The input layer. A trainable lookup table that will map the numbers of each character to a vector with `embedding_dim` dimensions;\n",
        "* `keras.layers.LSTM`: A type of RNN with size `units=rnn_units` (You can also use a GRU layer here.)\n",
        "* `keras.layers.Dense`: The output layer, with `num_words` outputs."
      ]
    },
    {
      "cell_type": "code",
      "metadata": {
        "colab_type": "code",
        "id": "GKpCQFZLHdyN",
        "outputId": "79029ebc-9d08-427f-98a8-8ad81f76e99b",
        "colab": {
          "base_uri": "https://localhost:8080/",
          "height": 375
        }
      },
      "source": [
        "model = Sequential()\n",
        "\n",
        "# Embedding layer\n",
        "model.add(\n",
        "    Embedding(\n",
        "        input_dim=len(word_idx) + 1,\n",
        "        output_dim=100,\n",
        "        weights=None,\n",
        "        trainable=True))\n",
        "\n",
        "# Recurrent layer\n",
        "model.add(\n",
        "    LSTM(\n",
        "        64, return_sequences=False, dropout=0.1,\n",
        "        recurrent_dropout=0.1))\n",
        "\n",
        "# Fully connected layer\n",
        "model.add(Dense(64, activation='relu'))\n",
        "\n",
        "# Dropout for regularization\n",
        "model.add(Dropout(0.5))\n",
        "\n",
        "# Output layer\n",
        "model.add(Dense(num_words, activation='softmax'))\n",
        "\n",
        "# Compile the model\n",
        "model.compile(\n",
        "    optimizer='adam', loss='categorical_crossentropy', metrics=['accuracy'])\n",
        "\n",
        "model.summary()"
      ],
      "execution_count": 0,
      "outputs": [
        {
          "output_type": "stream",
          "text": [
            "W0802 11:48:03.627131 140649322661760 deprecation.py:506] From /usr/local/lib/python3.6/dist-packages/keras/backend/tensorflow_backend.py:3445: calling dropout (from tensorflow.python.ops.nn_ops) with keep_prob is deprecated and will be removed in a future version.\n",
            "Instructions for updating:\n",
            "Please use `rate` instead of `keep_prob`. Rate should be set to `rate = 1 - keep_prob`.\n"
          ],
          "name": "stderr"
        },
        {
          "output_type": "stream",
          "text": [
            "_________________________________________________________________\n",
            "Layer (type)                 Output Shape              Param #   \n",
            "=================================================================\n",
            "embedding_1 (Embedding)      (None, None, 100)         3283900   \n",
            "_________________________________________________________________\n",
            "lstm_1 (LSTM)                (None, 64)                42240     \n",
            "_________________________________________________________________\n",
            "dense_1 (Dense)              (None, 64)                4160      \n",
            "_________________________________________________________________\n",
            "dropout_1 (Dropout)          (None, 64)                0         \n",
            "_________________________________________________________________\n",
            "dense_2 (Dense)              (None, 32839)             2134535   \n",
            "=================================================================\n",
            "Total params: 5,464,835\n",
            "Trainable params: 5,464,835\n",
            "Non-trainable params: 0\n",
            "_________________________________________________________________\n"
          ],
          "name": "stdout"
        }
      ]
    },
    {
      "cell_type": "markdown",
      "metadata": {
        "colab_type": "text",
        "id": "vL3tUp1UHdyS"
      },
      "source": [
        "For each word the model looks up the embedding, runs the LSTM one timestep with the embedding as input, and applies the dense layer to generate logits predicting the log-liklihood of the next word."
      ]
    },
    {
      "cell_type": "markdown",
      "metadata": {
        "colab_type": "text",
        "id": "LJL0Q0YPY6Ee"
      },
      "source": [
        "## Train the model"
      ]
    },
    {
      "cell_type": "code",
      "metadata": {
        "colab_type": "code",
        "id": "6o84puBcHdyV",
        "outputId": "285ec3eb-0af8-48fa-9f22-fa72c2ed8ed9",
        "colab": {
          "base_uri": "https://localhost:8080/",
          "height": 1000
        }
      },
      "source": [
        "h = model.fit(X_train, y_train, epochs = 500, batch_size = 50, \n",
        "          verbose = 1)## Train the model"
      ],
      "execution_count": 0,
      "outputs": [
        {
          "output_type": "stream",
          "text": [
            "Epoch 1/500\n",
            "6510/6510 [==============================] - 11s 2ms/step - loss: 8.2361 - acc: 0.0568\n",
            "Epoch 2/500\n",
            "6510/6510 [==============================] - 8s 1ms/step - loss: 6.7284 - acc: 0.0602\n",
            "Epoch 3/500\n",
            "6510/6510 [==============================] - 8s 1ms/step - loss: 6.4565 - acc: 0.0613\n",
            "Epoch 4/500\n",
            "6510/6510 [==============================] - 8s 1ms/step - loss: 6.2753 - acc: 0.0594\n",
            "Epoch 5/500\n",
            "6510/6510 [==============================] - 8s 1ms/step - loss: 6.1359 - acc: 0.0573\n",
            "Epoch 6/500\n",
            "6510/6510 [==============================] - 8s 1ms/step - loss: 5.9591 - acc: 0.0676\n",
            "Epoch 7/500\n",
            "6510/6510 [==============================] - 8s 1ms/step - loss: 5.8073 - acc: 0.0733\n",
            "Epoch 8/500\n",
            "6510/6510 [==============================] - 8s 1ms/step - loss: 5.6971 - acc: 0.0773\n",
            "Epoch 9/500\n",
            "6510/6510 [==============================] - 8s 1ms/step - loss: 5.5787 - acc: 0.0819\n",
            "Epoch 10/500\n",
            "6510/6510 [==============================] - 8s 1ms/step - loss: 5.4779 - acc: 0.0874\n",
            "Epoch 11/500\n",
            "6510/6510 [==============================] - 8s 1ms/step - loss: 5.3785 - acc: 0.0932\n",
            "Epoch 12/500\n",
            "6510/6510 [==============================] - 8s 1ms/step - loss: 5.2670 - acc: 0.0998\n",
            "Epoch 13/500\n",
            "6510/6510 [==============================] - 8s 1ms/step - loss: 5.1572 - acc: 0.1080\n",
            "Epoch 14/500\n",
            "6510/6510 [==============================] - 8s 1ms/step - loss: 5.0224 - acc: 0.1266\n",
            "Epoch 15/500\n",
            "6510/6510 [==============================] - 8s 1ms/step - loss: 4.8972 - acc: 0.1361\n",
            "Epoch 16/500\n",
            "6510/6510 [==============================] - 8s 1ms/step - loss: 4.7636 - acc: 0.1533\n",
            "Epoch 17/500\n",
            "6510/6510 [==============================] - 8s 1ms/step - loss: 4.6304 - acc: 0.1730\n",
            "Epoch 18/500\n",
            "6510/6510 [==============================] - 8s 1ms/step - loss: 4.5335 - acc: 0.1833\n",
            "Epoch 19/500\n",
            "6510/6510 [==============================] - 8s 1ms/step - loss: 4.4046 - acc: 0.2000\n",
            "Epoch 20/500\n",
            "6510/6510 [==============================] - 8s 1ms/step - loss: 4.3037 - acc: 0.2197\n",
            "Epoch 21/500\n",
            "6510/6510 [==============================] - 8s 1ms/step - loss: 4.1930 - acc: 0.2316\n",
            "Epoch 22/500\n",
            "6510/6510 [==============================] - 8s 1ms/step - loss: 4.0955 - acc: 0.2409\n",
            "Epoch 23/500\n",
            "6510/6510 [==============================] - 8s 1ms/step - loss: 4.0075 - acc: 0.2605\n",
            "Epoch 24/500\n",
            "6510/6510 [==============================] - 8s 1ms/step - loss: 3.8986 - acc: 0.2754\n",
            "Epoch 25/500\n",
            "6510/6510 [==============================] - 8s 1ms/step - loss: 3.7926 - acc: 0.2892\n",
            "Epoch 26/500\n",
            "6510/6510 [==============================] - 8s 1ms/step - loss: 3.7238 - acc: 0.3025\n",
            "Epoch 27/500\n",
            "6510/6510 [==============================] - 8s 1ms/step - loss: 3.6410 - acc: 0.3103\n",
            "Epoch 28/500\n",
            "6510/6510 [==============================] - 8s 1ms/step - loss: 3.5250 - acc: 0.3343\n",
            "Epoch 29/500\n",
            "6510/6510 [==============================] - 8s 1ms/step - loss: 3.4633 - acc: 0.3376\n",
            "Epoch 30/500\n",
            "6510/6510 [==============================] - 8s 1ms/step - loss: 3.3810 - acc: 0.3499\n",
            "Epoch 31/500\n",
            "6510/6510 [==============================] - 8s 1ms/step - loss: 3.3057 - acc: 0.3542\n",
            "Epoch 32/500\n",
            "6510/6510 [==============================] - 8s 1ms/step - loss: 3.2262 - acc: 0.3688\n",
            "Epoch 33/500\n",
            "6510/6510 [==============================] - 8s 1ms/step - loss: 3.1807 - acc: 0.3673\n",
            "Epoch 34/500\n",
            "6510/6510 [==============================] - 8s 1ms/step - loss: 3.0965 - acc: 0.3839\n",
            "Epoch 35/500\n",
            "6510/6510 [==============================] - 8s 1ms/step - loss: 3.0269 - acc: 0.3892\n",
            "Epoch 36/500\n",
            "6510/6510 [==============================] - 8s 1ms/step - loss: 2.9665 - acc: 0.4057\n",
            "Epoch 37/500\n",
            "6510/6510 [==============================] - 8s 1ms/step - loss: 2.9102 - acc: 0.4065\n",
            "Epoch 38/500\n",
            "6510/6510 [==============================] - 8s 1ms/step - loss: 2.8396 - acc: 0.4114\n",
            "Epoch 39/500\n",
            "6510/6510 [==============================] - 8s 1ms/step - loss: 2.7699 - acc: 0.4246\n",
            "Epoch 40/500\n",
            "6510/6510 [==============================] - 8s 1ms/step - loss: 2.7103 - acc: 0.4278\n",
            "Epoch 41/500\n",
            "6510/6510 [==============================] - 8s 1ms/step - loss: 2.6558 - acc: 0.4352\n",
            "Epoch 42/500\n",
            "6510/6510 [==============================] - 8s 1ms/step - loss: 2.6014 - acc: 0.4429\n",
            "Epoch 43/500\n",
            "6510/6510 [==============================] - 8s 1ms/step - loss: 2.5339 - acc: 0.4522\n",
            "Epoch 44/500\n",
            "6510/6510 [==============================] - 8s 1ms/step - loss: 2.4976 - acc: 0.4637\n",
            "Epoch 45/500\n",
            "6510/6510 [==============================] - 8s 1ms/step - loss: 2.4096 - acc: 0.4662\n",
            "Epoch 46/500\n",
            "6510/6510 [==============================] - 8s 1ms/step - loss: 2.3826 - acc: 0.4730\n",
            "Epoch 47/500\n",
            "6510/6510 [==============================] - 8s 1ms/step - loss: 2.3390 - acc: 0.4708\n",
            "Epoch 48/500\n",
            "6510/6510 [==============================] - 8s 1ms/step - loss: 2.2968 - acc: 0.4806\n",
            "Epoch 49/500\n",
            "6510/6510 [==============================] - 8s 1ms/step - loss: 2.2441 - acc: 0.4883\n",
            "Epoch 50/500\n",
            "6510/6510 [==============================] - 8s 1ms/step - loss: 2.1681 - acc: 0.4994\n",
            "Epoch 51/500\n",
            "6510/6510 [==============================] - 8s 1ms/step - loss: 2.1444 - acc: 0.5017\n",
            "Epoch 52/500\n",
            "6510/6510 [==============================] - 8s 1ms/step - loss: 2.1078 - acc: 0.5083\n",
            "Epoch 53/500\n",
            "6510/6510 [==============================] - 8s 1ms/step - loss: 2.0788 - acc: 0.5072\n",
            "Epoch 54/500\n",
            "6510/6510 [==============================] - 8s 1ms/step - loss: 2.0198 - acc: 0.5195\n",
            "Epoch 55/500\n",
            "6510/6510 [==============================] - 8s 1ms/step - loss: 1.9795 - acc: 0.5295\n",
            "Epoch 56/500\n",
            "6510/6510 [==============================] - 8s 1ms/step - loss: 1.9326 - acc: 0.5330\n",
            "Epoch 57/500\n",
            "6510/6510 [==============================] - 8s 1ms/step - loss: 1.9052 - acc: 0.5375\n",
            "Epoch 58/500\n",
            "6510/6510 [==============================] - 8s 1ms/step - loss: 1.8481 - acc: 0.5533\n",
            "Epoch 59/500\n",
            "6510/6510 [==============================] - 8s 1ms/step - loss: 1.8281 - acc: 0.5493\n",
            "Epoch 60/500\n",
            "6510/6510 [==============================] - 8s 1ms/step - loss: 1.7978 - acc: 0.5567\n",
            "Epoch 61/500\n",
            "6510/6510 [==============================] - 8s 1ms/step - loss: 1.7637 - acc: 0.5687\n",
            "Epoch 62/500\n",
            "6510/6510 [==============================] - 8s 1ms/step - loss: 1.7431 - acc: 0.5657\n",
            "Epoch 63/500\n",
            "6510/6510 [==============================] - 8s 1ms/step - loss: 1.6896 - acc: 0.5693\n",
            "Epoch 64/500\n",
            "6510/6510 [==============================] - 8s 1ms/step - loss: 1.6800 - acc: 0.5814\n",
            "Epoch 65/500\n",
            "6510/6510 [==============================] - 8s 1ms/step - loss: 1.6527 - acc: 0.5833\n",
            "Epoch 66/500\n",
            "6510/6510 [==============================] - 8s 1ms/step - loss: 1.6177 - acc: 0.5862\n",
            "Epoch 67/500\n",
            "6510/6510 [==============================] - 8s 1ms/step - loss: 1.6136 - acc: 0.5877\n",
            "Epoch 68/500\n",
            "6510/6510 [==============================] - 8s 1ms/step - loss: 1.5462 - acc: 0.6005\n",
            "Epoch 69/500\n",
            "6510/6510 [==============================] - 8s 1ms/step - loss: 1.5557 - acc: 0.5974\n",
            "Epoch 70/500\n",
            "6510/6510 [==============================] - 8s 1ms/step - loss: 1.5294 - acc: 0.6031\n",
            "Epoch 71/500\n",
            "6510/6510 [==============================] - 8s 1ms/step - loss: 1.5150 - acc: 0.6065\n",
            "Epoch 72/500\n",
            "6510/6510 [==============================] - 8s 1ms/step - loss: 1.4848 - acc: 0.6160\n",
            "Epoch 73/500\n",
            "6510/6510 [==============================] - 8s 1ms/step - loss: 1.4731 - acc: 0.6220\n",
            "Epoch 74/500\n",
            "6510/6510 [==============================] - 8s 1ms/step - loss: 1.4302 - acc: 0.6283\n",
            "Epoch 75/500\n",
            "6510/6510 [==============================] - 8s 1ms/step - loss: 1.4222 - acc: 0.6249\n",
            "Epoch 76/500\n",
            "6510/6510 [==============================] - 8s 1ms/step - loss: 1.4059 - acc: 0.6289\n",
            "Epoch 77/500\n",
            "6510/6510 [==============================] - 8s 1ms/step - loss: 1.3708 - acc: 0.6433\n",
            "Epoch 78/500\n",
            "6510/6510 [==============================] - 8s 1ms/step - loss: 1.3730 - acc: 0.6327\n",
            "Epoch 79/500\n",
            "6510/6510 [==============================] - 8s 1ms/step - loss: 1.3393 - acc: 0.6416\n",
            "Epoch 80/500\n",
            "6510/6510 [==============================] - 8s 1ms/step - loss: 1.3323 - acc: 0.6404\n",
            "Epoch 81/500\n",
            "6510/6510 [==============================] - 8s 1ms/step - loss: 1.2859 - acc: 0.6513\n",
            "Epoch 82/500\n",
            "6510/6510 [==============================] - 8s 1ms/step - loss: 1.3226 - acc: 0.6444\n",
            "Epoch 83/500\n",
            "6510/6510 [==============================] - 8s 1ms/step - loss: 1.2834 - acc: 0.6545\n",
            "Epoch 84/500\n",
            "6510/6510 [==============================] - 8s 1ms/step - loss: 1.2768 - acc: 0.6551\n",
            "Epoch 85/500\n",
            "6510/6510 [==============================] - 8s 1ms/step - loss: 1.2467 - acc: 0.6590\n",
            "Epoch 86/500\n",
            "6510/6510 [==============================] - 8s 1ms/step - loss: 1.2644 - acc: 0.6642\n",
            "Epoch 87/500\n",
            "6510/6510 [==============================] - 8s 1ms/step - loss: 1.2298 - acc: 0.6619\n",
            "Epoch 88/500\n",
            "6510/6510 [==============================] - 8s 1ms/step - loss: 1.2388 - acc: 0.6641\n",
            "Epoch 89/500\n",
            "6510/6510 [==============================] - 8s 1ms/step - loss: 1.1868 - acc: 0.6680\n",
            "Epoch 90/500\n",
            "6510/6510 [==============================] - 8s 1ms/step - loss: 1.1845 - acc: 0.6734\n",
            "Epoch 91/500\n",
            "6510/6510 [==============================] - 8s 1ms/step - loss: 1.1715 - acc: 0.6811\n",
            "Epoch 92/500\n",
            "6510/6510 [==============================] - 8s 1ms/step - loss: 1.1618 - acc: 0.6820\n",
            "Epoch 93/500\n",
            "6510/6510 [==============================] - 8s 1ms/step - loss: 1.1209 - acc: 0.6969\n",
            "Epoch 94/500\n",
            "6510/6510 [==============================] - 8s 1ms/step - loss: 1.1641 - acc: 0.6817\n",
            "Epoch 95/500\n",
            "6510/6510 [==============================] - 8s 1ms/step - loss: 1.1209 - acc: 0.6868\n",
            "Epoch 96/500\n",
            "6510/6510 [==============================] - 8s 1ms/step - loss: 1.1294 - acc: 0.6902\n",
            "Epoch 97/500\n",
            "6510/6510 [==============================] - 8s 1ms/step - loss: 1.0902 - acc: 0.6940\n",
            "Epoch 98/500\n",
            "6510/6510 [==============================] - 8s 1ms/step - loss: 1.0615 - acc: 0.7089\n",
            "Epoch 99/500\n",
            "6510/6510 [==============================] - 8s 1ms/step - loss: 1.0763 - acc: 0.7020\n",
            "Epoch 100/500\n",
            "6510/6510 [==============================] - 8s 1ms/step - loss: 1.0763 - acc: 0.7031\n",
            "Epoch 101/500\n",
            "6510/6510 [==============================] - 8s 1ms/step - loss: 1.0792 - acc: 0.6974\n",
            "Epoch 102/500\n",
            "6510/6510 [==============================] - 8s 1ms/step - loss: 1.0521 - acc: 0.7000\n",
            "Epoch 103/500\n",
            "6510/6510 [==============================] - 8s 1ms/step - loss: 1.0133 - acc: 0.7186\n",
            "Epoch 104/500\n",
            "6510/6510 [==============================] - 8s 1ms/step - loss: 1.0452 - acc: 0.7011\n",
            "Epoch 105/500\n",
            "6510/6510 [==============================] - 8s 1ms/step - loss: 0.9970 - acc: 0.7126\n",
            "Epoch 106/500\n",
            "6510/6510 [==============================] - 8s 1ms/step - loss: 1.0113 - acc: 0.7104\n",
            "Epoch 107/500\n",
            "6510/6510 [==============================] - 8s 1ms/step - loss: 1.0053 - acc: 0.7120\n",
            "Epoch 108/500\n",
            "6510/6510 [==============================] - 8s 1ms/step - loss: 1.0023 - acc: 0.7184\n",
            "Epoch 109/500\n",
            "6510/6510 [==============================] - 8s 1ms/step - loss: 0.9783 - acc: 0.7224\n",
            "Epoch 110/500\n",
            "6510/6510 [==============================] - 8s 1ms/step - loss: 0.9596 - acc: 0.7247\n",
            "Epoch 111/500\n",
            "6510/6510 [==============================] - 8s 1ms/step - loss: 0.9487 - acc: 0.7353\n",
            "Epoch 112/500\n",
            "6510/6510 [==============================] - 8s 1ms/step - loss: 0.9574 - acc: 0.7215\n",
            "Epoch 113/500\n",
            "6510/6510 [==============================] - 8s 1ms/step - loss: 0.9456 - acc: 0.7287\n",
            "Epoch 114/500\n",
            "6510/6510 [==============================] - 8s 1ms/step - loss: 0.9368 - acc: 0.7307\n",
            "Epoch 115/500\n",
            "6510/6510 [==============================] - 8s 1ms/step - loss: 0.9245 - acc: 0.7344\n",
            "Epoch 116/500\n",
            "6510/6510 [==============================] - 8s 1ms/step - loss: 0.9412 - acc: 0.7320\n",
            "Epoch 117/500\n",
            "6510/6510 [==============================] - 8s 1ms/step - loss: 0.9498 - acc: 0.7286\n",
            "Epoch 118/500\n",
            "6510/6510 [==============================] - 8s 1ms/step - loss: 0.9314 - acc: 0.7326\n",
            "Epoch 119/500\n",
            "6510/6510 [==============================] - 8s 1ms/step - loss: 0.8997 - acc: 0.7384\n",
            "Epoch 120/500\n",
            "6510/6510 [==============================] - 8s 1ms/step - loss: 0.9067 - acc: 0.7332\n",
            "Epoch 121/500\n",
            "6510/6510 [==============================] - 8s 1ms/step - loss: 0.8790 - acc: 0.7421\n",
            "Epoch 122/500\n",
            "6510/6510 [==============================] - 8s 1ms/step - loss: 0.8840 - acc: 0.7425\n",
            "Epoch 123/500\n",
            "6510/6510 [==============================] - 8s 1ms/step - loss: 0.8963 - acc: 0.7327\n",
            "Epoch 124/500\n",
            "6510/6510 [==============================] - 8s 1ms/step - loss: 0.8635 - acc: 0.7492\n",
            "Epoch 125/500\n",
            "6510/6510 [==============================] - 8s 1ms/step - loss: 0.8911 - acc: 0.7438\n",
            "Epoch 126/500\n",
            "6510/6510 [==============================] - 8s 1ms/step - loss: 0.8894 - acc: 0.7421\n",
            "Epoch 127/500\n",
            "6510/6510 [==============================] - 8s 1ms/step - loss: 0.8360 - acc: 0.7547\n",
            "Epoch 128/500\n",
            "6510/6510 [==============================] - 8s 1ms/step - loss: 0.8568 - acc: 0.7476\n",
            "Epoch 129/500\n",
            "6510/6510 [==============================] - 8s 1ms/step - loss: 0.8465 - acc: 0.7525\n",
            "Epoch 130/500\n",
            "6510/6510 [==============================] - 8s 1ms/step - loss: 0.8288 - acc: 0.7559\n",
            "Epoch 131/500\n",
            "6510/6510 [==============================] - 8s 1ms/step - loss: 0.8487 - acc: 0.7504\n",
            "Epoch 132/500\n",
            "6510/6510 [==============================] - 8s 1ms/step - loss: 0.8083 - acc: 0.7665\n",
            "Epoch 133/500\n",
            "6510/6510 [==============================] - 8s 1ms/step - loss: 0.8208 - acc: 0.7639\n",
            "Epoch 134/500\n",
            "6510/6510 [==============================] - 8s 1ms/step - loss: 0.8260 - acc: 0.7582\n",
            "Epoch 135/500\n",
            "6510/6510 [==============================] - 8s 1ms/step - loss: 0.8228 - acc: 0.7530\n",
            "Epoch 136/500\n",
            "6510/6510 [==============================] - 8s 1ms/step - loss: 0.7993 - acc: 0.7673\n",
            "Epoch 137/500\n",
            "6510/6510 [==============================] - 8s 1ms/step - loss: 0.7867 - acc: 0.7654\n",
            "Epoch 138/500\n",
            "6510/6510 [==============================] - 8s 1ms/step - loss: 0.8074 - acc: 0.7581\n",
            "Epoch 139/500\n",
            "6510/6510 [==============================] - 8s 1ms/step - loss: 0.8128 - acc: 0.7608\n",
            "Epoch 140/500\n",
            "6510/6510 [==============================] - 8s 1ms/step - loss: 0.7988 - acc: 0.7637\n",
            "Epoch 141/500\n",
            "6510/6510 [==============================] - 8s 1ms/step - loss: 0.7863 - acc: 0.7579\n",
            "Epoch 142/500\n",
            "6510/6510 [==============================] - 8s 1ms/step - loss: 0.7838 - acc: 0.7642\n",
            "Epoch 143/500\n",
            "6510/6510 [==============================] - 8s 1ms/step - loss: 0.7801 - acc: 0.7724\n",
            "Epoch 144/500\n",
            "6510/6510 [==============================] - 8s 1ms/step - loss: 0.7597 - acc: 0.7722\n",
            "Epoch 145/500\n",
            "6510/6510 [==============================] - 8s 1ms/step - loss: 0.7607 - acc: 0.7731\n",
            "Epoch 146/500\n",
            "6510/6510 [==============================] - 8s 1ms/step - loss: 0.7474 - acc: 0.7831\n",
            "Epoch 147/500\n",
            "6510/6510 [==============================] - 8s 1ms/step - loss: 0.7694 - acc: 0.7714\n",
            "Epoch 148/500\n",
            "6510/6510 [==============================] - 8s 1ms/step - loss: 0.7330 - acc: 0.7794\n",
            "Epoch 149/500\n",
            "6510/6510 [==============================] - 8s 1ms/step - loss: 0.7477 - acc: 0.7811\n",
            "Epoch 150/500\n",
            "6510/6510 [==============================] - 8s 1ms/step - loss: 0.7230 - acc: 0.7793\n",
            "Epoch 151/500\n",
            "6510/6510 [==============================] - 8s 1ms/step - loss: 0.7479 - acc: 0.7799\n",
            "Epoch 152/500\n",
            "6510/6510 [==============================] - 8s 1ms/step - loss: 0.7629 - acc: 0.7685\n",
            "Epoch 153/500\n",
            "6510/6510 [==============================] - 8s 1ms/step - loss: 0.7257 - acc: 0.7793\n",
            "Epoch 154/500\n",
            "6510/6510 [==============================] - 8s 1ms/step - loss: 0.7184 - acc: 0.7817\n",
            "Epoch 155/500\n",
            "6510/6510 [==============================] - 8s 1ms/step - loss: 0.7076 - acc: 0.7873\n",
            "Epoch 156/500\n",
            "6510/6510 [==============================] - 8s 1ms/step - loss: 0.7270 - acc: 0.7856\n",
            "Epoch 157/500\n",
            "6510/6510 [==============================] - 8s 1ms/step - loss: 0.7077 - acc: 0.7853\n",
            "Epoch 158/500\n",
            "6510/6510 [==============================] - 8s 1ms/step - loss: 0.7160 - acc: 0.7843\n",
            "Epoch 159/500\n",
            "6510/6510 [==============================] - 8s 1ms/step - loss: 0.6890 - acc: 0.8012\n",
            "Epoch 160/500\n",
            "6510/6510 [==============================] - 8s 1ms/step - loss: 0.6823 - acc: 0.7931\n",
            "Epoch 161/500\n",
            "6510/6510 [==============================] - 8s 1ms/step - loss: 0.7030 - acc: 0.7911\n",
            "Epoch 162/500\n",
            "6510/6510 [==============================] - 8s 1ms/step - loss: 0.7141 - acc: 0.7882\n",
            "Epoch 163/500\n",
            "6510/6510 [==============================] - 8s 1ms/step - loss: 0.6994 - acc: 0.7909\n",
            "Epoch 164/500\n",
            "6510/6510 [==============================] - 8s 1ms/step - loss: 0.6981 - acc: 0.7866\n",
            "Epoch 165/500\n",
            "6510/6510 [==============================] - 8s 1ms/step - loss: 0.6782 - acc: 0.7865\n",
            "Epoch 166/500\n",
            "6510/6510 [==============================] - 8s 1ms/step - loss: 0.6916 - acc: 0.7885\n",
            "Epoch 167/500\n",
            "6510/6510 [==============================] - 8s 1ms/step - loss: 0.6753 - acc: 0.7971\n",
            "Epoch 168/500\n",
            "6510/6510 [==============================] - 8s 1ms/step - loss: 0.6735 - acc: 0.7978\n",
            "Epoch 169/500\n",
            "6510/6510 [==============================] - 8s 1ms/step - loss: 0.6723 - acc: 0.8018\n",
            "Epoch 170/500\n",
            "6510/6510 [==============================] - 8s 1ms/step - loss: 0.6539 - acc: 0.8031\n",
            "Epoch 171/500\n",
            "6510/6510 [==============================] - 8s 1ms/step - loss: 0.6721 - acc: 0.7975\n",
            "Epoch 172/500\n",
            "6510/6510 [==============================] - 8s 1ms/step - loss: 0.6720 - acc: 0.8022\n",
            "Epoch 173/500\n",
            "6510/6510 [==============================] - 8s 1ms/step - loss: 0.6606 - acc: 0.8005\n",
            "Epoch 174/500\n",
            "6510/6510 [==============================] - 8s 1ms/step - loss: 0.6507 - acc: 0.8000\n",
            "Epoch 175/500\n",
            "6510/6510 [==============================] - 8s 1ms/step - loss: 0.6606 - acc: 0.7968\n",
            "Epoch 176/500\n",
            "6510/6510 [==============================] - 8s 1ms/step - loss: 0.6471 - acc: 0.8048\n",
            "Epoch 177/500\n",
            "6510/6510 [==============================] - 8s 1ms/step - loss: 0.6242 - acc: 0.8098\n",
            "Epoch 178/500\n",
            "6510/6510 [==============================] - 8s 1ms/step - loss: 0.6441 - acc: 0.8020\n",
            "Epoch 179/500\n",
            "6510/6510 [==============================] - 8s 1ms/step - loss: 0.6600 - acc: 0.7992\n",
            "Epoch 180/500\n",
            "6510/6510 [==============================] - 8s 1ms/step - loss: 0.6438 - acc: 0.7983\n",
            "Epoch 181/500\n",
            "6510/6510 [==============================] - 8s 1ms/step - loss: 0.6450 - acc: 0.8046\n",
            "Epoch 182/500\n",
            "6510/6510 [==============================] - 8s 1ms/step - loss: 0.6442 - acc: 0.8045\n",
            "Epoch 183/500\n",
            "6510/6510 [==============================] - 8s 1ms/step - loss: 0.6306 - acc: 0.8031\n",
            "Epoch 184/500\n",
            "6510/6510 [==============================] - 8s 1ms/step - loss: 0.6268 - acc: 0.8111\n",
            "Epoch 185/500\n",
            "6510/6510 [==============================] - 8s 1ms/step - loss: 0.6248 - acc: 0.8088\n",
            "Epoch 186/500\n",
            "6510/6510 [==============================] - 8s 1ms/step - loss: 0.6195 - acc: 0.8134\n",
            "Epoch 187/500\n",
            "6510/6510 [==============================] - 8s 1ms/step - loss: 0.6188 - acc: 0.8106\n",
            "Epoch 188/500\n",
            "6510/6510 [==============================] - 8s 1ms/step - loss: 0.6169 - acc: 0.8101\n",
            "Epoch 189/500\n",
            "6510/6510 [==============================] - 8s 1ms/step - loss: 0.6326 - acc: 0.8091\n",
            "Epoch 190/500\n",
            "6510/6510 [==============================] - 8s 1ms/step - loss: 0.6145 - acc: 0.8155\n",
            "Epoch 191/500\n",
            "6510/6510 [==============================] - 8s 1ms/step - loss: 0.6116 - acc: 0.8137\n",
            "Epoch 192/500\n",
            "6510/6510 [==============================] - 8s 1ms/step - loss: 0.6455 - acc: 0.8066\n",
            "Epoch 193/500\n",
            "6510/6510 [==============================] - 8s 1ms/step - loss: 0.5855 - acc: 0.8229\n",
            "Epoch 194/500\n",
            "6510/6510 [==============================] - 8s 1ms/step - loss: 0.6020 - acc: 0.8187\n",
            "Epoch 195/500\n",
            "6510/6510 [==============================] - 8s 1ms/step - loss: 0.5914 - acc: 0.8160\n",
            "Epoch 196/500\n",
            "6510/6510 [==============================] - 8s 1ms/step - loss: 0.6068 - acc: 0.8120\n",
            "Epoch 197/500\n",
            "6510/6510 [==============================] - 8s 1ms/step - loss: 0.6024 - acc: 0.8146\n",
            "Epoch 198/500\n",
            "6510/6510 [==============================] - 8s 1ms/step - loss: 0.5982 - acc: 0.8134\n",
            "Epoch 199/500\n",
            "6510/6510 [==============================] - 8s 1ms/step - loss: 0.5979 - acc: 0.8186\n",
            "Epoch 200/500\n",
            "6510/6510 [==============================] - 8s 1ms/step - loss: 0.5888 - acc: 0.8217\n",
            "Epoch 201/500\n",
            "6510/6510 [==============================] - 8s 1ms/step - loss: 0.6045 - acc: 0.8177\n",
            "Epoch 202/500\n",
            "6510/6510 [==============================] - 8s 1ms/step - loss: 0.5858 - acc: 0.8157\n",
            "Epoch 203/500\n",
            "6510/6510 [==============================] - 8s 1ms/step - loss: 0.5799 - acc: 0.8209\n",
            "Epoch 204/500\n",
            "6510/6510 [==============================] - 8s 1ms/step - loss: 0.5928 - acc: 0.8186\n",
            "Epoch 205/500\n",
            "6510/6510 [==============================] - 8s 1ms/step - loss: 0.5794 - acc: 0.8247\n",
            "Epoch 206/500\n",
            "6510/6510 [==============================] - 8s 1ms/step - loss: 0.5779 - acc: 0.8215\n",
            "Epoch 207/500\n",
            "6510/6510 [==============================] - 8s 1ms/step - loss: 0.5632 - acc: 0.8272\n",
            "Epoch 208/500\n",
            "6510/6510 [==============================] - 8s 1ms/step - loss: 0.5631 - acc: 0.8250\n",
            "Epoch 209/500\n",
            "6510/6510 [==============================] - 8s 1ms/step - loss: 0.5639 - acc: 0.8267\n",
            "Epoch 210/500\n",
            "6510/6510 [==============================] - 8s 1ms/step - loss: 0.5779 - acc: 0.8229\n",
            "Epoch 211/500\n",
            "6510/6510 [==============================] - 8s 1ms/step - loss: 0.5789 - acc: 0.8200\n",
            "Epoch 212/500\n",
            "6510/6510 [==============================] - 8s 1ms/step - loss: 0.5775 - acc: 0.8221\n",
            "Epoch 213/500\n",
            "6510/6510 [==============================] - 8s 1ms/step - loss: 0.5621 - acc: 0.8324\n",
            "Epoch 214/500\n",
            "6510/6510 [==============================] - 8s 1ms/step - loss: 0.5631 - acc: 0.8253\n",
            "Epoch 215/500\n",
            "6510/6510 [==============================] - 8s 1ms/step - loss: 0.5687 - acc: 0.8273\n",
            "Epoch 216/500\n",
            "6510/6510 [==============================] - 8s 1ms/step - loss: 0.5377 - acc: 0.8375\n",
            "Epoch 217/500\n",
            "6510/6510 [==============================] - 8s 1ms/step - loss: 0.5470 - acc: 0.8315\n",
            "Epoch 218/500\n",
            "6510/6510 [==============================] - 8s 1ms/step - loss: 0.5650 - acc: 0.8232\n",
            "Epoch 219/500\n",
            "6510/6510 [==============================] - 8s 1ms/step - loss: 0.5509 - acc: 0.8283\n",
            "Epoch 220/500\n",
            "6510/6510 [==============================] - 8s 1ms/step - loss: 0.5494 - acc: 0.8276\n",
            "Epoch 221/500\n",
            "6510/6510 [==============================] - 8s 1ms/step - loss: 0.5296 - acc: 0.8309\n",
            "Epoch 222/500\n",
            "6510/6510 [==============================] - 8s 1ms/step - loss: 0.5519 - acc: 0.8286\n",
            "Epoch 223/500\n",
            "6510/6510 [==============================] - 8s 1ms/step - loss: 0.5426 - acc: 0.8298\n",
            "Epoch 224/500\n",
            "6510/6510 [==============================] - 8s 1ms/step - loss: 0.5564 - acc: 0.8303\n",
            "Epoch 225/500\n",
            "6510/6510 [==============================] - 8s 1ms/step - loss: 0.5509 - acc: 0.8316\n",
            "Epoch 226/500\n",
            "6510/6510 [==============================] - 8s 1ms/step - loss: 0.5205 - acc: 0.8392\n",
            "Epoch 227/500\n",
            "6510/6510 [==============================] - 8s 1ms/step - loss: 0.5447 - acc: 0.8307\n",
            "Epoch 228/500\n",
            "6510/6510 [==============================] - 8s 1ms/step - loss: 0.5592 - acc: 0.8260\n",
            "Epoch 229/500\n",
            "6510/6510 [==============================] - 8s 1ms/step - loss: 0.5509 - acc: 0.8295\n",
            "Epoch 230/500\n",
            "6510/6510 [==============================] - 8s 1ms/step - loss: 0.5323 - acc: 0.8343\n",
            "Epoch 231/500\n",
            "6510/6510 [==============================] - 8s 1ms/step - loss: 0.5410 - acc: 0.8293\n",
            "Epoch 232/500\n",
            "6510/6510 [==============================] - 8s 1ms/step - loss: 0.5240 - acc: 0.8327\n",
            "Epoch 233/500\n",
            "6510/6510 [==============================] - 8s 1ms/step - loss: 0.5223 - acc: 0.8395\n",
            "Epoch 234/500\n",
            "6510/6510 [==============================] - 8s 1ms/step - loss: 0.5286 - acc: 0.8347\n",
            "Epoch 235/500\n",
            "6510/6510 [==============================] - 8s 1ms/step - loss: 0.5223 - acc: 0.8412\n",
            "Epoch 236/500\n",
            "6510/6510 [==============================] - 8s 1ms/step - loss: 0.5198 - acc: 0.8353\n",
            "Epoch 237/500\n",
            "6510/6510 [==============================] - 8s 1ms/step - loss: 0.5061 - acc: 0.8384\n",
            "Epoch 238/500\n",
            "6510/6510 [==============================] - 8s 1ms/step - loss: 0.5200 - acc: 0.8378\n",
            "Epoch 239/500\n",
            "6510/6510 [==============================] - 8s 1ms/step - loss: 0.5069 - acc: 0.8427\n",
            "Epoch 240/500\n",
            "6510/6510 [==============================] - 8s 1ms/step - loss: 0.5174 - acc: 0.8421\n",
            "Epoch 241/500\n",
            "6510/6510 [==============================] - 8s 1ms/step - loss: 0.5070 - acc: 0.8393\n",
            "Epoch 242/500\n",
            "6510/6510 [==============================] - 8s 1ms/step - loss: 0.5064 - acc: 0.8419\n",
            "Epoch 243/500\n",
            "6510/6510 [==============================] - 8s 1ms/step - loss: 0.5115 - acc: 0.8332\n",
            "Epoch 244/500\n",
            "6510/6510 [==============================] - 8s 1ms/step - loss: 0.5065 - acc: 0.8449\n",
            "Epoch 245/500\n",
            "6510/6510 [==============================] - 8s 1ms/step - loss: 0.5024 - acc: 0.8442\n",
            "Epoch 246/500\n",
            "6510/6510 [==============================] - 8s 1ms/step - loss: 0.5145 - acc: 0.8390\n",
            "Epoch 247/500\n",
            "6510/6510 [==============================] - 8s 1ms/step - loss: 0.5065 - acc: 0.8336\n",
            "Epoch 248/500\n",
            "6510/6510 [==============================] - 8s 1ms/step - loss: 0.4998 - acc: 0.8419\n",
            "Epoch 249/500\n",
            "6510/6510 [==============================] - 8s 1ms/step - loss: 0.5049 - acc: 0.8461\n",
            "Epoch 250/500\n",
            "6510/6510 [==============================] - 8s 1ms/step - loss: 0.4860 - acc: 0.8462\n",
            "Epoch 251/500\n",
            "6510/6510 [==============================] - 8s 1ms/step - loss: 0.5204 - acc: 0.8363\n",
            "Epoch 252/500\n",
            "6510/6510 [==============================] - 8s 1ms/step - loss: 0.5038 - acc: 0.8444\n",
            "Epoch 253/500\n",
            "6510/6510 [==============================] - 8s 1ms/step - loss: 0.4899 - acc: 0.8444\n",
            "Epoch 254/500\n",
            "6510/6510 [==============================] - 8s 1ms/step - loss: 0.4911 - acc: 0.8482\n",
            "Epoch 255/500\n",
            "6510/6510 [==============================] - 8s 1ms/step - loss: 0.4891 - acc: 0.8484\n",
            "Epoch 256/500\n",
            "6510/6510 [==============================] - 8s 1ms/step - loss: 0.4866 - acc: 0.8465\n",
            "Epoch 257/500\n",
            "6510/6510 [==============================] - 8s 1ms/step - loss: 0.4906 - acc: 0.8478\n",
            "Epoch 258/500\n",
            "6510/6510 [==============================] - 8s 1ms/step - loss: 0.4840 - acc: 0.8498\n",
            "Epoch 259/500\n",
            "6510/6510 [==============================] - 8s 1ms/step - loss: 0.5026 - acc: 0.8416\n",
            "Epoch 260/500\n",
            "6510/6510 [==============================] - 8s 1ms/step - loss: 0.4881 - acc: 0.8488\n",
            "Epoch 261/500\n",
            "6510/6510 [==============================] - 8s 1ms/step - loss: 0.4789 - acc: 0.8464\n",
            "Epoch 262/500\n",
            "6510/6510 [==============================] - 8s 1ms/step - loss: 0.4914 - acc: 0.8452\n",
            "Epoch 263/500\n",
            "6510/6510 [==============================] - 8s 1ms/step - loss: 0.4828 - acc: 0.8472\n",
            "Epoch 264/500\n",
            "6510/6510 [==============================] - 8s 1ms/step - loss: 0.4961 - acc: 0.8492\n",
            "Epoch 265/500\n",
            "6510/6510 [==============================] - 8s 1ms/step - loss: 0.4875 - acc: 0.8418\n",
            "Epoch 266/500\n",
            "6510/6510 [==============================] - 8s 1ms/step - loss: 0.4961 - acc: 0.8464\n",
            "Epoch 267/500\n",
            "6510/6510 [==============================] - 8s 1ms/step - loss: 0.4854 - acc: 0.8447\n",
            "Epoch 268/500\n",
            "6510/6510 [==============================] - 8s 1ms/step - loss: 0.4732 - acc: 0.8495\n",
            "Epoch 269/500\n",
            "6510/6510 [==============================] - 8s 1ms/step - loss: 0.4787 - acc: 0.8472\n",
            "Epoch 270/500\n",
            "6510/6510 [==============================] - 8s 1ms/step - loss: 0.4625 - acc: 0.8533\n",
            "Epoch 271/500\n",
            "6510/6510 [==============================] - 8s 1ms/step - loss: 0.4735 - acc: 0.8499\n",
            "Epoch 272/500\n",
            "6510/6510 [==============================] - 8s 1ms/step - loss: 0.4816 - acc: 0.8505\n",
            "Epoch 273/500\n",
            "6510/6510 [==============================] - 8s 1ms/step - loss: 0.4579 - acc: 0.8547\n",
            "Epoch 274/500\n",
            "6510/6510 [==============================] - 8s 1ms/step - loss: 0.4689 - acc: 0.8515\n",
            "Epoch 275/500\n",
            "6510/6510 [==============================] - 8s 1ms/step - loss: 0.4821 - acc: 0.8499\n",
            "Epoch 276/500\n",
            "6510/6510 [==============================] - 8s 1ms/step - loss: 0.4586 - acc: 0.8525\n",
            "Epoch 277/500\n",
            "6510/6510 [==============================] - 8s 1ms/step - loss: 0.4824 - acc: 0.8464\n",
            "Epoch 278/500\n",
            "6510/6510 [==============================] - 8s 1ms/step - loss: 0.4590 - acc: 0.8547\n",
            "Epoch 279/500\n",
            "6510/6510 [==============================] - 8s 1ms/step - loss: 0.4667 - acc: 0.8533\n",
            "Epoch 280/500\n",
            "6510/6510 [==============================] - 8s 1ms/step - loss: 0.4898 - acc: 0.8488\n",
            "Epoch 281/500\n",
            "6510/6510 [==============================] - 8s 1ms/step - loss: 0.4545 - acc: 0.8599\n",
            "Epoch 282/500\n",
            "6510/6510 [==============================] - 8s 1ms/step - loss: 0.4770 - acc: 0.8461\n",
            "Epoch 283/500\n",
            "6510/6510 [==============================] - 8s 1ms/step - loss: 0.4714 - acc: 0.8535\n",
            "Epoch 284/500\n",
            "6510/6510 [==============================] - 8s 1ms/step - loss: 0.4816 - acc: 0.8487\n",
            "Epoch 285/500\n",
            "6510/6510 [==============================] - 8s 1ms/step - loss: 0.4708 - acc: 0.8556\n",
            "Epoch 286/500\n",
            "6510/6510 [==============================] - 8s 1ms/step - loss: 0.4656 - acc: 0.8581\n",
            "Epoch 287/500\n",
            "6510/6510 [==============================] - 8s 1ms/step - loss: 0.4460 - acc: 0.8608\n",
            "Epoch 288/500\n",
            "6510/6510 [==============================] - 8s 1ms/step - loss: 0.4624 - acc: 0.8527\n",
            "Epoch 289/500\n",
            "6510/6510 [==============================] - 8s 1ms/step - loss: 0.4535 - acc: 0.8556\n",
            "Epoch 290/500\n",
            "6510/6510 [==============================] - 8s 1ms/step - loss: 0.4508 - acc: 0.8562\n",
            "Epoch 291/500\n",
            "6510/6510 [==============================] - 8s 1ms/step - loss: 0.4313 - acc: 0.8665\n",
            "Epoch 292/500\n",
            "6510/6510 [==============================] - 8s 1ms/step - loss: 0.4445 - acc: 0.8619\n",
            "Epoch 293/500\n",
            "6510/6510 [==============================] - 8s 1ms/step - loss: 0.4426 - acc: 0.8602\n",
            "Epoch 294/500\n",
            "6510/6510 [==============================] - 8s 1ms/step - loss: 0.4421 - acc: 0.8584\n",
            "Epoch 295/500\n",
            "6510/6510 [==============================] - 8s 1ms/step - loss: 0.4567 - acc: 0.8544\n",
            "Epoch 296/500\n",
            "6510/6510 [==============================] - 8s 1ms/step - loss: 0.4497 - acc: 0.8596\n",
            "Epoch 297/500\n",
            "6510/6510 [==============================] - 8s 1ms/step - loss: 0.4592 - acc: 0.8558\n",
            "Epoch 298/500\n",
            "6510/6510 [==============================] - 8s 1ms/step - loss: 0.4634 - acc: 0.8533\n",
            "Epoch 299/500\n",
            "6510/6510 [==============================] - 8s 1ms/step - loss: 0.4396 - acc: 0.8630\n",
            "Epoch 300/500\n",
            "6510/6510 [==============================] - 8s 1ms/step - loss: 0.4433 - acc: 0.8584\n",
            "Epoch 301/500\n",
            "6510/6510 [==============================] - 8s 1ms/step - loss: 0.4402 - acc: 0.8633\n",
            "Epoch 302/500\n",
            "6510/6510 [==============================] - 8s 1ms/step - loss: 0.4452 - acc: 0.8621\n",
            "Epoch 303/500\n",
            "6510/6510 [==============================] - 8s 1ms/step - loss: 0.4342 - acc: 0.8607\n",
            "Epoch 304/500\n",
            "6510/6510 [==============================] - 8s 1ms/step - loss: 0.4479 - acc: 0.8610\n",
            "Epoch 305/500\n",
            "6510/6510 [==============================] - 8s 1ms/step - loss: 0.4502 - acc: 0.8582\n",
            "Epoch 306/500\n",
            "6510/6510 [==============================] - 8s 1ms/step - loss: 0.4396 - acc: 0.8661\n",
            "Epoch 307/500\n",
            "6510/6510 [==============================] - 8s 1ms/step - loss: 0.4310 - acc: 0.8631\n",
            "Epoch 308/500\n",
            "6510/6510 [==============================] - 8s 1ms/step - loss: 0.4347 - acc: 0.8562\n",
            "Epoch 309/500\n",
            "6510/6510 [==============================] - 8s 1ms/step - loss: 0.4172 - acc: 0.8659\n",
            "Epoch 310/500\n",
            "6510/6510 [==============================] - 8s 1ms/step - loss: 0.4471 - acc: 0.8618\n",
            "Epoch 311/500\n",
            "6510/6510 [==============================] - 8s 1ms/step - loss: 0.4271 - acc: 0.8711\n",
            "Epoch 312/500\n",
            "6510/6510 [==============================] - 8s 1ms/step - loss: 0.4305 - acc: 0.8604\n",
            "Epoch 313/500\n",
            "6510/6510 [==============================] - 8s 1ms/step - loss: 0.4433 - acc: 0.8571\n",
            "Epoch 314/500\n",
            "6510/6510 [==============================] - 8s 1ms/step - loss: 0.4282 - acc: 0.8684\n",
            "Epoch 315/500\n",
            "6510/6510 [==============================] - 8s 1ms/step - loss: 0.4381 - acc: 0.8588\n",
            "Epoch 316/500\n",
            "6510/6510 [==============================] - 8s 1ms/step - loss: 0.4154 - acc: 0.8667\n",
            "Epoch 317/500\n",
            "6510/6510 [==============================] - 8s 1ms/step - loss: 0.4493 - acc: 0.8579\n",
            "Epoch 318/500\n",
            "6510/6510 [==============================] - 8s 1ms/step - loss: 0.4214 - acc: 0.8667\n",
            "Epoch 319/500\n",
            "6510/6510 [==============================] - 8s 1ms/step - loss: 0.4183 - acc: 0.8671\n",
            "Epoch 320/500\n",
            "6510/6510 [==============================] - 8s 1ms/step - loss: 0.4152 - acc: 0.8688\n",
            "Epoch 321/500\n",
            "6510/6510 [==============================] - 8s 1ms/step - loss: 0.4270 - acc: 0.8650\n",
            "Epoch 322/500\n",
            "6510/6510 [==============================] - 8s 1ms/step - loss: 0.4543 - acc: 0.8590\n",
            "Epoch 323/500\n",
            "6510/6510 [==============================] - 8s 1ms/step - loss: 0.4230 - acc: 0.8636\n",
            "Epoch 324/500\n",
            "6510/6510 [==============================] - 8s 1ms/step - loss: 0.4243 - acc: 0.8668\n",
            "Epoch 325/500\n",
            "6510/6510 [==============================] - 8s 1ms/step - loss: 0.4265 - acc: 0.8613\n",
            "Epoch 326/500\n",
            "6510/6510 [==============================] - 8s 1ms/step - loss: 0.4165 - acc: 0.8659\n",
            "Epoch 327/500\n",
            "6510/6510 [==============================] - 8s 1ms/step - loss: 0.4086 - acc: 0.8742\n",
            "Epoch 328/500\n",
            "6510/6510 [==============================] - 8s 1ms/step - loss: 0.4094 - acc: 0.8665\n",
            "Epoch 329/500\n",
            "6510/6510 [==============================] - 8s 1ms/step - loss: 0.4098 - acc: 0.8674\n",
            "Epoch 330/500\n",
            "6510/6510 [==============================] - 8s 1ms/step - loss: 0.4103 - acc: 0.8685\n",
            "Epoch 331/500\n",
            "6510/6510 [==============================] - 8s 1ms/step - loss: 0.4411 - acc: 0.8618\n",
            "Epoch 332/500\n",
            "6510/6510 [==============================] - 8s 1ms/step - loss: 0.3968 - acc: 0.8737\n",
            "Epoch 333/500\n",
            "6510/6510 [==============================] - 8s 1ms/step - loss: 0.3859 - acc: 0.8754\n",
            "Epoch 334/500\n",
            "6510/6510 [==============================] - 8s 1ms/step - loss: 0.4332 - acc: 0.8624\n",
            "Epoch 335/500\n",
            "6510/6510 [==============================] - 8s 1ms/step - loss: 0.4251 - acc: 0.8656\n",
            "Epoch 336/500\n",
            "6510/6510 [==============================] - 8s 1ms/step - loss: 0.4311 - acc: 0.8610\n",
            "Epoch 337/500\n",
            "6510/6510 [==============================] - 8s 1ms/step - loss: 0.4346 - acc: 0.8647\n",
            "Epoch 338/500\n",
            "6510/6510 [==============================] - 8s 1ms/step - loss: 0.3911 - acc: 0.8788\n",
            "Epoch 339/500\n",
            "6510/6510 [==============================] - 8s 1ms/step - loss: 0.4138 - acc: 0.8647\n",
            "Epoch 340/500\n",
            "6510/6510 [==============================] - 8s 1ms/step - loss: 0.4077 - acc: 0.8684\n",
            "Epoch 341/500\n",
            "6510/6510 [==============================] - 8s 1ms/step - loss: 0.4145 - acc: 0.8716\n",
            "Epoch 342/500\n",
            "6510/6510 [==============================] - 8s 1ms/step - loss: 0.4008 - acc: 0.8771\n",
            "Epoch 343/500\n",
            "6510/6510 [==============================] - 8s 1ms/step - loss: 0.4131 - acc: 0.8705\n",
            "Epoch 344/500\n",
            "6510/6510 [==============================] - 8s 1ms/step - loss: 0.4118 - acc: 0.8716\n",
            "Epoch 345/500\n",
            "6510/6510 [==============================] - 8s 1ms/step - loss: 0.4071 - acc: 0.8717\n",
            "Epoch 346/500\n",
            "6510/6510 [==============================] - 8s 1ms/step - loss: 0.4108 - acc: 0.8665\n",
            "Epoch 347/500\n",
            "6510/6510 [==============================] - 8s 1ms/step - loss: 0.4036 - acc: 0.8696\n",
            "Epoch 348/500\n",
            "6510/6510 [==============================] - 8s 1ms/step - loss: 0.3989 - acc: 0.8740\n",
            "Epoch 349/500\n",
            "6510/6510 [==============================] - 8s 1ms/step - loss: 0.3956 - acc: 0.8713\n",
            "Epoch 350/500\n",
            "6510/6510 [==============================] - 8s 1ms/step - loss: 0.4103 - acc: 0.8670\n",
            "Epoch 351/500\n",
            "6510/6510 [==============================] - 8s 1ms/step - loss: 0.3963 - acc: 0.8707\n",
            "Epoch 352/500\n",
            "6510/6510 [==============================] - 8s 1ms/step - loss: 0.4205 - acc: 0.8648\n",
            "Epoch 353/500\n",
            "6510/6510 [==============================] - 8s 1ms/step - loss: 0.4059 - acc: 0.8700\n",
            "Epoch 354/500\n",
            "6510/6510 [==============================] - 8s 1ms/step - loss: 0.4083 - acc: 0.8708\n",
            "Epoch 355/500\n",
            "6510/6510 [==============================] - 8s 1ms/step - loss: 0.4093 - acc: 0.8717\n",
            "Epoch 356/500\n",
            "6510/6510 [==============================] - 8s 1ms/step - loss: 0.4109 - acc: 0.8676\n",
            "Epoch 357/500\n",
            "6510/6510 [==============================] - 8s 1ms/step - loss: 0.4081 - acc: 0.8685\n",
            "Epoch 358/500\n",
            "6510/6510 [==============================] - 8s 1ms/step - loss: 0.3903 - acc: 0.8725\n",
            "Epoch 359/500\n",
            "6510/6510 [==============================] - 8s 1ms/step - loss: 0.4055 - acc: 0.8687\n",
            "Epoch 360/500\n",
            "6510/6510 [==============================] - 8s 1ms/step - loss: 0.4056 - acc: 0.8696\n",
            "Epoch 361/500\n",
            "6510/6510 [==============================] - 8s 1ms/step - loss: 0.3885 - acc: 0.8793\n",
            "Epoch 362/500\n",
            "6510/6510 [==============================] - 8s 1ms/step - loss: 0.4018 - acc: 0.8710\n",
            "Epoch 363/500\n",
            "6510/6510 [==============================] - 8s 1ms/step - loss: 0.3894 - acc: 0.8759\n",
            "Epoch 364/500\n",
            "6510/6510 [==============================] - 8s 1ms/step - loss: 0.3867 - acc: 0.8790\n",
            "Epoch 365/500\n",
            "6510/6510 [==============================] - 8s 1ms/step - loss: 0.3786 - acc: 0.8802\n",
            "Epoch 366/500\n",
            "6510/6510 [==============================] - 8s 1ms/step - loss: 0.3778 - acc: 0.8774\n",
            "Epoch 367/500\n",
            "6510/6510 [==============================] - 8s 1ms/step - loss: 0.3948 - acc: 0.8748\n",
            "Epoch 368/500\n",
            "6510/6510 [==============================] - 8s 1ms/step - loss: 0.4020 - acc: 0.8727\n",
            "Epoch 369/500\n",
            "6510/6510 [==============================] - 8s 1ms/step - loss: 0.3953 - acc: 0.8750\n",
            "Epoch 370/500\n",
            "6510/6510 [==============================] - 8s 1ms/step - loss: 0.3853 - acc: 0.8793\n",
            "Epoch 371/500\n",
            "6510/6510 [==============================] - 8s 1ms/step - loss: 0.3737 - acc: 0.8806\n",
            "Epoch 372/500\n",
            "6510/6510 [==============================] - 8s 1ms/step - loss: 0.3887 - acc: 0.8767\n",
            "Epoch 373/500\n",
            "6510/6510 [==============================] - 8s 1ms/step - loss: 0.3937 - acc: 0.8747\n",
            "Epoch 374/500\n",
            "6510/6510 [==============================] - 8s 1ms/step - loss: 0.3970 - acc: 0.8719\n",
            "Epoch 375/500\n",
            "6510/6510 [==============================] - 8s 1ms/step - loss: 0.3771 - acc: 0.8806\n",
            "Epoch 376/500\n",
            "6510/6510 [==============================] - 8s 1ms/step - loss: 0.3866 - acc: 0.8765\n",
            "Epoch 377/500\n",
            "6510/6510 [==============================] - 8s 1ms/step - loss: 0.4081 - acc: 0.8728\n",
            "Epoch 378/500\n",
            "6510/6510 [==============================] - 8s 1ms/step - loss: 0.3662 - acc: 0.8831\n",
            "Epoch 379/500\n",
            "6510/6510 [==============================] - 8s 1ms/step - loss: 0.3897 - acc: 0.8720\n",
            "Epoch 380/500\n",
            "6510/6510 [==============================] - 8s 1ms/step - loss: 0.3961 - acc: 0.8714\n",
            "Epoch 381/500\n",
            "6510/6510 [==============================] - 8s 1ms/step - loss: 0.3676 - acc: 0.8814\n",
            "Epoch 382/500\n",
            "6510/6510 [==============================] - 8s 1ms/step - loss: 0.3876 - acc: 0.8750\n",
            "Epoch 383/500\n",
            "6510/6510 [==============================] - 8s 1ms/step - loss: 0.3835 - acc: 0.8810\n",
            "Epoch 384/500\n",
            "6510/6510 [==============================] - 8s 1ms/step - loss: 0.3795 - acc: 0.8806\n",
            "Epoch 385/500\n",
            "6510/6510 [==============================] - 8s 1ms/step - loss: 0.3719 - acc: 0.8806\n",
            "Epoch 386/500\n",
            "6510/6510 [==============================] - 8s 1ms/step - loss: 0.3911 - acc: 0.8762\n",
            "Epoch 387/500\n",
            "6510/6510 [==============================] - 8s 1ms/step - loss: 0.3966 - acc: 0.8728\n",
            "Epoch 388/500\n",
            "6510/6510 [==============================] - 8s 1ms/step - loss: 0.3783 - acc: 0.8797\n",
            "Epoch 389/500\n",
            "6510/6510 [==============================] - 8s 1ms/step - loss: 0.3719 - acc: 0.8842\n",
            "Epoch 390/500\n",
            "6510/6510 [==============================] - 8s 1ms/step - loss: 0.3625 - acc: 0.8814\n",
            "Epoch 391/500\n",
            "6510/6510 [==============================] - 8s 1ms/step - loss: 0.3857 - acc: 0.8793\n",
            "Epoch 392/500\n",
            "6510/6510 [==============================] - 8s 1ms/step - loss: 0.3831 - acc: 0.8743\n",
            "Epoch 393/500\n",
            "6510/6510 [==============================] - 8s 1ms/step - loss: 0.3915 - acc: 0.8719\n",
            "Epoch 394/500\n",
            "6510/6510 [==============================] - 8s 1ms/step - loss: 0.3706 - acc: 0.8834\n",
            "Epoch 395/500\n",
            "6510/6510 [==============================] - 8s 1ms/step - loss: 0.3875 - acc: 0.8816\n",
            "Epoch 396/500\n",
            "6510/6510 [==============================] - 8s 1ms/step - loss: 0.3739 - acc: 0.8748\n",
            "Epoch 397/500\n",
            "6510/6510 [==============================] - 8s 1ms/step - loss: 0.3832 - acc: 0.8779\n",
            "Epoch 398/500\n",
            "6510/6510 [==============================] - 8s 1ms/step - loss: 0.3733 - acc: 0.8751\n",
            "Epoch 399/500\n",
            "6510/6510 [==============================] - 8s 1ms/step - loss: 0.3853 - acc: 0.8757\n",
            "Epoch 400/500\n",
            "6510/6510 [==============================] - 8s 1ms/step - loss: 0.3723 - acc: 0.8813\n",
            "Epoch 401/500\n",
            "6510/6510 [==============================] - 8s 1ms/step - loss: 0.3624 - acc: 0.8834\n",
            "Epoch 402/500\n",
            "6510/6510 [==============================] - 8s 1ms/step - loss: 0.3555 - acc: 0.8868\n",
            "Epoch 403/500\n",
            "6510/6510 [==============================] - 8s 1ms/step - loss: 0.3798 - acc: 0.8780\n",
            "Epoch 404/500\n",
            "6510/6510 [==============================] - 8s 1ms/step - loss: 0.3563 - acc: 0.8876\n",
            "Epoch 405/500\n",
            "6510/6510 [==============================] - 8s 1ms/step - loss: 0.3708 - acc: 0.8777\n",
            "Epoch 406/500\n",
            "6510/6510 [==============================] - 8s 1ms/step - loss: 0.3966 - acc: 0.8760\n",
            "Epoch 407/500\n",
            "6510/6510 [==============================] - 8s 1ms/step - loss: 0.3767 - acc: 0.8802\n",
            "Epoch 408/500\n",
            "6510/6510 [==============================] - 8s 1ms/step - loss: 0.3624 - acc: 0.8846\n",
            "Epoch 409/500\n",
            "6510/6510 [==============================] - 8s 1ms/step - loss: 0.3699 - acc: 0.8846\n",
            "Epoch 410/500\n",
            "6510/6510 [==============================] - 8s 1ms/step - loss: 0.3797 - acc: 0.8756\n",
            "Epoch 411/500\n",
            "6510/6510 [==============================] - 8s 1ms/step - loss: 0.3562 - acc: 0.8845\n",
            "Epoch 412/500\n",
            "6510/6510 [==============================] - 8s 1ms/step - loss: 0.3733 - acc: 0.8828\n",
            "Epoch 413/500\n",
            "6510/6510 [==============================] - 8s 1ms/step - loss: 0.3656 - acc: 0.8805\n",
            "Epoch 414/500\n",
            "6510/6510 [==============================] - 8s 1ms/step - loss: 0.3768 - acc: 0.8756\n",
            "Epoch 415/500\n",
            "6510/6510 [==============================] - 8s 1ms/step - loss: 0.3719 - acc: 0.8846\n",
            "Epoch 416/500\n",
            "6510/6510 [==============================] - 8s 1ms/step - loss: 0.3658 - acc: 0.8819\n",
            "Epoch 417/500\n",
            "6510/6510 [==============================] - 8s 1ms/step - loss: 0.3431 - acc: 0.8891\n",
            "Epoch 418/500\n",
            "6510/6510 [==============================] - 8s 1ms/step - loss: 0.3629 - acc: 0.8837\n",
            "Epoch 419/500\n",
            "6510/6510 [==============================] - 8s 1ms/step - loss: 0.3506 - acc: 0.8876\n",
            "Epoch 420/500\n",
            "6510/6510 [==============================] - 8s 1ms/step - loss: 0.3343 - acc: 0.8922\n",
            "Epoch 421/500\n",
            "6510/6510 [==============================] - 8s 1ms/step - loss: 0.3744 - acc: 0.8774\n",
            "Epoch 422/500\n",
            "6510/6510 [==============================] - 8s 1ms/step - loss: 0.3740 - acc: 0.8790\n",
            "Epoch 423/500\n",
            "6510/6510 [==============================] - 8s 1ms/step - loss: 0.3732 - acc: 0.8790\n",
            "Epoch 424/500\n",
            "6510/6510 [==============================] - 8s 1ms/step - loss: 0.3492 - acc: 0.8899\n",
            "Epoch 425/500\n",
            "6510/6510 [==============================] - 8s 1ms/step - loss: 0.3571 - acc: 0.8869\n",
            "Epoch 426/500\n",
            "6510/6510 [==============================] - 8s 1ms/step - loss: 0.3577 - acc: 0.8845\n",
            "Epoch 427/500\n",
            "6510/6510 [==============================] - 8s 1ms/step - loss: 0.3609 - acc: 0.8857\n",
            "Epoch 428/500\n",
            "6510/6510 [==============================] - 8s 1ms/step - loss: 0.3685 - acc: 0.8828\n",
            "Epoch 429/500\n",
            "6510/6510 [==============================] - 8s 1ms/step - loss: 0.3490 - acc: 0.8863\n",
            "Epoch 430/500\n",
            "6510/6510 [==============================] - 8s 1ms/step - loss: 0.3560 - acc: 0.8876\n",
            "Epoch 431/500\n",
            "6510/6510 [==============================] - 8s 1ms/step - loss: 0.3687 - acc: 0.8813\n",
            "Epoch 432/500\n",
            "6510/6510 [==============================] - 8s 1ms/step - loss: 0.3588 - acc: 0.8805\n",
            "Epoch 433/500\n",
            "6510/6510 [==============================] - 8s 1ms/step - loss: 0.3723 - acc: 0.8785\n",
            "Epoch 434/500\n",
            "6510/6510 [==============================] - 8s 1ms/step - loss: 0.3473 - acc: 0.8894\n",
            "Epoch 435/500\n",
            "6510/6510 [==============================] - 8s 1ms/step - loss: 0.3442 - acc: 0.8894\n",
            "Epoch 436/500\n",
            "6510/6510 [==============================] - 8s 1ms/step - loss: 0.3497 - acc: 0.8862\n",
            "Epoch 437/500\n",
            "6510/6510 [==============================] - 8s 1ms/step - loss: 0.3586 - acc: 0.8833\n",
            "Epoch 438/500\n",
            "6510/6510 [==============================] - 8s 1ms/step - loss: 0.3464 - acc: 0.8883\n",
            "Epoch 439/500\n",
            "6510/6510 [==============================] - 8s 1ms/step - loss: 0.3496 - acc: 0.8857\n",
            "Epoch 440/500\n",
            "6510/6510 [==============================] - 8s 1ms/step - loss: 0.3432 - acc: 0.8932\n",
            "Epoch 441/500\n",
            "6510/6510 [==============================] - 8s 1ms/step - loss: 0.3695 - acc: 0.8811\n",
            "Epoch 442/500\n",
            "6510/6510 [==============================] - 8s 1ms/step - loss: 0.3728 - acc: 0.8817\n",
            "Epoch 443/500\n",
            "6510/6510 [==============================] - 8s 1ms/step - loss: 0.3482 - acc: 0.8896\n",
            "Epoch 444/500\n",
            "6510/6510 [==============================] - 8s 1ms/step - loss: 0.3350 - acc: 0.8945\n",
            "Epoch 445/500\n",
            "6510/6510 [==============================] - 8s 1ms/step - loss: 0.3481 - acc: 0.8906\n",
            "Epoch 446/500\n",
            "6510/6510 [==============================] - 8s 1ms/step - loss: 0.3474 - acc: 0.8908\n",
            "Epoch 447/500\n",
            "6510/6510 [==============================] - 8s 1ms/step - loss: 0.3510 - acc: 0.8874\n",
            "Epoch 448/500\n",
            "6510/6510 [==============================] - 8s 1ms/step - loss: 0.3506 - acc: 0.8882\n",
            "Epoch 449/500\n",
            "6510/6510 [==============================] - 8s 1ms/step - loss: 0.3602 - acc: 0.8860\n",
            "Epoch 450/500\n",
            "6510/6510 [==============================] - 8s 1ms/step - loss: 0.3374 - acc: 0.8900\n",
            "Epoch 451/500\n",
            "6510/6510 [==============================] - 8s 1ms/step - loss: 0.3528 - acc: 0.8889\n",
            "Epoch 452/500\n",
            "6510/6510 [==============================] - 8s 1ms/step - loss: 0.3562 - acc: 0.8873\n",
            "Epoch 453/500\n",
            "6510/6510 [==============================] - 8s 1ms/step - loss: 0.3433 - acc: 0.8894\n",
            "Epoch 454/500\n",
            "6510/6510 [==============================] - 8s 1ms/step - loss: 0.3494 - acc: 0.8869\n",
            "Epoch 455/500\n",
            "6510/6510 [==============================] - 8s 1ms/step - loss: 0.3251 - acc: 0.8978\n",
            "Epoch 456/500\n",
            "6510/6510 [==============================] - 8s 1ms/step - loss: 0.3359 - acc: 0.8889\n",
            "Epoch 457/500\n",
            "6510/6510 [==============================] - 8s 1ms/step - loss: 0.3552 - acc: 0.8866\n",
            "Epoch 458/500\n",
            "6510/6510 [==============================] - 8s 1ms/step - loss: 0.3530 - acc: 0.8831\n",
            "Epoch 459/500\n",
            "6510/6510 [==============================] - 8s 1ms/step - loss: 0.3536 - acc: 0.8880\n",
            "Epoch 460/500\n",
            "6510/6510 [==============================] - 8s 1ms/step - loss: 0.3442 - acc: 0.8905\n",
            "Epoch 461/500\n",
            "6510/6510 [==============================] - 8s 1ms/step - loss: 0.3400 - acc: 0.8906\n",
            "Epoch 462/500\n",
            "6510/6510 [==============================] - 8s 1ms/step - loss: 0.3284 - acc: 0.8945\n",
            "Epoch 463/500\n",
            "6510/6510 [==============================] - 8s 1ms/step - loss: 0.3461 - acc: 0.8882\n",
            "Epoch 464/500\n",
            "6510/6510 [==============================] - 8s 1ms/step - loss: 0.3366 - acc: 0.8942\n",
            "Epoch 465/500\n",
            "6510/6510 [==============================] - 8s 1ms/step - loss: 0.3388 - acc: 0.8942\n",
            "Epoch 466/500\n",
            "6510/6510 [==============================] - 8s 1ms/step - loss: 0.3369 - acc: 0.8899\n",
            "Epoch 467/500\n",
            "6510/6510 [==============================] - 8s 1ms/step - loss: 0.3388 - acc: 0.8928\n",
            "Epoch 468/500\n",
            "6510/6510 [==============================] - 8s 1ms/step - loss: 0.3292 - acc: 0.8931\n",
            "Epoch 469/500\n",
            "6510/6510 [==============================] - 8s 1ms/step - loss: 0.3403 - acc: 0.8923\n",
            "Epoch 470/500\n",
            "6510/6510 [==============================] - 8s 1ms/step - loss: 0.3444 - acc: 0.8894\n",
            "Epoch 471/500\n",
            "6510/6510 [==============================] - 8s 1ms/step - loss: 0.3527 - acc: 0.8825\n",
            "Epoch 472/500\n",
            "6510/6510 [==============================] - 8s 1ms/step - loss: 0.3468 - acc: 0.8886\n",
            "Epoch 473/500\n",
            "6510/6510 [==============================] - 8s 1ms/step - loss: 0.3143 - acc: 0.8983\n",
            "Epoch 474/500\n",
            "6510/6510 [==============================] - 8s 1ms/step - loss: 0.3389 - acc: 0.8880\n",
            "Epoch 475/500\n",
            "6510/6510 [==============================] - 8s 1ms/step - loss: 0.3305 - acc: 0.8908\n",
            "Epoch 476/500\n",
            "6510/6510 [==============================] - 8s 1ms/step - loss: 0.3256 - acc: 0.8951\n",
            "Epoch 477/500\n",
            "6510/6510 [==============================] - 8s 1ms/step - loss: 0.3448 - acc: 0.8917\n",
            "Epoch 478/500\n",
            "6510/6510 [==============================] - 8s 1ms/step - loss: 0.3238 - acc: 0.8975\n",
            "Epoch 479/500\n",
            "6510/6510 [==============================] - 8s 1ms/step - loss: 0.3314 - acc: 0.8949\n",
            "Epoch 480/500\n",
            "6510/6510 [==============================] - 8s 1ms/step - loss: 0.3301 - acc: 0.8945\n",
            "Epoch 481/500\n",
            "6510/6510 [==============================] - 8s 1ms/step - loss: 0.3460 - acc: 0.8873\n",
            "Epoch 482/500\n",
            "6510/6510 [==============================] - 8s 1ms/step - loss: 0.3155 - acc: 0.8988\n",
            "Epoch 483/500\n",
            "6510/6510 [==============================] - 8s 1ms/step - loss: 0.3323 - acc: 0.8926\n",
            "Epoch 484/500\n",
            "6510/6510 [==============================] - 8s 1ms/step - loss: 0.3292 - acc: 0.8957\n",
            "Epoch 485/500\n",
            "6510/6510 [==============================] - 8s 1ms/step - loss: 0.3182 - acc: 0.8991\n",
            "Epoch 486/500\n",
            "6510/6510 [==============================] - 8s 1ms/step - loss: 0.3408 - acc: 0.8911\n",
            "Epoch 487/500\n",
            "6510/6510 [==============================] - 8s 1ms/step - loss: 0.3354 - acc: 0.8908\n",
            "Epoch 488/500\n",
            "6510/6510 [==============================] - 8s 1ms/step - loss: 0.3229 - acc: 0.8977\n",
            "Epoch 489/500\n",
            "6510/6510 [==============================] - 8s 1ms/step - loss: 0.3354 - acc: 0.8880\n",
            "Epoch 490/500\n",
            "6510/6510 [==============================] - 8s 1ms/step - loss: 0.3314 - acc: 0.8940\n",
            "Epoch 491/500\n",
            "6510/6510 [==============================] - 8s 1ms/step - loss: 0.3356 - acc: 0.8914\n",
            "Epoch 492/500\n",
            "6510/6510 [==============================] - 8s 1ms/step - loss: 0.3332 - acc: 0.8912\n",
            "Epoch 493/500\n",
            "6510/6510 [==============================] - 8s 1ms/step - loss: 0.3411 - acc: 0.8879\n",
            "Epoch 494/500\n",
            "6510/6510 [==============================] - 8s 1ms/step - loss: 0.3310 - acc: 0.8896\n",
            "Epoch 495/500\n",
            "6510/6510 [==============================] - 8s 1ms/step - loss: 0.3345 - acc: 0.8923\n",
            "Epoch 496/500\n",
            "6510/6510 [==============================] - 8s 1ms/step - loss: 0.3183 - acc: 0.8926\n",
            "Epoch 497/500\n",
            "6510/6510 [==============================] - 8s 1ms/step - loss: 0.3212 - acc: 0.8992\n",
            "Epoch 498/500\n",
            "6510/6510 [==============================] - 8s 1ms/step - loss: 0.3308 - acc: 0.8923\n",
            "Epoch 499/500\n",
            "6510/6510 [==============================] - 8s 1ms/step - loss: 0.3369 - acc: 0.8920\n",
            "Epoch 500/500\n",
            "6510/6510 [==============================] - 8s 1ms/step - loss: 0.3257 - acc: 0.8951\n"
          ],
          "name": "stdout"
        }
      ]
    },
    {
      "cell_type": "markdown",
      "metadata": {
        "colab_type": "text",
        "id": "82716QWAJrXG"
      },
      "source": [
        "### Save Model"
      ]
    },
    {
      "cell_type": "code",
      "metadata": {
        "colab_type": "code",
        "id": "_8MFkQgYJm-D",
        "colab": {}
      },
      "source": [
        "# save the model to file\n",
        "model.save('./data/model_500epochs.h5')"
      ],
      "execution_count": 0,
      "outputs": []
    },
    {
      "cell_type": "markdown",
      "metadata": {
        "colab_type": "text",
        "id": "4AYVKydVJv5C"
      },
      "source": [
        "## If you have already trained the model and saved it, you can load a pretrained model"
      ]
    },
    {
      "cell_type": "code",
      "metadata": {
        "colab_type": "code",
        "id": "IqsQUz04J0GP",
        "colab": {}
      },
      "source": [
        "# load the model\n",
        "model = load_model('./data/model_500epochs.h5')"
      ],
      "execution_count": 0,
      "outputs": []
    },
    {
      "cell_type": "markdown",
      "metadata": {
        "colab_type": "text",
        "id": "ZFe2Y0SJJ3Hb"
      },
      "source": [
        "### Note: After loading the model run  model.fit()  to continue training form there, if required."
      ]
    },
    {
      "cell_type": "code",
      "metadata": {
        "colab_type": "code",
        "id": "e9yLm_xnJ5JV",
        "outputId": "685da8a9-73eb-46d5-89c1-e9fa6aefa79f",
        "colab": {
          "base_uri": "https://localhost:8080/",
          "height": 1000
        }
      },
      "source": [
        "model.fit(X_train, y_train, batch_size=50, epochs=200)"
      ],
      "execution_count": 0,
      "outputs": [
        {
          "output_type": "stream",
          "text": [
            "Epoch 1/200\n",
            "6510/6510 [==============================] - 9s 1ms/step - loss: 0.3211 - acc: 0.8946\n",
            "Epoch 2/200\n",
            "6510/6510 [==============================] - 8s 1ms/step - loss: 0.3229 - acc: 0.8945\n",
            "Epoch 3/200\n",
            "6510/6510 [==============================] - 8s 1ms/step - loss: 0.3091 - acc: 0.8977\n",
            "Epoch 4/200\n",
            "6510/6510 [==============================] - 8s 1ms/step - loss: 0.3131 - acc: 0.8966\n",
            "Epoch 5/200\n",
            "6510/6510 [==============================] - 8s 1ms/step - loss: 0.3300 - acc: 0.8929\n",
            "Epoch 6/200\n",
            "6510/6510 [==============================] - 8s 1ms/step - loss: 0.3303 - acc: 0.8945\n",
            "Epoch 7/200\n",
            "6510/6510 [==============================] - 8s 1ms/step - loss: 0.3260 - acc: 0.8965\n",
            "Epoch 8/200\n",
            "6510/6510 [==============================] - 8s 1ms/step - loss: 0.3246 - acc: 0.8966\n",
            "Epoch 9/200\n",
            "6510/6510 [==============================] - 8s 1ms/step - loss: 0.3130 - acc: 0.8966\n",
            "Epoch 10/200\n",
            "6510/6510 [==============================] - 8s 1ms/step - loss: 0.3272 - acc: 0.8940\n",
            "Epoch 11/200\n",
            "6510/6510 [==============================] - 8s 1ms/step - loss: 0.3206 - acc: 0.8955\n",
            "Epoch 12/200\n",
            "6510/6510 [==============================] - 8s 1ms/step - loss: 0.3261 - acc: 0.8968\n",
            "Epoch 13/200\n",
            "6510/6510 [==============================] - 8s 1ms/step - loss: 0.3185 - acc: 0.8998\n",
            "Epoch 14/200\n",
            "6510/6510 [==============================] - 8s 1ms/step - loss: 0.3239 - acc: 0.8963\n",
            "Epoch 15/200\n",
            "6510/6510 [==============================] - 8s 1ms/step - loss: 0.3130 - acc: 0.8997\n",
            "Epoch 16/200\n",
            "6510/6510 [==============================] - 8s 1ms/step - loss: 0.3279 - acc: 0.8928\n",
            "Epoch 17/200\n",
            "6510/6510 [==============================] - 8s 1ms/step - loss: 0.3436 - acc: 0.8896\n",
            "Epoch 18/200\n",
            "6510/6510 [==============================] - 8s 1ms/step - loss: 0.3329 - acc: 0.8932\n",
            "Epoch 19/200\n",
            "6510/6510 [==============================] - 8s 1ms/step - loss: 0.3293 - acc: 0.8962\n",
            "Epoch 20/200\n",
            "6510/6510 [==============================] - 8s 1ms/step - loss: 0.3215 - acc: 0.8935\n",
            "Epoch 21/200\n",
            "6510/6510 [==============================] - 8s 1ms/step - loss: 0.3361 - acc: 0.8909\n",
            "Epoch 22/200\n",
            "6510/6510 [==============================] - 8s 1ms/step - loss: 0.3347 - acc: 0.8885\n",
            "Epoch 23/200\n",
            "6510/6510 [==============================] - 8s 1ms/step - loss: 0.3389 - acc: 0.8905\n",
            "Epoch 24/200\n",
            "6510/6510 [==============================] - 8s 1ms/step - loss: 0.3274 - acc: 0.8932\n",
            "Epoch 25/200\n",
            "6510/6510 [==============================] - 8s 1ms/step - loss: 0.3198 - acc: 0.8968\n",
            "Epoch 26/200\n",
            "6510/6510 [==============================] - 8s 1ms/step - loss: 0.3207 - acc: 0.8968\n",
            "Epoch 27/200\n",
            "6510/6510 [==============================] - 8s 1ms/step - loss: 0.3064 - acc: 0.9025\n",
            "Epoch 28/200\n",
            "6510/6510 [==============================] - 8s 1ms/step - loss: 0.3303 - acc: 0.8952\n",
            "Epoch 29/200\n",
            "6510/6510 [==============================] - 8s 1ms/step - loss: 0.3251 - acc: 0.8948\n",
            "Epoch 30/200\n",
            "6510/6510 [==============================] - 8s 1ms/step - loss: 0.3291 - acc: 0.8951\n",
            "Epoch 31/200\n",
            "6510/6510 [==============================] - 8s 1ms/step - loss: 0.3068 - acc: 0.9022\n",
            "Epoch 32/200\n",
            "6510/6510 [==============================] - 8s 1ms/step - loss: 0.3297 - acc: 0.8948\n",
            "Epoch 33/200\n",
            "6510/6510 [==============================] - 8s 1ms/step - loss: 0.3182 - acc: 0.9002\n",
            "Epoch 34/200\n",
            "6510/6510 [==============================] - 8s 1ms/step - loss: 0.3112 - acc: 0.9006\n",
            "Epoch 35/200\n",
            "6510/6510 [==============================] - 8s 1ms/step - loss: 0.3099 - acc: 0.9009\n",
            "Epoch 36/200\n",
            "6510/6510 [==============================] - 8s 1ms/step - loss: 0.3178 - acc: 0.8949\n",
            "Epoch 37/200\n",
            "6510/6510 [==============================] - 8s 1ms/step - loss: 0.3135 - acc: 0.9014\n",
            "Epoch 38/200\n",
            "6510/6510 [==============================] - 8s 1ms/step - loss: 0.3112 - acc: 0.8983\n",
            "Epoch 39/200\n",
            "6510/6510 [==============================] - 8s 1ms/step - loss: 0.2963 - acc: 0.9052\n",
            "Epoch 40/200\n",
            "6510/6510 [==============================] - 8s 1ms/step - loss: 0.3138 - acc: 0.8994\n",
            "Epoch 41/200\n",
            "6510/6510 [==============================] - 8s 1ms/step - loss: 0.3134 - acc: 0.9008\n",
            "Epoch 42/200\n",
            "6510/6510 [==============================] - 8s 1ms/step - loss: 0.3121 - acc: 0.9002\n",
            "Epoch 43/200\n",
            "6510/6510 [==============================] - 8s 1ms/step - loss: 0.3118 - acc: 0.8991\n",
            "Epoch 44/200\n",
            "6510/6510 [==============================] - 8s 1ms/step - loss: 0.3082 - acc: 0.9002\n",
            "Epoch 45/200\n",
            "6510/6510 [==============================] - 8s 1ms/step - loss: 0.3327 - acc: 0.8951\n",
            "Epoch 46/200\n",
            "6510/6510 [==============================] - 8s 1ms/step - loss: 0.3119 - acc: 0.8978\n",
            "Epoch 47/200\n",
            "6510/6510 [==============================] - 8s 1ms/step - loss: 0.3104 - acc: 0.8985\n",
            "Epoch 48/200\n",
            "6510/6510 [==============================] - 8s 1ms/step - loss: 0.3068 - acc: 0.9014\n",
            "Epoch 49/200\n",
            "6510/6510 [==============================] - 8s 1ms/step - loss: 0.2941 - acc: 0.9057\n",
            "Epoch 50/200\n",
            "6510/6510 [==============================] - 8s 1ms/step - loss: 0.3168 - acc: 0.8988\n",
            "Epoch 51/200\n",
            "6510/6510 [==============================] - 8s 1ms/step - loss: 0.2920 - acc: 0.9083\n",
            "Epoch 52/200\n",
            "6510/6510 [==============================] - 8s 1ms/step - loss: 0.3170 - acc: 0.9022\n",
            "Epoch 53/200\n",
            "6510/6510 [==============================] - 8s 1ms/step - loss: 0.3057 - acc: 0.8986\n",
            "Epoch 54/200\n",
            "6510/6510 [==============================] - 8s 1ms/step - loss: 0.3168 - acc: 0.8988\n",
            "Epoch 55/200\n",
            "6510/6510 [==============================] - 8s 1ms/step - loss: 0.2967 - acc: 0.9055\n",
            "Epoch 56/200\n",
            "6510/6510 [==============================] - 8s 1ms/step - loss: 0.3049 - acc: 0.9018\n",
            "Epoch 57/200\n",
            "6510/6510 [==============================] - 8s 1ms/step - loss: 0.3139 - acc: 0.8965\n",
            "Epoch 58/200\n",
            "6510/6510 [==============================] - 8s 1ms/step - loss: 0.3067 - acc: 0.8998\n",
            "Epoch 59/200\n",
            "6510/6510 [==============================] - 8s 1ms/step - loss: 0.3142 - acc: 0.8978\n",
            "Epoch 60/200\n",
            "6510/6510 [==============================] - 8s 1ms/step - loss: 0.3123 - acc: 0.9002\n",
            "Epoch 61/200\n",
            "6510/6510 [==============================] - 8s 1ms/step - loss: 0.3072 - acc: 0.9018\n",
            "Epoch 62/200\n",
            "6510/6510 [==============================] - 8s 1ms/step - loss: 0.2897 - acc: 0.9072\n",
            "Epoch 63/200\n",
            "6510/6510 [==============================] - 8s 1ms/step - loss: 0.3187 - acc: 0.8963\n",
            "Epoch 64/200\n",
            "6510/6510 [==============================] - 8s 1ms/step - loss: 0.2974 - acc: 0.9029\n",
            "Epoch 65/200\n",
            "6510/6510 [==============================] - 8s 1ms/step - loss: 0.2781 - acc: 0.9081\n",
            "Epoch 66/200\n",
            "6510/6510 [==============================] - 8s 1ms/step - loss: 0.3016 - acc: 0.9017\n",
            "Epoch 67/200\n",
            "6510/6510 [==============================] - 8s 1ms/step - loss: 0.3104 - acc: 0.9006\n",
            "Epoch 68/200\n",
            "6510/6510 [==============================] - 8s 1ms/step - loss: 0.3210 - acc: 0.8955\n",
            "Epoch 69/200\n",
            "6510/6510 [==============================] - 8s 1ms/step - loss: 0.3216 - acc: 0.8992\n",
            "Epoch 70/200\n",
            "6510/6510 [==============================] - 8s 1ms/step - loss: 0.2914 - acc: 0.9061\n",
            "Epoch 71/200\n",
            "6510/6510 [==============================] - 8s 1ms/step - loss: 0.2795 - acc: 0.9103\n",
            "Epoch 72/200\n",
            "6510/6510 [==============================] - 8s 1ms/step - loss: 0.3078 - acc: 0.9020\n",
            "Epoch 73/200\n",
            "6510/6510 [==============================] - 8s 1ms/step - loss: 0.3073 - acc: 0.9031\n",
            "Epoch 74/200\n",
            "6510/6510 [==============================] - 8s 1ms/step - loss: 0.2882 - acc: 0.9031\n",
            "Epoch 75/200\n",
            "6510/6510 [==============================] - 8s 1ms/step - loss: 0.2893 - acc: 0.9055\n",
            "Epoch 76/200\n",
            "6510/6510 [==============================] - 8s 1ms/step - loss: 0.2943 - acc: 0.9029\n",
            "Epoch 77/200\n",
            "6510/6510 [==============================] - 8s 1ms/step - loss: 0.2962 - acc: 0.9040\n",
            "Epoch 78/200\n",
            "6510/6510 [==============================] - 8s 1ms/step - loss: 0.3179 - acc: 0.8975\n",
            "Epoch 79/200\n",
            "6510/6510 [==============================] - 8s 1ms/step - loss: 0.2977 - acc: 0.9032\n",
            "Epoch 80/200\n",
            "6510/6510 [==============================] - 8s 1ms/step - loss: 0.2964 - acc: 0.9046\n",
            "Epoch 81/200\n",
            "6510/6510 [==============================] - 8s 1ms/step - loss: 0.2776 - acc: 0.9083\n",
            "Epoch 82/200\n",
            "6510/6510 [==============================] - 8s 1ms/step - loss: 0.3034 - acc: 0.9011\n",
            "Epoch 83/200\n",
            "6510/6510 [==============================] - 8s 1ms/step - loss: 0.2922 - acc: 0.9078\n",
            "Epoch 84/200\n",
            "6510/6510 [==============================] - 8s 1ms/step - loss: 0.3045 - acc: 0.9025\n",
            "Epoch 85/200\n",
            "6510/6510 [==============================] - 8s 1ms/step - loss: 0.2938 - acc: 0.9048\n",
            "Epoch 86/200\n",
            "6510/6510 [==============================] - 8s 1ms/step - loss: 0.3043 - acc: 0.9023\n",
            "Epoch 87/200\n",
            "6510/6510 [==============================] - 8s 1ms/step - loss: 0.3086 - acc: 0.9022\n",
            "Epoch 88/200\n",
            "6510/6510 [==============================] - 8s 1ms/step - loss: 0.3048 - acc: 0.9002\n",
            "Epoch 89/200\n",
            "6510/6510 [==============================] - 8s 1ms/step - loss: 0.2896 - acc: 0.9084\n",
            "Epoch 90/200\n",
            "6510/6510 [==============================] - 8s 1ms/step - loss: 0.2932 - acc: 0.9071\n",
            "Epoch 91/200\n",
            "6510/6510 [==============================] - 8s 1ms/step - loss: 0.2973 - acc: 0.9052\n",
            "Epoch 92/200\n",
            "6510/6510 [==============================] - 8s 1ms/step - loss: 0.3009 - acc: 0.9034\n",
            "Epoch 93/200\n",
            "6510/6510 [==============================] - 8s 1ms/step - loss: 0.2931 - acc: 0.9041\n",
            "Epoch 94/200\n",
            "6510/6510 [==============================] - 8s 1ms/step - loss: 0.3077 - acc: 0.9022\n",
            "Epoch 95/200\n",
            "6510/6510 [==============================] - 8s 1ms/step - loss: 0.3072 - acc: 0.8997\n",
            "Epoch 96/200\n",
            "6510/6510 [==============================] - 8s 1ms/step - loss: 0.3017 - acc: 0.9014\n",
            "Epoch 97/200\n",
            "6510/6510 [==============================] - 8s 1ms/step - loss: 0.2968 - acc: 0.9054\n",
            "Epoch 98/200\n",
            "6510/6510 [==============================] - 8s 1ms/step - loss: 0.2895 - acc: 0.9054\n",
            "Epoch 99/200\n",
            "6510/6510 [==============================] - 8s 1ms/step - loss: 0.3045 - acc: 0.9005\n",
            "Epoch 100/200\n",
            "6510/6510 [==============================] - 8s 1ms/step - loss: 0.3176 - acc: 0.8966\n",
            "Epoch 101/200\n",
            "6510/6510 [==============================] - 8s 1ms/step - loss: 0.2839 - acc: 0.9083\n",
            "Epoch 102/200\n",
            "6510/6510 [==============================] - 8s 1ms/step - loss: 0.2907 - acc: 0.9063\n",
            "Epoch 103/200\n",
            "6510/6510 [==============================] - 8s 1ms/step - loss: 0.3019 - acc: 0.9005\n",
            "Epoch 104/200\n",
            "6510/6510 [==============================] - 8s 1ms/step - loss: 0.3023 - acc: 0.9028\n",
            "Epoch 105/200\n",
            "6510/6510 [==============================] - 8s 1ms/step - loss: 0.2892 - acc: 0.9075\n",
            "Epoch 106/200\n",
            "6510/6510 [==============================] - 8s 1ms/step - loss: 0.3070 - acc: 0.9035\n",
            "Epoch 107/200\n",
            "6510/6510 [==============================] - 8s 1ms/step - loss: 0.2822 - acc: 0.9052\n",
            "Epoch 108/200\n",
            "6510/6510 [==============================] - 8s 1ms/step - loss: 0.2807 - acc: 0.9103\n",
            "Epoch 109/200\n",
            "6510/6510 [==============================] - 8s 1ms/step - loss: 0.3004 - acc: 0.9041\n",
            "Epoch 110/200\n",
            "6510/6510 [==============================] - 8s 1ms/step - loss: 0.2934 - acc: 0.9066\n",
            "Epoch 111/200\n",
            "6510/6510 [==============================] - 8s 1ms/step - loss: 0.2833 - acc: 0.9084\n",
            "Epoch 112/200\n",
            "6510/6510 [==============================] - 8s 1ms/step - loss: 0.2886 - acc: 0.9058\n",
            "Epoch 113/200\n",
            "6510/6510 [==============================] - 8s 1ms/step - loss: 0.2860 - acc: 0.9069\n",
            "Epoch 114/200\n",
            "6510/6510 [==============================] - 8s 1ms/step - loss: 0.2947 - acc: 0.9051\n",
            "Epoch 115/200\n",
            "6510/6510 [==============================] - 8s 1ms/step - loss: 0.2828 - acc: 0.9077\n",
            "Epoch 116/200\n",
            "6510/6510 [==============================] - 8s 1ms/step - loss: 0.2887 - acc: 0.9057\n",
            "Epoch 117/200\n",
            "6510/6510 [==============================] - 8s 1ms/step - loss: 0.2701 - acc: 0.9108\n",
            "Epoch 118/200\n",
            "6510/6510 [==============================] - 8s 1ms/step - loss: 0.2891 - acc: 0.9071\n",
            "Epoch 119/200\n",
            "6510/6510 [==============================] - 8s 1ms/step - loss: 0.2742 - acc: 0.9114\n",
            "Epoch 120/200\n",
            "6510/6510 [==============================] - 8s 1ms/step - loss: 0.2817 - acc: 0.9063\n",
            "Epoch 121/200\n",
            "6510/6510 [==============================] - 8s 1ms/step - loss: 0.3061 - acc: 0.9054\n",
            "Epoch 122/200\n",
            "6510/6510 [==============================] - 8s 1ms/step - loss: 0.2768 - acc: 0.9147\n",
            "Epoch 123/200\n",
            "6510/6510 [==============================] - 8s 1ms/step - loss: 0.2836 - acc: 0.9094\n",
            "Epoch 124/200\n",
            "6510/6510 [==============================] - 8s 1ms/step - loss: 0.2715 - acc: 0.9109\n",
            "Epoch 125/200\n",
            "6510/6510 [==============================] - 8s 1ms/step - loss: 0.2892 - acc: 0.9111\n",
            "Epoch 126/200\n",
            "6510/6510 [==============================] - 8s 1ms/step - loss: 0.2655 - acc: 0.9123\n",
            "Epoch 127/200\n",
            "6510/6510 [==============================] - 8s 1ms/step - loss: 0.2794 - acc: 0.9115\n",
            "Epoch 128/200\n",
            "6510/6510 [==============================] - 8s 1ms/step - loss: 0.2951 - acc: 0.9057\n",
            "Epoch 129/200\n",
            "6510/6510 [==============================] - 8s 1ms/step - loss: 0.2886 - acc: 0.9066\n",
            "Epoch 130/200\n",
            "6510/6510 [==============================] - 8s 1ms/step - loss: 0.2678 - acc: 0.9134\n",
            "Epoch 131/200\n",
            "6510/6510 [==============================] - 8s 1ms/step - loss: 0.2814 - acc: 0.9097\n",
            "Epoch 132/200\n",
            "6510/6510 [==============================] - 8s 1ms/step - loss: 0.2978 - acc: 0.9052\n",
            "Epoch 133/200\n",
            "6510/6510 [==============================] - 8s 1ms/step - loss: 0.3018 - acc: 0.9066\n",
            "Epoch 134/200\n",
            "6510/6510 [==============================] - 8s 1ms/step - loss: 0.2692 - acc: 0.9101\n",
            "Epoch 135/200\n",
            "6510/6510 [==============================] - 8s 1ms/step - loss: 0.2926 - acc: 0.9032\n",
            "Epoch 136/200\n",
            "6510/6510 [==============================] - 8s 1ms/step - loss: 0.2969 - acc: 0.9043\n",
            "Epoch 137/200\n",
            "6510/6510 [==============================] - 8s 1ms/step - loss: 0.2814 - acc: 0.9111\n",
            "Epoch 138/200\n",
            "6510/6510 [==============================] - 8s 1ms/step - loss: 0.2738 - acc: 0.9137\n",
            "Epoch 139/200\n",
            "6510/6510 [==============================] - 8s 1ms/step - loss: 0.2880 - acc: 0.9054\n",
            "Epoch 140/200\n",
            "6510/6510 [==============================] - 8s 1ms/step - loss: 0.2834 - acc: 0.9123\n",
            "Epoch 141/200\n",
            "6510/6510 [==============================] - 8s 1ms/step - loss: 0.2849 - acc: 0.9127\n",
            "Epoch 142/200\n",
            "6510/6510 [==============================] - 8s 1ms/step - loss: 0.2812 - acc: 0.9081\n",
            "Epoch 143/200\n",
            "6510/6510 [==============================] - 8s 1ms/step - loss: 0.2869 - acc: 0.9063\n",
            "Epoch 144/200\n",
            "6510/6510 [==============================] - 8s 1ms/step - loss: 0.2806 - acc: 0.9088\n",
            "Epoch 145/200\n",
            "6510/6510 [==============================] - 8s 1ms/step - loss: 0.2822 - acc: 0.9060\n",
            "Epoch 146/200\n",
            "6510/6510 [==============================] - 8s 1ms/step - loss: 0.2777 - acc: 0.9077\n",
            "Epoch 147/200\n",
            "6510/6510 [==============================] - 8s 1ms/step - loss: 0.2684 - acc: 0.9084\n",
            "Epoch 148/200\n",
            "6510/6510 [==============================] - 8s 1ms/step - loss: 0.2675 - acc: 0.9080\n",
            "Epoch 149/200\n",
            "6510/6510 [==============================] - 8s 1ms/step - loss: 0.2917 - acc: 0.9058\n",
            "Epoch 150/200\n",
            "6510/6510 [==============================] - 8s 1ms/step - loss: 0.2767 - acc: 0.9121\n",
            "Epoch 151/200\n",
            "6510/6510 [==============================] - 8s 1ms/step - loss: 0.2742 - acc: 0.9101\n",
            "Epoch 152/200\n",
            "6510/6510 [==============================] - 8s 1ms/step - loss: 0.2816 - acc: 0.9081\n",
            "Epoch 153/200\n",
            "6510/6510 [==============================] - 8s 1ms/step - loss: 0.2768 - acc: 0.9092\n",
            "Epoch 154/200\n",
            "6510/6510 [==============================] - 8s 1ms/step - loss: 0.2666 - acc: 0.9184\n",
            "Epoch 155/200\n",
            "6510/6510 [==============================] - 8s 1ms/step - loss: 0.2702 - acc: 0.9132\n",
            "Epoch 156/200\n",
            "6510/6510 [==============================] - 8s 1ms/step - loss: 0.2817 - acc: 0.9069\n",
            "Epoch 157/200\n",
            "6510/6510 [==============================] - 8s 1ms/step - loss: 0.2862 - acc: 0.9103\n",
            "Epoch 158/200\n",
            "6510/6510 [==============================] - 8s 1ms/step - loss: 0.2824 - acc: 0.9083\n",
            "Epoch 159/200\n",
            "6510/6510 [==============================] - 8s 1ms/step - loss: 0.2911 - acc: 0.9071\n",
            "Epoch 160/200\n",
            "6510/6510 [==============================] - 8s 1ms/step - loss: 0.2817 - acc: 0.9065\n",
            "Epoch 161/200\n",
            "6510/6510 [==============================] - 8s 1ms/step - loss: 0.2647 - acc: 0.9123\n",
            "Epoch 162/200\n",
            "6510/6510 [==============================] - 8s 1ms/step - loss: 0.2804 - acc: 0.9075\n",
            "Epoch 163/200\n",
            "6510/6510 [==============================] - 8s 1ms/step - loss: 0.2963 - acc: 0.9051\n",
            "Epoch 164/200\n",
            "6510/6510 [==============================] - 8s 1ms/step - loss: 0.2937 - acc: 0.9045\n",
            "Epoch 165/200\n",
            "6510/6510 [==============================] - 8s 1ms/step - loss: 0.2706 - acc: 0.9100\n",
            "Epoch 166/200\n",
            "6510/6510 [==============================] - 8s 1ms/step - loss: 0.2770 - acc: 0.9114\n",
            "Epoch 167/200\n",
            "6510/6510 [==============================] - 8s 1ms/step - loss: 0.2881 - acc: 0.9058\n",
            "Epoch 168/200\n",
            "6510/6510 [==============================] - 8s 1ms/step - loss: 0.2882 - acc: 0.9061\n",
            "Epoch 169/200\n",
            "6510/6510 [==============================] - 8s 1ms/step - loss: 0.2791 - acc: 0.9061\n",
            "Epoch 170/200\n",
            "6510/6510 [==============================] - 8s 1ms/step - loss: 0.2769 - acc: 0.9123\n",
            "Epoch 171/200\n",
            "6510/6510 [==============================] - 8s 1ms/step - loss: 0.2814 - acc: 0.9092\n",
            "Epoch 172/200\n",
            "6510/6510 [==============================] - 8s 1ms/step - loss: 0.2660 - acc: 0.9132\n",
            "Epoch 173/200\n",
            "6510/6510 [==============================] - 8s 1ms/step - loss: 0.2699 - acc: 0.9140\n",
            "Epoch 174/200\n",
            "6510/6510 [==============================] - 8s 1ms/step - loss: 0.2567 - acc: 0.9163\n",
            "Epoch 175/200\n",
            "6510/6510 [==============================] - 8s 1ms/step - loss: 0.2617 - acc: 0.9134\n",
            "Epoch 176/200\n",
            "6510/6510 [==============================] - 8s 1ms/step - loss: 0.2565 - acc: 0.9195\n",
            "Epoch 177/200\n",
            "6510/6510 [==============================] - 8s 1ms/step - loss: 0.2557 - acc: 0.9161\n",
            "Epoch 178/200\n",
            "6510/6510 [==============================] - 8s 1ms/step - loss: 0.2571 - acc: 0.9158\n",
            "Epoch 179/200\n",
            "6510/6510 [==============================] - 8s 1ms/step - loss: 0.2670 - acc: 0.9137\n",
            "Epoch 180/200\n",
            "6510/6510 [==============================] - 8s 1ms/step - loss: 0.2736 - acc: 0.9121\n",
            "Epoch 181/200\n",
            "6510/6510 [==============================] - 8s 1ms/step - loss: 0.2752 - acc: 0.9137\n",
            "Epoch 182/200\n",
            "6510/6510 [==============================] - 8s 1ms/step - loss: 0.2761 - acc: 0.9083\n",
            "Epoch 183/200\n",
            "6510/6510 [==============================] - 8s 1ms/step - loss: 0.2654 - acc: 0.9131\n",
            "Epoch 184/200\n",
            "6510/6510 [==============================] - 8s 1ms/step - loss: 0.2843 - acc: 0.9078\n",
            "Epoch 185/200\n",
            "6510/6510 [==============================] - 8s 1ms/step - loss: 0.2663 - acc: 0.9138\n",
            "Epoch 186/200\n",
            "6510/6510 [==============================] - 8s 1ms/step - loss: 0.2799 - acc: 0.9118\n",
            "Epoch 187/200\n",
            "6510/6510 [==============================] - 8s 1ms/step - loss: 0.2605 - acc: 0.9160\n",
            "Epoch 188/200\n",
            "6510/6510 [==============================] - 8s 1ms/step - loss: 0.2906 - acc: 0.9061\n",
            "Epoch 189/200\n",
            "6510/6510 [==============================] - 8s 1ms/step - loss: 0.2680 - acc: 0.9117\n",
            "Epoch 190/200\n",
            "6510/6510 [==============================] - 8s 1ms/step - loss: 0.2689 - acc: 0.9174\n",
            "Epoch 191/200\n",
            "6510/6510 [==============================] - 8s 1ms/step - loss: 0.2850 - acc: 0.9037\n",
            "Epoch 192/200\n",
            "6510/6510 [==============================] - 8s 1ms/step - loss: 0.2656 - acc: 0.9138\n",
            "Epoch 193/200\n",
            "6510/6510 [==============================] - 8s 1ms/step - loss: 0.2764 - acc: 0.9121\n",
            "Epoch 194/200\n",
            "6510/6510 [==============================] - 8s 1ms/step - loss: 0.2599 - acc: 0.9138\n",
            "Epoch 195/200\n",
            "6510/6510 [==============================] - 8s 1ms/step - loss: 0.2588 - acc: 0.9164\n",
            "Epoch 196/200\n",
            "6510/6510 [==============================] - 8s 1ms/step - loss: 0.2559 - acc: 0.9178\n",
            "Epoch 197/200\n",
            "6510/6510 [==============================] - 8s 1ms/step - loss: 0.2702 - acc: 0.9138\n",
            "Epoch 198/200\n",
            "6510/6510 [==============================] - 8s 1ms/step - loss: 0.2537 - acc: 0.9190\n",
            "Epoch 199/200\n",
            "6510/6510 [==============================] - 8s 1ms/step - loss: 0.2740 - acc: 0.9151\n",
            "Epoch 200/200\n",
            "6510/6510 [==============================] - 8s 1ms/step - loss: 0.2604 - acc: 0.9152\n"
          ],
          "name": "stdout"
        },
        {
          "output_type": "execute_result",
          "data": {
            "text/plain": [
              "<keras.callbacks.History at 0x7feac271a7f0>"
            ]
          },
          "metadata": {
            "tags": []
          },
          "execution_count": 61
        }
      ]
    },
    {
      "cell_type": "markdown",
      "metadata": {
        "colab_type": "text",
        "id": "EmkaxXdjHdyd"
      },
      "source": [
        "## Evaluation"
      ]
    },
    {
      "cell_type": "code",
      "metadata": {
        "colab_type": "code",
        "id": "7RraFX9YHdye",
        "outputId": "be582d43-f840-4dee-95b4-170619a357a8",
        "colab": {
          "base_uri": "https://localhost:8080/",
          "height": 118
        }
      },
      "source": [
        "print(model.evaluate(X_train, y_train, batch_size = 20))\n",
        "print('\\nModel Performance: Log Loss and Accuracy on validation data')\n",
        "print(model.evaluate(X_valid, y_valid, batch_size = 20))"
      ],
      "execution_count": 0,
      "outputs": [
        {
          "output_type": "stream",
          "text": [
            "6510/6510 [==============================] - 9s 1ms/step\n",
            "[0.01829928990442294, 0.9930875559556319]\n",
            "\n",
            "Model Performance: Log Loss and Accuracy on validation data\n",
            "2790/2790 [==============================] - 4s 1ms/step\n",
            "[9.108413949234938, 0.3784946254504624]\n"
          ],
          "name": "stdout"
        }
      ]
    },
    {
      "cell_type": "markdown",
      "metadata": {
        "colab_type": "text",
        "id": "u5CKxykLHdyj"
      },
      "source": [
        "## Generate text"
      ]
    },
    {
      "cell_type": "code",
      "metadata": {
        "colab_type": "code",
        "id": "4JSW5EwKHdyk",
        "outputId": "d97d1b2e-a674-4b3a-8012-987c666e46bb",
        "colab": {
          "base_uri": "https://localhost:8080/",
          "height": 281
        }
      },
      "source": [
        "seed_length=50\n",
        "new_words=50\n",
        "diversity=1\n",
        "n_gen=1\n",
        "\n",
        "import random\n",
        "\n",
        "# Choose a random sequence\n",
        "seq = random.choice(sequences)\n",
        "\n",
        "# print seq\n",
        "\n",
        "# Choose a random starting point\n",
        "seed_idx = random.randint(0, len(seq) - seed_length - 10)\n",
        "# Ending index for seed\n",
        "end_idx = seed_idx + seed_length\n",
        "\n",
        "gen_list = []\n",
        "\n",
        "for n in range(n_gen):\n",
        "    # Extract the seed sequence\n",
        "    seed = seq[seed_idx:end_idx]\n",
        "    original_sequence = [idx_word[i] for i in seed]\n",
        "    generated = seed[:] + ['#']\n",
        "\n",
        "    # Find the actual entire sequence\n",
        "    actual = generated[:] + seq[end_idx:end_idx + new_words]\n",
        "        \n",
        "    # Keep adding new words\n",
        "    for i in range(new_words):\n",
        "\n",
        "        # Make a prediction from the seed\n",
        "        preds = model.predict(np.array(seed).reshape(1, -1))[0].astype(np.float64)\n",
        "\n",
        "        # Diversify\n",
        "        preds = np.log(preds) / diversity\n",
        "        exp_preds = np.exp(preds)\n",
        "\n",
        "        # Softmax\n",
        "        preds = exp_preds / sum(exp_preds)\n",
        "\n",
        "        # Choose the next word\n",
        "        probas = np.random.multinomial(1, preds, 1)[0]\n",
        "\n",
        "        next_idx = np.argmax(probas)\n",
        "\n",
        "        # New seed adds on old word\n",
        "        #             seed = seed[1:] + [next_idx]\n",
        "        seed += [next_idx]\n",
        "        generated.append(next_idx)\n",
        "    # Showing generated and actual abstract\n",
        "    n = []\n",
        "\n",
        "    for i in generated:\n",
        "        n.append(idx_word.get(i, '< --- >'))\n",
        "\n",
        "    gen_list.append(n)\n",
        "\n",
        "a = []\n",
        "\n",
        "for i in actual:\n",
        "    a.append(idx_word.get(i, '< --- >'))\n",
        "\n",
        "a = a[seed_length:]\n",
        "\n",
        "gen_list = [gen[seed_length:seed_length + len(a)] for gen in gen_list]\n",
        "\n",
        "print('Original Sequence: \\n'+' '.join(original_sequence))\n",
        "print(\"\\n\")\n",
        "print('Generated Sequence: \\n'+' '.join(gen_list[0][1:]))"
      ],
      "execution_count": 0,
      "outputs": [
        {
          "output_type": "stream",
          "text": [
            "/usr/local/lib/python3.6/dist-packages/ipykernel_launcher.py:36: RuntimeWarning: divide by zero encountered in log\n"
          ],
          "name": "stderr"
        },
        {
          "output_type": "error",
          "ename": "ValueError",
          "evalue": "ignored",
          "traceback": [
            "\u001b[0;31m---------------------------------------------------------------------------\u001b[0m",
            "\u001b[0;31mValueError\u001b[0m                                Traceback (most recent call last)",
            "\u001b[0;32m<ipython-input-65-bc50522376ab>\u001b[0m in \u001b[0;36m<module>\u001b[0;34m()\u001b[0m\n\u001b[1;32m     41\u001b[0m \u001b[0;34m\u001b[0m\u001b[0m\n\u001b[1;32m     42\u001b[0m         \u001b[0;31m# Choose the next word\u001b[0m\u001b[0;34m\u001b[0m\u001b[0;34m\u001b[0m\u001b[0;34m\u001b[0m\u001b[0m\n\u001b[0;32m---> 43\u001b[0;31m         \u001b[0mprobas\u001b[0m \u001b[0;34m=\u001b[0m \u001b[0mnp\u001b[0m\u001b[0;34m.\u001b[0m\u001b[0mrandom\u001b[0m\u001b[0;34m.\u001b[0m\u001b[0mmultinomial\u001b[0m\u001b[0;34m(\u001b[0m\u001b[0;36m1\u001b[0m\u001b[0;34m,\u001b[0m \u001b[0mpreds\u001b[0m\u001b[0;34m,\u001b[0m \u001b[0;36m1\u001b[0m\u001b[0;34m)\u001b[0m\u001b[0;34m[\u001b[0m\u001b[0;36m0\u001b[0m\u001b[0;34m]\u001b[0m\u001b[0;34m\u001b[0m\u001b[0;34m\u001b[0m\u001b[0m\n\u001b[0m\u001b[1;32m     44\u001b[0m \u001b[0;34m\u001b[0m\u001b[0m\n\u001b[1;32m     45\u001b[0m         \u001b[0mnext_idx\u001b[0m \u001b[0;34m=\u001b[0m \u001b[0mnp\u001b[0m\u001b[0;34m.\u001b[0m\u001b[0margmax\u001b[0m\u001b[0;34m(\u001b[0m\u001b[0mprobas\u001b[0m\u001b[0;34m)\u001b[0m\u001b[0;34m\u001b[0m\u001b[0;34m\u001b[0m\u001b[0m\n",
            "\u001b[0;32mmtrand.pyx\u001b[0m in \u001b[0;36mmtrand.RandomState.multinomial\u001b[0;34m()\u001b[0m\n",
            "\u001b[0;31mValueError\u001b[0m: sum(pvals[:-1]) > 1.0"
          ]
        }
      ]
    },
    {
      "cell_type": "code",
      "metadata": {
        "colab_type": "code",
        "id": "9aXeiz7ZHdyp",
        "colab": {}
      },
      "source": [
        ""
      ],
      "execution_count": 0,
      "outputs": []
    }
  ]
}