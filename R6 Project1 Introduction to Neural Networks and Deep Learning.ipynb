{
 "cells": [
  {
   "cell_type": "markdown",
   "metadata": {},
   "source": [
    "# Into to Neural Networks & Deel Learning Residency-6 Project-1 - Bank Customer Case Study"
   ]
  },
  {
   "cell_type": "markdown",
   "metadata": {},
   "source": [
    "Case Study Description: Bank Customer\n",
    "\n",
    "The case study is from an open source dataset from Kaggle. \n",
    "\n",
    "Link to the Kaggle project site:\n",
    "\n",
    "https://www.kaggle.com/barelydedicated/bank-customer-churn-modeling (Links to an external site.)Links to an external site.\n",
    "\n",
    "Given a Bank customer, can we build a classifier which can determine whether they will leave or not using Neural networks?\n",
    "\n",
    "dataset: bank.csv\n",
    "\n",
    "The points distribution for this case is as follows:\n",
    "\n",
    "1. Read the dataset\n",
    "2. Drop the columns which are unique for all users like IDs (2.5 points)\n",
    "3. Distinguish the feature and target set (2.5 points)\n",
    "4. Divide the data set into Train and test sets\n",
    "5. Normalize the train and test data (2.5 points)\n",
    "6. Initialize & build the model (10 points)\n",
    "7. Optimize the model (5 points)\n",
    "8. Predict the results using 0.5 as a threshold (5 points)\n",
    "9. Print the Accuracy score and confusion matrix (2.5 points)"
   ]
  },
  {
   "cell_type": "code",
   "execution_count": 3,
   "metadata": {},
   "outputs": [],
   "source": [
    "# import all necessary packages\n",
    "import warnings \n",
    "warnings.filterwarnings('ignore')\n",
    "\n",
    "import matplotlib.pyplot as plt\n",
    "%matplotlib inline\n",
    "\n",
    "import pandas as pd\n",
    "import numpy as np\n",
    "import seaborn as sns\n",
    "\n",
    "from scipy.stats import zscore\n",
    "from sklearn import metrics\n",
    "from sklearn.preprocessing import LabelEncoder\n",
    "from sklearn.preprocessing import StandardScaler\n",
    "from sklearn.model_selection import StratifiedKFold\n",
    "\n",
    "from sklearn.model_selection import cross_val_score\n",
    "from sklearn.model_selection import KFold\n",
    "from sklearn.model_selection import train_test_split\n",
    "\n",
    "import keras\n",
    "from keras.models import Sequential\n",
    "from keras.layers import Dense"
   ]
  },
  {
   "cell_type": "markdown",
   "metadata": {},
   "source": [
    "### 1. Read the dataset"
   ]
  },
  {
   "cell_type": "code",
   "execution_count": 4,
   "metadata": {},
   "outputs": [
    {
     "name": "stdout",
     "output_type": "stream",
     "text": [
      "Shape:  (10000, 14)\n"
     ]
    },
    {
     "data": {
      "text/html": [
       "<div>\n",
       "<style scoped>\n",
       "    .dataframe tbody tr th:only-of-type {\n",
       "        vertical-align: middle;\n",
       "    }\n",
       "\n",
       "    .dataframe tbody tr th {\n",
       "        vertical-align: top;\n",
       "    }\n",
       "\n",
       "    .dataframe thead th {\n",
       "        text-align: right;\n",
       "    }\n",
       "</style>\n",
       "<table border=\"1\" class=\"dataframe\">\n",
       "  <thead>\n",
       "    <tr style=\"text-align: right;\">\n",
       "      <th></th>\n",
       "      <th>RowNumber</th>\n",
       "      <th>CustomerId</th>\n",
       "      <th>Surname</th>\n",
       "      <th>CreditScore</th>\n",
       "      <th>Geography</th>\n",
       "      <th>Gender</th>\n",
       "      <th>Age</th>\n",
       "      <th>Tenure</th>\n",
       "      <th>Balance</th>\n",
       "      <th>NumOfProducts</th>\n",
       "      <th>HasCrCard</th>\n",
       "      <th>IsActiveMember</th>\n",
       "      <th>EstimatedSalary</th>\n",
       "      <th>Exited</th>\n",
       "    </tr>\n",
       "  </thead>\n",
       "  <tbody>\n",
       "    <tr>\n",
       "      <th>0</th>\n",
       "      <td>1</td>\n",
       "      <td>15634602</td>\n",
       "      <td>Hargrave</td>\n",
       "      <td>619</td>\n",
       "      <td>France</td>\n",
       "      <td>Female</td>\n",
       "      <td>42</td>\n",
       "      <td>2</td>\n",
       "      <td>0.00</td>\n",
       "      <td>1</td>\n",
       "      <td>1</td>\n",
       "      <td>1</td>\n",
       "      <td>101348.88</td>\n",
       "      <td>1</td>\n",
       "    </tr>\n",
       "    <tr>\n",
       "      <th>1</th>\n",
       "      <td>2</td>\n",
       "      <td>15647311</td>\n",
       "      <td>Hill</td>\n",
       "      <td>608</td>\n",
       "      <td>Spain</td>\n",
       "      <td>Female</td>\n",
       "      <td>41</td>\n",
       "      <td>1</td>\n",
       "      <td>83807.86</td>\n",
       "      <td>1</td>\n",
       "      <td>0</td>\n",
       "      <td>1</td>\n",
       "      <td>112542.58</td>\n",
       "      <td>0</td>\n",
       "    </tr>\n",
       "    <tr>\n",
       "      <th>2</th>\n",
       "      <td>3</td>\n",
       "      <td>15619304</td>\n",
       "      <td>Onio</td>\n",
       "      <td>502</td>\n",
       "      <td>France</td>\n",
       "      <td>Female</td>\n",
       "      <td>42</td>\n",
       "      <td>8</td>\n",
       "      <td>159660.80</td>\n",
       "      <td>3</td>\n",
       "      <td>1</td>\n",
       "      <td>0</td>\n",
       "      <td>113931.57</td>\n",
       "      <td>1</td>\n",
       "    </tr>\n",
       "    <tr>\n",
       "      <th>3</th>\n",
       "      <td>4</td>\n",
       "      <td>15701354</td>\n",
       "      <td>Boni</td>\n",
       "      <td>699</td>\n",
       "      <td>France</td>\n",
       "      <td>Female</td>\n",
       "      <td>39</td>\n",
       "      <td>1</td>\n",
       "      <td>0.00</td>\n",
       "      <td>2</td>\n",
       "      <td>0</td>\n",
       "      <td>0</td>\n",
       "      <td>93826.63</td>\n",
       "      <td>0</td>\n",
       "    </tr>\n",
       "    <tr>\n",
       "      <th>4</th>\n",
       "      <td>5</td>\n",
       "      <td>15737888</td>\n",
       "      <td>Mitchell</td>\n",
       "      <td>850</td>\n",
       "      <td>Spain</td>\n",
       "      <td>Female</td>\n",
       "      <td>43</td>\n",
       "      <td>2</td>\n",
       "      <td>125510.82</td>\n",
       "      <td>1</td>\n",
       "      <td>1</td>\n",
       "      <td>1</td>\n",
       "      <td>79084.10</td>\n",
       "      <td>0</td>\n",
       "    </tr>\n",
       "  </tbody>\n",
       "</table>\n",
       "</div>"
      ],
      "text/plain": [
       "   RowNumber  CustomerId   Surname  CreditScore Geography  Gender  Age  \\\n",
       "0          1    15634602  Hargrave          619    France  Female   42   \n",
       "1          2    15647311      Hill          608     Spain  Female   41   \n",
       "2          3    15619304      Onio          502    France  Female   42   \n",
       "3          4    15701354      Boni          699    France  Female   39   \n",
       "4          5    15737888  Mitchell          850     Spain  Female   43   \n",
       "\n",
       "   Tenure    Balance  NumOfProducts  HasCrCard  IsActiveMember  \\\n",
       "0       2       0.00              1          1               1   \n",
       "1       1   83807.86              1          0               1   \n",
       "2       8  159660.80              3          1               0   \n",
       "3       1       0.00              2          0               0   \n",
       "4       2  125510.82              1          1               1   \n",
       "\n",
       "   EstimatedSalary  Exited  \n",
       "0        101348.88       1  \n",
       "1        112542.58       0  \n",
       "2        113931.57       1  \n",
       "3         93826.63       0  \n",
       "4         79084.10       0  "
      ]
     },
     "execution_count": 4,
     "metadata": {},
     "output_type": "execute_result"
    }
   ],
   "source": [
    "# load the dataset\n",
    "df_bank = pd.read_csv(\"bank.csv\")\n",
    "print(\"Shape: \",df_bank.shape)\n",
    "df_bank.head()"
   ]
  },
  {
   "cell_type": "markdown",
   "metadata": {},
   "source": [
    "**Check all columns in the dataset**"
   ]
  },
  {
   "cell_type": "code",
   "execution_count": 5,
   "metadata": {},
   "outputs": [
    {
     "name": "stdout",
     "output_type": "stream",
     "text": [
      "<class 'pandas.core.frame.DataFrame'>\n",
      "RangeIndex: 10000 entries, 0 to 9999\n",
      "Data columns (total 14 columns):\n",
      "RowNumber          10000 non-null int64\n",
      "CustomerId         10000 non-null int64\n",
      "Surname            10000 non-null object\n",
      "CreditScore        10000 non-null int64\n",
      "Geography          10000 non-null object\n",
      "Gender             10000 non-null object\n",
      "Age                10000 non-null int64\n",
      "Tenure             10000 non-null int64\n",
      "Balance            10000 non-null float64\n",
      "NumOfProducts      10000 non-null int64\n",
      "HasCrCard          10000 non-null int64\n",
      "IsActiveMember     10000 non-null int64\n",
      "EstimatedSalary    10000 non-null float64\n",
      "Exited             10000 non-null int64\n",
      "dtypes: float64(2), int64(9), object(3)\n",
      "memory usage: 1.1+ MB\n"
     ]
    }
   ],
   "source": [
    "df_bank.info()"
   ]
  },
  {
   "cell_type": "code",
   "execution_count": 6,
   "metadata": {},
   "outputs": [
    {
     "data": {
      "text/plain": [
       "RowNumber          0\n",
       "CustomerId         0\n",
       "Surname            0\n",
       "CreditScore        0\n",
       "Geography          0\n",
       "Gender             0\n",
       "Age                0\n",
       "Tenure             0\n",
       "Balance            0\n",
       "NumOfProducts      0\n",
       "HasCrCard          0\n",
       "IsActiveMember     0\n",
       "EstimatedSalary    0\n",
       "Exited             0\n",
       "dtype: int64"
      ]
     },
     "execution_count": 6,
     "metadata": {},
     "output_type": "execute_result"
    }
   ],
   "source": [
    "# check missing values..\n",
    "df_bank.isnull().sum()"
   ]
  },
  {
   "cell_type": "code",
   "execution_count": 7,
   "metadata": {},
   "outputs": [
    {
     "name": "stdout",
     "output_type": "stream",
     "text": [
      "Unique RowNumber:  10000\n",
      "Unique CustomerId  10000\n",
      "Unique Surname  2932\n"
     ]
    }
   ],
   "source": [
    "# numbers of unique users\n",
    "print(\"Unique RowNumber: \", len(df_bank.RowNumber.unique()))\n",
    "\n",
    "# numbers of unique products\n",
    "print(\"Unique CustomerId \", len(df_bank.CustomerId.unique()))\n",
    "\n",
    "# numbers of unique products\n",
    "print(\"Unique Surname \", len(df_bank.Surname.unique()))"
   ]
  },
  {
   "cell_type": "markdown",
   "metadata": {},
   "source": [
    "**Observation**\n",
    "\n",
    "Following attributes have unique values close to the dataset count and hence can be dropped for anlysis:\n",
    "\"RowNumber\", \"CustomerId\", \"Surname\""
   ]
  },
  {
   "cell_type": "markdown",
   "metadata": {},
   "source": [
    "### 2. Drop the columns which are unique for all users like IDs (2.5 points)"
   ]
  },
  {
   "cell_type": "code",
   "execution_count": 8,
   "metadata": {},
   "outputs": [],
   "source": [
    "# Dropping the columns which are unique for all users\n",
    "drop_attrs = [\"RowNumber\", \"CustomerId\", \"Surname\"]\n",
    "df_bank.drop(labels=drop_attrs,axis=1,inplace=True)"
   ]
  },
  {
   "cell_type": "code",
   "execution_count": 9,
   "metadata": {},
   "outputs": [
    {
     "name": "stdout",
     "output_type": "stream",
     "text": [
      "Shape:  (10000, 11)\n"
     ]
    },
    {
     "data": {
      "text/html": [
       "<div>\n",
       "<style scoped>\n",
       "    .dataframe tbody tr th:only-of-type {\n",
       "        vertical-align: middle;\n",
       "    }\n",
       "\n",
       "    .dataframe tbody tr th {\n",
       "        vertical-align: top;\n",
       "    }\n",
       "\n",
       "    .dataframe thead th {\n",
       "        text-align: right;\n",
       "    }\n",
       "</style>\n",
       "<table border=\"1\" class=\"dataframe\">\n",
       "  <thead>\n",
       "    <tr style=\"text-align: right;\">\n",
       "      <th></th>\n",
       "      <th>CreditScore</th>\n",
       "      <th>Geography</th>\n",
       "      <th>Gender</th>\n",
       "      <th>Age</th>\n",
       "      <th>Tenure</th>\n",
       "      <th>Balance</th>\n",
       "      <th>NumOfProducts</th>\n",
       "      <th>HasCrCard</th>\n",
       "      <th>IsActiveMember</th>\n",
       "      <th>EstimatedSalary</th>\n",
       "      <th>Exited</th>\n",
       "    </tr>\n",
       "  </thead>\n",
       "  <tbody>\n",
       "    <tr>\n",
       "      <th>0</th>\n",
       "      <td>619</td>\n",
       "      <td>France</td>\n",
       "      <td>Female</td>\n",
       "      <td>42</td>\n",
       "      <td>2</td>\n",
       "      <td>0.00</td>\n",
       "      <td>1</td>\n",
       "      <td>1</td>\n",
       "      <td>1</td>\n",
       "      <td>101348.88</td>\n",
       "      <td>1</td>\n",
       "    </tr>\n",
       "    <tr>\n",
       "      <th>1</th>\n",
       "      <td>608</td>\n",
       "      <td>Spain</td>\n",
       "      <td>Female</td>\n",
       "      <td>41</td>\n",
       "      <td>1</td>\n",
       "      <td>83807.86</td>\n",
       "      <td>1</td>\n",
       "      <td>0</td>\n",
       "      <td>1</td>\n",
       "      <td>112542.58</td>\n",
       "      <td>0</td>\n",
       "    </tr>\n",
       "    <tr>\n",
       "      <th>2</th>\n",
       "      <td>502</td>\n",
       "      <td>France</td>\n",
       "      <td>Female</td>\n",
       "      <td>42</td>\n",
       "      <td>8</td>\n",
       "      <td>159660.80</td>\n",
       "      <td>3</td>\n",
       "      <td>1</td>\n",
       "      <td>0</td>\n",
       "      <td>113931.57</td>\n",
       "      <td>1</td>\n",
       "    </tr>\n",
       "    <tr>\n",
       "      <th>3</th>\n",
       "      <td>699</td>\n",
       "      <td>France</td>\n",
       "      <td>Female</td>\n",
       "      <td>39</td>\n",
       "      <td>1</td>\n",
       "      <td>0.00</td>\n",
       "      <td>2</td>\n",
       "      <td>0</td>\n",
       "      <td>0</td>\n",
       "      <td>93826.63</td>\n",
       "      <td>0</td>\n",
       "    </tr>\n",
       "    <tr>\n",
       "      <th>4</th>\n",
       "      <td>850</td>\n",
       "      <td>Spain</td>\n",
       "      <td>Female</td>\n",
       "      <td>43</td>\n",
       "      <td>2</td>\n",
       "      <td>125510.82</td>\n",
       "      <td>1</td>\n",
       "      <td>1</td>\n",
       "      <td>1</td>\n",
       "      <td>79084.10</td>\n",
       "      <td>0</td>\n",
       "    </tr>\n",
       "  </tbody>\n",
       "</table>\n",
       "</div>"
      ],
      "text/plain": [
       "   CreditScore Geography  Gender  Age  Tenure    Balance  NumOfProducts  \\\n",
       "0          619    France  Female   42       2       0.00              1   \n",
       "1          608     Spain  Female   41       1   83807.86              1   \n",
       "2          502    France  Female   42       8  159660.80              3   \n",
       "3          699    France  Female   39       1       0.00              2   \n",
       "4          850     Spain  Female   43       2  125510.82              1   \n",
       "\n",
       "   HasCrCard  IsActiveMember  EstimatedSalary  Exited  \n",
       "0          1               1        101348.88       1  \n",
       "1          0               1        112542.58       0  \n",
       "2          1               0        113931.57       1  \n",
       "3          0               0         93826.63       0  \n",
       "4          1               1         79084.10       0  "
      ]
     },
     "execution_count": 9,
     "metadata": {},
     "output_type": "execute_result"
    }
   ],
   "source": [
    "print(\"Shape: \",df_bank.shape)\n",
    "df_bank.head()"
   ]
  },
  {
   "cell_type": "markdown",
   "metadata": {},
   "source": [
    "**Analysing each attrbutes**"
   ]
  },
  {
   "cell_type": "code",
   "execution_count": 10,
   "metadata": {},
   "outputs": [],
   "source": [
    "# utilify function for % distribution\n",
    "def category_distribution(df, colname):\n",
    "    col_data = df[colname].value_counts().to_frame()\n",
    "    col_data.reset_index(inplace=True)\n",
    "    col_data.columns = [col_data.columns[1], 'count']\n",
    "    col_data['proportions'] = col_data['count'] / sum(col_data['count'])\n",
    "    print(\"\\n % Distribution for: \",colname)\n",
    "    print(\"\\n\", col_data)\n",
    "    return"
   ]
  },
  {
   "cell_type": "markdown",
   "metadata": {},
   "source": [
    "**Attribute: Geography**"
   ]
  },
  {
   "cell_type": "code",
   "execution_count": 11,
   "metadata": {
    "scrolled": true
   },
   "outputs": [
    {
     "data": {
      "image/png": "[encoded data removed]",
      "text/plain": [
       "<Figure size 432x288 with 1 Axes>"
      ]
     },
     "metadata": {
      "needs_background": "light"
     },
     "output_type": "display_data"
    },
    {
     "name": "stdout",
     "output_type": "stream",
     "text": [
      "\n",
      " % Distribution for:  Geography\n",
      "\n",
      "   Geography  count  proportions\n",
      "0    France   5014       0.5014\n",
      "1   Germany   2509       0.2509\n",
      "2     Spain   2477       0.2477\n"
     ]
    }
   ],
   "source": [
    "# plotting count of Geography\n",
    "sns.countplot(data=df_bank , x='Geography')\n",
    "plt.show()\n",
    "\n",
    "category_distribution(df_bank, \"Geography\")"
   ]
  },
  {
   "cell_type": "markdown",
   "metadata": {},
   "source": [
    "**Attribute: Gender**"
   ]
  },
  {
   "cell_type": "code",
   "execution_count": 12,
   "metadata": {},
   "outputs": [
    {
     "data": {
      "image/png": "[encoded data removed]",
      "text/plain": [
       "<Figure size 432x288 with 1 Axes>"
      ]
     },
     "metadata": {
      "needs_background": "light"
     },
     "output_type": "display_data"
    },
    {
     "name": "stdout",
     "output_type": "stream",
     "text": [
      "\n",
      " % Distribution for:  Gender\n",
      "\n",
      "    Gender  count  proportions\n",
      "0    Male   5457       0.5457\n",
      "1  Female   4543       0.4543\n"
     ]
    }
   ],
   "source": [
    "# plotting count of Gender\n",
    "sns.countplot(data=df_bank , x='Gender')\n",
    "plt.show()\n",
    "\n",
    "category_distribution(df_bank, \"Gender\")"
   ]
  },
  {
   "cell_type": "markdown",
   "metadata": {},
   "source": [
    "**Attribute: Tenure**"
   ]
  },
  {
   "cell_type": "code",
   "execution_count": 13,
   "metadata": {},
   "outputs": [
    {
     "data": {
      "image/png": "[encoded data removed]",
      "text/plain": [
       "<Figure size 432x288 with 1 Axes>"
      ]
     },
     "metadata": {
      "needs_background": "light"
     },
     "output_type": "display_data"
    },
    {
     "name": "stdout",
     "output_type": "stream",
     "text": [
      "\n",
      " % Distribution for:  Tenure\n",
      "\n",
      "     Tenure  count  proportions\n",
      "0        2   1048       0.1048\n",
      "1        1   1035       0.1035\n",
      "2        7   1028       0.1028\n",
      "3        8   1025       0.1025\n",
      "4        5   1012       0.1012\n",
      "5        3   1009       0.1009\n",
      "6        4    989       0.0989\n",
      "7        9    984       0.0984\n",
      "8        6    967       0.0967\n",
      "9       10    490       0.0490\n",
      "10       0    413       0.0413\n"
     ]
    }
   ],
   "source": [
    "# plotting count of NumOfProducts\n",
    "sns.countplot(data=df_bank , x='Tenure')\n",
    "plt.show()\n",
    "\n",
    "category_distribution(df_bank, \"Tenure\")"
   ]
  },
  {
   "cell_type": "markdown",
   "metadata": {},
   "source": [
    "**Attribute: NumOfProducts**"
   ]
  },
  {
   "cell_type": "code",
   "execution_count": 14,
   "metadata": {},
   "outputs": [
    {
     "data": {
      "image/png": "[encoded data removed]",
      "text/plain": [
       "<Figure size 432x288 with 1 Axes>"
      ]
     },
     "metadata": {
      "needs_background": "light"
     },
     "output_type": "display_data"
    },
    {
     "name": "stdout",
     "output_type": "stream",
     "text": [
      "\n",
      " % Distribution for:  NumOfProducts\n",
      "\n",
      "    NumOfProducts  count  proportions\n",
      "0              1   5084       0.5084\n",
      "1              2   4590       0.4590\n",
      "2              3    266       0.0266\n",
      "3              4     60       0.0060\n"
     ]
    }
   ],
   "source": [
    "# plotting count of NumOfProducts\n",
    "sns.countplot(data=df_bank , x='NumOfProducts')\n",
    "plt.show()\n",
    "\n",
    "category_distribution(df_bank, \"NumOfProducts\")"
   ]
  },
  {
   "cell_type": "markdown",
   "metadata": {},
   "source": [
    "**Attribute: HasCrCard**"
   ]
  },
  {
   "cell_type": "code",
   "execution_count": 15,
   "metadata": {},
   "outputs": [
    {
     "data": {
      "image/png": "[encoded data removed]",
      "text/plain": [
       "<Figure size 432x288 with 1 Axes>"
      ]
     },
     "metadata": {
      "needs_background": "light"
     },
     "output_type": "display_data"
    },
    {
     "name": "stdout",
     "output_type": "stream",
     "text": [
      "\n",
      " % Distribution for:  HasCrCard\n",
      "\n",
      "    HasCrCard  count  proportions\n",
      "0          1   7055       0.7055\n",
      "1          0   2945       0.2945\n"
     ]
    }
   ],
   "source": [
    "# plotting count of HasCrCard\n",
    "sns.countplot(data=df_bank , x='HasCrCard')\n",
    "plt.show()\n",
    "\n",
    "category_distribution(df_bank, \"HasCrCard\")"
   ]
  },
  {
   "cell_type": "markdown",
   "metadata": {},
   "source": [
    "**Attribute: IsActiveMember**"
   ]
  },
  {
   "cell_type": "code",
   "execution_count": 16,
   "metadata": {},
   "outputs": [
    {
     "data": {
      "image/png": "[encoded data removed]",
      "text/plain": [
       "<Figure size 432x288 with 1 Axes>"
      ]
     },
     "metadata": {
      "needs_background": "light"
     },
     "output_type": "display_data"
    },
    {
     "name": "stdout",
     "output_type": "stream",
     "text": [
      "\n",
      " % Distribution for:  IsActiveMember\n",
      "\n",
      "    IsActiveMember  count  proportions\n",
      "0               1   5151       0.5151\n",
      "1               0   4849       0.4849\n"
     ]
    }
   ],
   "source": [
    "# plotting count of IsActiveMember\n",
    "sns.countplot(data=df_bank , x='IsActiveMember')\n",
    "plt.show()\n",
    "\n",
    "category_distribution(df_bank, \"IsActiveMember\")"
   ]
  },
  {
   "cell_type": "markdown",
   "metadata": {},
   "source": [
    "**Analysing target column distribution: Exited**"
   ]
  },
  {
   "cell_type": "code",
   "execution_count": 17,
   "metadata": {},
   "outputs": [
    {
     "data": {
      "image/png": "[encoded data removed]",
      "text/plain": [
       "<Figure size 432x288 with 1 Axes>"
      ]
     },
     "metadata": {
      "needs_background": "light"
     },
     "output_type": "display_data"
    },
    {
     "name": "stdout",
     "output_type": "stream",
     "text": [
      "\n",
      " % Distribution for:  Exited\n",
      "\n",
      "    Exited  count  proportions\n",
      "0       0   7963       0.7963\n",
      "1       1   2037       0.2037\n"
     ]
    }
   ],
   "source": [
    "# plotting count of IsActiveMember\n",
    "sns.countplot(data=df_bank , x='Exited')\n",
    "plt.show()\n",
    "\n",
    "category_distribution(df_bank, \"Exited\")"
   ]
  },
  {
   "cell_type": "markdown",
   "metadata": {},
   "source": [
    "**Attribute: \"CreditScore\", \"Balance\", \"EstimatedSalary\"**\n",
    "    \n",
    "These are continuous numeric values, perform histogram and boxplot analysis"
   ]
  },
  {
   "cell_type": "code",
   "execution_count": 18,
   "metadata": {},
   "outputs": [],
   "source": [
    "numerical_cols = [\"CreditScore\", \"Balance\", \"EstimatedSalary\"]"
   ]
  },
  {
   "cell_type": "code",
   "execution_count": 19,
   "metadata": {},
   "outputs": [
    {
     "data": {
      "text/plain": [
       "array([[<matplotlib.axes._subplots.AxesSubplot object at 0x000001D8666C6EB8>,\n",
       "        <matplotlib.axes._subplots.AxesSubplot object at 0x000001D866751358>],\n",
       "       [<matplotlib.axes._subplots.AxesSubplot object at 0x000001D8677499E8>,\n",
       "        <matplotlib.axes._subplots.AxesSubplot object at 0x000001D86777A080>]],\n",
       "      dtype=object)"
      ]
     },
     "execution_count": 19,
     "metadata": {},
     "output_type": "execute_result"
    },
    {
     "data": {
      "image/png": "[encoded data removed]",
      "text/plain": [
       "<Figure size 1440x1440 with 4 Axes>"
      ]
     },
     "metadata": {
      "needs_background": "light"
     },
     "output_type": "display_data"
    }
   ],
   "source": [
    "# perform univariant analysis by generating histogram of all dimensions\n",
    "df_bank[numerical_cols].hist(figsize = [20,20])  "
   ]
  },
  {
   "cell_type": "code",
   "execution_count": 20,
   "metadata": {},
   "outputs": [
    {
     "data": {
      "image/png": "[encoded data removed]",
      "text/plain": [
       "<Figure size 1440x504 with 3 Axes>"
      ]
     },
     "metadata": {
      "needs_background": "light"
     },
     "output_type": "display_data"
    }
   ],
   "source": [
    "df_bank[numerical_cols].plot(kind='box', subplots=True, layout=(1,3), fontsize=8, figsize=(20,7))\n",
    "plt.show()"
   ]
  },
  {
   "cell_type": "code",
   "execution_count": 21,
   "metadata": {},
   "outputs": [
    {
     "data": {
      "text/plain": [
       "<seaborn.axisgrid.PairGrid at 0x1d8677ed780>"
      ]
     },
     "execution_count": 21,
     "metadata": {},
     "output_type": "execute_result"
    },
    {
     "data": {
      "image/png": "[encoded data removed]",
      "text/plain": [
       "<Figure size 540x540 with 12 Axes>"
      ]
     },
     "metadata": {
      "needs_background": "light"
     },
     "output_type": "display_data"
    }
   ],
   "source": [
    "# bivariable analysis\n",
    "sns.pairplot(df_bank[numerical_cols], diag_kind=\"kde\")"
   ]
  },
  {
   "cell_type": "code",
   "execution_count": 22,
   "metadata": {},
   "outputs": [
    {
     "name": "stdout",
     "output_type": "stream",
     "text": [
      "% of dataset having zero balance:  0.3617\n"
     ]
    }
   ],
   "source": [
    "# % of dateset having Balance as zero\n",
    "bal_zero = len(df_bank[df_bank[\"Balance\"]==0])/df_bank.shape[0]\n",
    "print(\"% of dataset having zero balance: \", bal_zero)"
   ]
  },
  {
   "cell_type": "markdown",
   "metadata": {},
   "source": [
    "**Analysing how one variable related to other and target variable**"
   ]
  },
  {
   "cell_type": "code",
   "execution_count": 23,
   "metadata": {},
   "outputs": [],
   "source": [
    "# Analysing independent variable correlation with each other and target variable\n",
    "corr_matrix = df_bank.corr()"
   ]
  },
  {
   "cell_type": "code",
   "execution_count": 24,
   "metadata": {},
   "outputs": [
    {
     "data": {
      "text/plain": [
       "<matplotlib.axes._subplots.AxesSubplot at 0x1d867fbe6a0>"
      ]
     },
     "execution_count": 24,
     "metadata": {},
     "output_type": "execute_result"
    },
    {
     "data": {
      "image/png": "[encoded data removed]",
      "text/plain": [
       "<Figure size 576x576 with 2 Axes>"
      ]
     },
     "metadata": {
      "needs_background": "light"
     },
     "output_type": "display_data"
    }
   ],
   "source": [
    "plt.subplots(figsize = (8,8))\n",
    "sns.heatmap(corr_matrix, annot=True)"
   ]
  },
  {
   "cell_type": "markdown",
   "metadata": {},
   "source": [
    "### EDA : Findings\n",
    "\n",
    "**Dropped Attributes**\n",
    "1. Following attributes are uniques to the users and dropped from analysis: \"RowNumber\", \"CustomerId\", \"Surname\"\n",
    "\n",
    "**Observation on categorical attributes**\n",
    "\"Geography\", \"Gender\", \"Tenure\",\"NumOfProducts\", \"HasCrCard\", \"IsActiveMember\"\n",
    "1. NumOfProducts: there are 4 unique values(1,2,3,4_. value of 3,4 contibutes only 2.6 % and 0.6%\n",
    "2. \"Geography\", \"Gender\": are non-numeric data categorical attribute and hence required label encoding\n",
    "\n",
    "\n",
    "**Observations on continuous attributes (\"CreditScore\", \"Balance\", \"EstimatedSalary\")**\n",
    "\n",
    "1. \"Balance\" attributes: approx 36% of dataset contains values of zero. two gausian curve are observed which might indicates two data sources or existing of clusters\n",
    "2. \"CreditScore\" attribute: outliers exist in lower side.\n",
    "\n",
    "Scaling is required as all three attribuets have different ranges\n",
    "\n",
    "**Traget calss: Exited**\n",
    "1. Target class is not balanced. Non-Exited contribute majority of class around 79%"
   ]
  },
  {
   "cell_type": "markdown",
   "metadata": {},
   "source": [
    "### Data Preprocessing based on above findings"
   ]
  },
  {
   "cell_type": "markdown",
   "metadata": {},
   "source": [
    "**Convert categorical text into categorical numbers**\n",
    "\n",
    "Attributes: \"Geography\", \"Gender\""
   ]
  },
  {
   "cell_type": "code",
   "execution_count": 25,
   "metadata": {},
   "outputs": [],
   "source": [
    "# converts categorical text into categorical numbers.\n",
    "labelencoder = LabelEncoder()\n",
    "df_bank['Geography'] = labelencoder.fit_transform(df_bank['Geography'])\n",
    "df_bank['Gender'] = labelencoder.fit_transform(df_bank['Gender'])"
   ]
  },
  {
   "cell_type": "code",
   "execution_count": 26,
   "metadata": {},
   "outputs": [
    {
     "data": {
      "text/html": [
       "<div>\n",
       "<style scoped>\n",
       "    .dataframe tbody tr th:only-of-type {\n",
       "        vertical-align: middle;\n",
       "    }\n",
       "\n",
       "    .dataframe tbody tr th {\n",
       "        vertical-align: top;\n",
       "    }\n",
       "\n",
       "    .dataframe thead th {\n",
       "        text-align: right;\n",
       "    }\n",
       "</style>\n",
       "<table border=\"1\" class=\"dataframe\">\n",
       "  <thead>\n",
       "    <tr style=\"text-align: right;\">\n",
       "      <th></th>\n",
       "      <th>CreditScore</th>\n",
       "      <th>Geography</th>\n",
       "      <th>Gender</th>\n",
       "      <th>Age</th>\n",
       "      <th>Tenure</th>\n",
       "      <th>Balance</th>\n",
       "      <th>NumOfProducts</th>\n",
       "      <th>HasCrCard</th>\n",
       "      <th>IsActiveMember</th>\n",
       "      <th>EstimatedSalary</th>\n",
       "      <th>Exited</th>\n",
       "    </tr>\n",
       "  </thead>\n",
       "  <tbody>\n",
       "    <tr>\n",
       "      <th>0</th>\n",
       "      <td>619</td>\n",
       "      <td>0</td>\n",
       "      <td>0</td>\n",
       "      <td>42</td>\n",
       "      <td>2</td>\n",
       "      <td>0.00</td>\n",
       "      <td>1</td>\n",
       "      <td>1</td>\n",
       "      <td>1</td>\n",
       "      <td>101348.88</td>\n",
       "      <td>1</td>\n",
       "    </tr>\n",
       "    <tr>\n",
       "      <th>1</th>\n",
       "      <td>608</td>\n",
       "      <td>2</td>\n",
       "      <td>0</td>\n",
       "      <td>41</td>\n",
       "      <td>1</td>\n",
       "      <td>83807.86</td>\n",
       "      <td>1</td>\n",
       "      <td>0</td>\n",
       "      <td>1</td>\n",
       "      <td>112542.58</td>\n",
       "      <td>0</td>\n",
       "    </tr>\n",
       "    <tr>\n",
       "      <th>2</th>\n",
       "      <td>502</td>\n",
       "      <td>0</td>\n",
       "      <td>0</td>\n",
       "      <td>42</td>\n",
       "      <td>8</td>\n",
       "      <td>159660.80</td>\n",
       "      <td>3</td>\n",
       "      <td>1</td>\n",
       "      <td>0</td>\n",
       "      <td>113931.57</td>\n",
       "      <td>1</td>\n",
       "    </tr>\n",
       "    <tr>\n",
       "      <th>3</th>\n",
       "      <td>699</td>\n",
       "      <td>0</td>\n",
       "      <td>0</td>\n",
       "      <td>39</td>\n",
       "      <td>1</td>\n",
       "      <td>0.00</td>\n",
       "      <td>2</td>\n",
       "      <td>0</td>\n",
       "      <td>0</td>\n",
       "      <td>93826.63</td>\n",
       "      <td>0</td>\n",
       "    </tr>\n",
       "    <tr>\n",
       "      <th>4</th>\n",
       "      <td>850</td>\n",
       "      <td>2</td>\n",
       "      <td>0</td>\n",
       "      <td>43</td>\n",
       "      <td>2</td>\n",
       "      <td>125510.82</td>\n",
       "      <td>1</td>\n",
       "      <td>1</td>\n",
       "      <td>1</td>\n",
       "      <td>79084.10</td>\n",
       "      <td>0</td>\n",
       "    </tr>\n",
       "  </tbody>\n",
       "</table>\n",
       "</div>"
      ],
      "text/plain": [
       "   CreditScore  Geography  Gender  Age  Tenure    Balance  NumOfProducts  \\\n",
       "0          619          0       0   42       2       0.00              1   \n",
       "1          608          2       0   41       1   83807.86              1   \n",
       "2          502          0       0   42       8  159660.80              3   \n",
       "3          699          0       0   39       1       0.00              2   \n",
       "4          850          2       0   43       2  125510.82              1   \n",
       "\n",
       "   HasCrCard  IsActiveMember  EstimatedSalary  Exited  \n",
       "0          1               1        101348.88       1  \n",
       "1          0               1        112542.58       0  \n",
       "2          1               0        113931.57       1  \n",
       "3          0               0         93826.63       0  \n",
       "4          1               1         79084.10       0  "
      ]
     },
     "execution_count": 26,
     "metadata": {},
     "output_type": "execute_result"
    }
   ],
   "source": [
    "df_bank.head()"
   ]
  },
  {
   "cell_type": "code",
   "execution_count": 27,
   "metadata": {},
   "outputs": [
    {
     "name": "stdout",
     "output_type": "stream",
     "text": [
      "<class 'pandas.core.frame.DataFrame'>\n",
      "RangeIndex: 10000 entries, 0 to 9999\n",
      "Data columns (total 11 columns):\n",
      "CreditScore        10000 non-null int64\n",
      "Geography          10000 non-null int32\n",
      "Gender             10000 non-null int32\n",
      "Age                10000 non-null int64\n",
      "Tenure             10000 non-null int64\n",
      "Balance            10000 non-null float64\n",
      "NumOfProducts      10000 non-null int64\n",
      "HasCrCard          10000 non-null int64\n",
      "IsActiveMember     10000 non-null int64\n",
      "EstimatedSalary    10000 non-null float64\n",
      "Exited             10000 non-null int64\n",
      "dtypes: float64(2), int32(2), int64(7)\n",
      "memory usage: 781.3 KB\n"
     ]
    }
   ],
   "source": [
    "df_bank.info()"
   ]
  },
  {
   "cell_type": "markdown",
   "metadata": {},
   "source": [
    "**Handling Outliers**"
   ]
  },
  {
   "cell_type": "code",
   "execution_count": 28,
   "metadata": {},
   "outputs": [],
   "source": [
    "# function to replace upper outlier with their max value of (Q3 + 1.5 * IRQ)\n",
    "def treat_upper_outliers(df, colname):\n",
    "    data = df[colname]\n",
    "    irq = np.quantile(a=data,q=0.75)-np.quantile(a=data,q=0.25)\n",
    "    ub = np.quantile(a=data,q=0.75) + 1.5 * irq\n",
    "    df[colname] = df[colname].apply(lambda x: ub if x > ub else x)\n",
    "    \n",
    "# function to replace lower outlier with their min value of (Q1 - 1.5 * IRQ)\n",
    "def treat_lower_outliers(df, colname):\n",
    "    data = df[colname]\n",
    "    irq = np.quantile(a=data,q=0.75)-np.quantile(a=data,q=0.25)\n",
    "    lb = np.quantile(a=data,q=0.25) - 1.5 * irq\n",
    "    df[colname] = df[colname].apply(lambda x: lb if x < lb else x)"
   ]
  },
  {
   "cell_type": "code",
   "execution_count": 29,
   "metadata": {},
   "outputs": [],
   "source": [
    "df_bank_treated = df_bank.copy(deep = True)  # make copy of orignal dataframe\n",
    "\n",
    "# outlier treatment for \"CreditScore\"\n",
    "treat_lower_outliers(df_bank_treated, \"CreditScore\") "
   ]
  },
  {
   "cell_type": "code",
   "execution_count": 30,
   "metadata": {},
   "outputs": [
    {
     "data": {
      "image/png": "[encoded data removed]",
      "text/plain": [
       "<Figure size 1440x504 with 3 Axes>"
      ]
     },
     "metadata": {
      "needs_background": "light"
     },
     "output_type": "display_data"
    }
   ],
   "source": [
    "df_bank_treated[numerical_cols].plot(kind='box', subplots=True, layout=(1,3), fontsize=8, figsize=(20,7))\n",
    "plt.show()"
   ]
  },
  {
   "cell_type": "code",
   "execution_count": 31,
   "metadata": {},
   "outputs": [
    {
     "name": "stdout",
     "output_type": "stream",
     "text": [
      "Shape:  (10000, 11)\n"
     ]
    },
    {
     "data": {
      "text/html": [
       "<div>\n",
       "<style scoped>\n",
       "    .dataframe tbody tr th:only-of-type {\n",
       "        vertical-align: middle;\n",
       "    }\n",
       "\n",
       "    .dataframe tbody tr th {\n",
       "        vertical-align: top;\n",
       "    }\n",
       "\n",
       "    .dataframe thead th {\n",
       "        text-align: right;\n",
       "    }\n",
       "</style>\n",
       "<table border=\"1\" class=\"dataframe\">\n",
       "  <thead>\n",
       "    <tr style=\"text-align: right;\">\n",
       "      <th></th>\n",
       "      <th>CreditScore</th>\n",
       "      <th>Geography</th>\n",
       "      <th>Gender</th>\n",
       "      <th>Age</th>\n",
       "      <th>Tenure</th>\n",
       "      <th>Balance</th>\n",
       "      <th>NumOfProducts</th>\n",
       "      <th>HasCrCard</th>\n",
       "      <th>IsActiveMember</th>\n",
       "      <th>EstimatedSalary</th>\n",
       "      <th>Exited</th>\n",
       "    </tr>\n",
       "  </thead>\n",
       "  <tbody>\n",
       "    <tr>\n",
       "      <th>0</th>\n",
       "      <td>619.0</td>\n",
       "      <td>0</td>\n",
       "      <td>0</td>\n",
       "      <td>42</td>\n",
       "      <td>2</td>\n",
       "      <td>0.00</td>\n",
       "      <td>1</td>\n",
       "      <td>1</td>\n",
       "      <td>1</td>\n",
       "      <td>101348.88</td>\n",
       "      <td>1</td>\n",
       "    </tr>\n",
       "    <tr>\n",
       "      <th>1</th>\n",
       "      <td>608.0</td>\n",
       "      <td>2</td>\n",
       "      <td>0</td>\n",
       "      <td>41</td>\n",
       "      <td>1</td>\n",
       "      <td>83807.86</td>\n",
       "      <td>1</td>\n",
       "      <td>0</td>\n",
       "      <td>1</td>\n",
       "      <td>112542.58</td>\n",
       "      <td>0</td>\n",
       "    </tr>\n",
       "    <tr>\n",
       "      <th>2</th>\n",
       "      <td>502.0</td>\n",
       "      <td>0</td>\n",
       "      <td>0</td>\n",
       "      <td>42</td>\n",
       "      <td>8</td>\n",
       "      <td>159660.80</td>\n",
       "      <td>3</td>\n",
       "      <td>1</td>\n",
       "      <td>0</td>\n",
       "      <td>113931.57</td>\n",
       "      <td>1</td>\n",
       "    </tr>\n",
       "    <tr>\n",
       "      <th>3</th>\n",
       "      <td>699.0</td>\n",
       "      <td>0</td>\n",
       "      <td>0</td>\n",
       "      <td>39</td>\n",
       "      <td>1</td>\n",
       "      <td>0.00</td>\n",
       "      <td>2</td>\n",
       "      <td>0</td>\n",
       "      <td>0</td>\n",
       "      <td>93826.63</td>\n",
       "      <td>0</td>\n",
       "    </tr>\n",
       "    <tr>\n",
       "      <th>4</th>\n",
       "      <td>850.0</td>\n",
       "      <td>2</td>\n",
       "      <td>0</td>\n",
       "      <td>43</td>\n",
       "      <td>2</td>\n",
       "      <td>125510.82</td>\n",
       "      <td>1</td>\n",
       "      <td>1</td>\n",
       "      <td>1</td>\n",
       "      <td>79084.10</td>\n",
       "      <td>0</td>\n",
       "    </tr>\n",
       "  </tbody>\n",
       "</table>\n",
       "</div>"
      ],
      "text/plain": [
       "   CreditScore  Geography  Gender  Age  Tenure    Balance  NumOfProducts  \\\n",
       "0        619.0          0       0   42       2       0.00              1   \n",
       "1        608.0          2       0   41       1   83807.86              1   \n",
       "2        502.0          0       0   42       8  159660.80              3   \n",
       "3        699.0          0       0   39       1       0.00              2   \n",
       "4        850.0          2       0   43       2  125510.82              1   \n",
       "\n",
       "   HasCrCard  IsActiveMember  EstimatedSalary  Exited  \n",
       "0          1               1        101348.88       1  \n",
       "1          0               1        112542.58       0  \n",
       "2          1               0        113931.57       1  \n",
       "3          0               0         93826.63       0  \n",
       "4          1               1         79084.10       0  "
      ]
     },
     "execution_count": 31,
     "metadata": {},
     "output_type": "execute_result"
    }
   ],
   "source": [
    "print(\"Shape: \", df_bank_treated.shape)\n",
    "df_bank_treated.head()"
   ]
  },
  {
   "cell_type": "code",
   "execution_count": 32,
   "metadata": {},
   "outputs": [],
   "source": [
    "category_attrs=[\"Geography\", \"Gender\", \"Tenure\",\"NumOfProducts\", \"HasCrCard\", \"IsActiveMember\"]\n",
    "\n",
    "df_bank_treated = pd.get_dummies(df_bank_treated, columns=category_attrs)"
   ]
  },
  {
   "cell_type": "code",
   "execution_count": 33,
   "metadata": {},
   "outputs": [
    {
     "name": "stdout",
     "output_type": "stream",
     "text": [
      "Shape:  (10000, 29)\n"
     ]
    },
    {
     "data": {
      "text/html": [
       "<div>\n",
       "<style scoped>\n",
       "    .dataframe tbody tr th:only-of-type {\n",
       "        vertical-align: middle;\n",
       "    }\n",
       "\n",
       "    .dataframe tbody tr th {\n",
       "        vertical-align: top;\n",
       "    }\n",
       "\n",
       "    .dataframe thead th {\n",
       "        text-align: right;\n",
       "    }\n",
       "</style>\n",
       "<table border=\"1\" class=\"dataframe\">\n",
       "  <thead>\n",
       "    <tr style=\"text-align: right;\">\n",
       "      <th></th>\n",
       "      <th>CreditScore</th>\n",
       "      <th>Age</th>\n",
       "      <th>Balance</th>\n",
       "      <th>EstimatedSalary</th>\n",
       "      <th>Exited</th>\n",
       "      <th>Geography_0</th>\n",
       "      <th>Geography_1</th>\n",
       "      <th>Geography_2</th>\n",
       "      <th>Gender_0</th>\n",
       "      <th>Gender_1</th>\n",
       "      <th>...</th>\n",
       "      <th>Tenure_9</th>\n",
       "      <th>Tenure_10</th>\n",
       "      <th>NumOfProducts_1</th>\n",
       "      <th>NumOfProducts_2</th>\n",
       "      <th>NumOfProducts_3</th>\n",
       "      <th>NumOfProducts_4</th>\n",
       "      <th>HasCrCard_0</th>\n",
       "      <th>HasCrCard_1</th>\n",
       "      <th>IsActiveMember_0</th>\n",
       "      <th>IsActiveMember_1</th>\n",
       "    </tr>\n",
       "  </thead>\n",
       "  <tbody>\n",
       "    <tr>\n",
       "      <th>0</th>\n",
       "      <td>619.0</td>\n",
       "      <td>42</td>\n",
       "      <td>0.00</td>\n",
       "      <td>101348.88</td>\n",
       "      <td>1</td>\n",
       "      <td>1</td>\n",
       "      <td>0</td>\n",
       "      <td>0</td>\n",
       "      <td>1</td>\n",
       "      <td>0</td>\n",
       "      <td>...</td>\n",
       "      <td>0</td>\n",
       "      <td>0</td>\n",
       "      <td>1</td>\n",
       "      <td>0</td>\n",
       "      <td>0</td>\n",
       "      <td>0</td>\n",
       "      <td>0</td>\n",
       "      <td>1</td>\n",
       "      <td>0</td>\n",
       "      <td>1</td>\n",
       "    </tr>\n",
       "    <tr>\n",
       "      <th>1</th>\n",
       "      <td>608.0</td>\n",
       "      <td>41</td>\n",
       "      <td>83807.86</td>\n",
       "      <td>112542.58</td>\n",
       "      <td>0</td>\n",
       "      <td>0</td>\n",
       "      <td>0</td>\n",
       "      <td>1</td>\n",
       "      <td>1</td>\n",
       "      <td>0</td>\n",
       "      <td>...</td>\n",
       "      <td>0</td>\n",
       "      <td>0</td>\n",
       "      <td>1</td>\n",
       "      <td>0</td>\n",
       "      <td>0</td>\n",
       "      <td>0</td>\n",
       "      <td>1</td>\n",
       "      <td>0</td>\n",
       "      <td>0</td>\n",
       "      <td>1</td>\n",
       "    </tr>\n",
       "    <tr>\n",
       "      <th>2</th>\n",
       "      <td>502.0</td>\n",
       "      <td>42</td>\n",
       "      <td>159660.80</td>\n",
       "      <td>113931.57</td>\n",
       "      <td>1</td>\n",
       "      <td>1</td>\n",
       "      <td>0</td>\n",
       "      <td>0</td>\n",
       "      <td>1</td>\n",
       "      <td>0</td>\n",
       "      <td>...</td>\n",
       "      <td>0</td>\n",
       "      <td>0</td>\n",
       "      <td>0</td>\n",
       "      <td>0</td>\n",
       "      <td>1</td>\n",
       "      <td>0</td>\n",
       "      <td>0</td>\n",
       "      <td>1</td>\n",
       "      <td>1</td>\n",
       "      <td>0</td>\n",
       "    </tr>\n",
       "    <tr>\n",
       "      <th>3</th>\n",
       "      <td>699.0</td>\n",
       "      <td>39</td>\n",
       "      <td>0.00</td>\n",
       "      <td>93826.63</td>\n",
       "      <td>0</td>\n",
       "      <td>1</td>\n",
       "      <td>0</td>\n",
       "      <td>0</td>\n",
       "      <td>1</td>\n",
       "      <td>0</td>\n",
       "      <td>...</td>\n",
       "      <td>0</td>\n",
       "      <td>0</td>\n",
       "      <td>0</td>\n",
       "      <td>1</td>\n",
       "      <td>0</td>\n",
       "      <td>0</td>\n",
       "      <td>1</td>\n",
       "      <td>0</td>\n",
       "      <td>1</td>\n",
       "      <td>0</td>\n",
       "    </tr>\n",
       "    <tr>\n",
       "      <th>4</th>\n",
       "      <td>850.0</td>\n",
       "      <td>43</td>\n",
       "      <td>125510.82</td>\n",
       "      <td>79084.10</td>\n",
       "      <td>0</td>\n",
       "      <td>0</td>\n",
       "      <td>0</td>\n",
       "      <td>1</td>\n",
       "      <td>1</td>\n",
       "      <td>0</td>\n",
       "      <td>...</td>\n",
       "      <td>0</td>\n",
       "      <td>0</td>\n",
       "      <td>1</td>\n",
       "      <td>0</td>\n",
       "      <td>0</td>\n",
       "      <td>0</td>\n",
       "      <td>0</td>\n",
       "      <td>1</td>\n",
       "      <td>0</td>\n",
       "      <td>1</td>\n",
       "    </tr>\n",
       "  </tbody>\n",
       "</table>\n",
       "<p>5 rows × 29 columns</p>\n",
       "</div>"
      ],
      "text/plain": [
       "   CreditScore  Age    Balance  EstimatedSalary  Exited  Geography_0  \\\n",
       "0        619.0   42       0.00        101348.88       1            1   \n",
       "1        608.0   41   83807.86        112542.58       0            0   \n",
       "2        502.0   42  159660.80        113931.57       1            1   \n",
       "3        699.0   39       0.00         93826.63       0            1   \n",
       "4        850.0   43  125510.82         79084.10       0            0   \n",
       "\n",
       "   Geography_1  Geography_2  Gender_0  Gender_1        ...         Tenure_9  \\\n",
       "0            0            0         1         0        ...                0   \n",
       "1            0            1         1         0        ...                0   \n",
       "2            0            0         1         0        ...                0   \n",
       "3            0            0         1         0        ...                0   \n",
       "4            0            1         1         0        ...                0   \n",
       "\n",
       "   Tenure_10  NumOfProducts_1  NumOfProducts_2  NumOfProducts_3  \\\n",
       "0          0                1                0                0   \n",
       "1          0                1                0                0   \n",
       "2          0                0                0                1   \n",
       "3          0                0                1                0   \n",
       "4          0                1                0                0   \n",
       "\n",
       "   NumOfProducts_4  HasCrCard_0  HasCrCard_1  IsActiveMember_0  \\\n",
       "0                0            0            1                 0   \n",
       "1                0            1            0                 0   \n",
       "2                0            0            1                 1   \n",
       "3                0            1            0                 1   \n",
       "4                0            0            1                 0   \n",
       "\n",
       "   IsActiveMember_1  \n",
       "0                 1  \n",
       "1                 1  \n",
       "2                 0  \n",
       "3                 0  \n",
       "4                 1  \n",
       "\n",
       "[5 rows x 29 columns]"
      ]
     },
     "execution_count": 33,
     "metadata": {},
     "output_type": "execute_result"
    }
   ],
   "source": [
    "print(\"Shape: \", df_bank_treated.shape)\n",
    "df_bank_treated.head()"
   ]
  },
  {
   "cell_type": "markdown",
   "metadata": {},
   "source": [
    "### NOTE:\n",
    "**df_bank:** dataset without outlier handing and withotu one-hot coding\n",
    "\n",
    "**df_bank_treated:** dataset with outlier handing and one-hot coding"
   ]
  },
  {
   "cell_type": "markdown",
   "metadata": {},
   "source": [
    "### 3. Distinguish the feature and target set (2.5 points)"
   ]
  },
  {
   "cell_type": "code",
   "execution_count": 107,
   "metadata": {},
   "outputs": [],
   "source": [
    "df_target = df_bank[[\"Exited\"]]\n",
    "df_features = df_bank.drop(labels=\"Exited\",axis=1)"
   ]
  },
  {
   "cell_type": "code",
   "execution_count": 108,
   "metadata": {},
   "outputs": [
    {
     "data": {
      "text/html": [
       "<div>\n",
       "<style scoped>\n",
       "    .dataframe tbody tr th:only-of-type {\n",
       "        vertical-align: middle;\n",
       "    }\n",
       "\n",
       "    .dataframe tbody tr th {\n",
       "        vertical-align: top;\n",
       "    }\n",
       "\n",
       "    .dataframe thead th {\n",
       "        text-align: right;\n",
       "    }\n",
       "</style>\n",
       "<table border=\"1\" class=\"dataframe\">\n",
       "  <thead>\n",
       "    <tr style=\"text-align: right;\">\n",
       "      <th></th>\n",
       "      <th>CreditScore</th>\n",
       "      <th>Geography</th>\n",
       "      <th>Gender</th>\n",
       "      <th>Age</th>\n",
       "      <th>Tenure</th>\n",
       "      <th>Balance</th>\n",
       "      <th>NumOfProducts</th>\n",
       "      <th>HasCrCard</th>\n",
       "      <th>IsActiveMember</th>\n",
       "      <th>EstimatedSalary</th>\n",
       "    </tr>\n",
       "  </thead>\n",
       "  <tbody>\n",
       "    <tr>\n",
       "      <th>0</th>\n",
       "      <td>619</td>\n",
       "      <td>0</td>\n",
       "      <td>0</td>\n",
       "      <td>42</td>\n",
       "      <td>2</td>\n",
       "      <td>0.00</td>\n",
       "      <td>1</td>\n",
       "      <td>1</td>\n",
       "      <td>1</td>\n",
       "      <td>101348.88</td>\n",
       "    </tr>\n",
       "    <tr>\n",
       "      <th>1</th>\n",
       "      <td>608</td>\n",
       "      <td>2</td>\n",
       "      <td>0</td>\n",
       "      <td>41</td>\n",
       "      <td>1</td>\n",
       "      <td>83807.86</td>\n",
       "      <td>1</td>\n",
       "      <td>0</td>\n",
       "      <td>1</td>\n",
       "      <td>112542.58</td>\n",
       "    </tr>\n",
       "    <tr>\n",
       "      <th>2</th>\n",
       "      <td>502</td>\n",
       "      <td>0</td>\n",
       "      <td>0</td>\n",
       "      <td>42</td>\n",
       "      <td>8</td>\n",
       "      <td>159660.80</td>\n",
       "      <td>3</td>\n",
       "      <td>1</td>\n",
       "      <td>0</td>\n",
       "      <td>113931.57</td>\n",
       "    </tr>\n",
       "    <tr>\n",
       "      <th>3</th>\n",
       "      <td>699</td>\n",
       "      <td>0</td>\n",
       "      <td>0</td>\n",
       "      <td>39</td>\n",
       "      <td>1</td>\n",
       "      <td>0.00</td>\n",
       "      <td>2</td>\n",
       "      <td>0</td>\n",
       "      <td>0</td>\n",
       "      <td>93826.63</td>\n",
       "    </tr>\n",
       "    <tr>\n",
       "      <th>4</th>\n",
       "      <td>850</td>\n",
       "      <td>2</td>\n",
       "      <td>0</td>\n",
       "      <td>43</td>\n",
       "      <td>2</td>\n",
       "      <td>125510.82</td>\n",
       "      <td>1</td>\n",
       "      <td>1</td>\n",
       "      <td>1</td>\n",
       "      <td>79084.10</td>\n",
       "    </tr>\n",
       "  </tbody>\n",
       "</table>\n",
       "</div>"
      ],
      "text/plain": [
       "   CreditScore  Geography  Gender  Age  Tenure    Balance  NumOfProducts  \\\n",
       "0          619          0       0   42       2       0.00              1   \n",
       "1          608          2       0   41       1   83807.86              1   \n",
       "2          502          0       0   42       8  159660.80              3   \n",
       "3          699          0       0   39       1       0.00              2   \n",
       "4          850          2       0   43       2  125510.82              1   \n",
       "\n",
       "   HasCrCard  IsActiveMember  EstimatedSalary  \n",
       "0          1               1        101348.88  \n",
       "1          0               1        112542.58  \n",
       "2          1               0        113931.57  \n",
       "3          0               0         93826.63  \n",
       "4          1               1         79084.10  "
      ]
     },
     "execution_count": 108,
     "metadata": {},
     "output_type": "execute_result"
    }
   ],
   "source": [
    "df_features.head()"
   ]
  },
  {
   "cell_type": "markdown",
   "metadata": {},
   "source": [
    "### 4. Divide the data set into Train and test sets"
   ]
  },
  {
   "cell_type": "code",
   "execution_count": 109,
   "metadata": {},
   "outputs": [],
   "source": [
    "test_size = 0.30 # taking 70:30 training and test set\n",
    "seed = 7  # Random numbmer seeding for reapeatability of the code\n",
    "X_train, X_test, Y_train, Y_test = train_test_split(df_features, df_target, test_size=test_size, random_state=seed)"
   ]
  },
  {
   "cell_type": "code",
   "execution_count": 110,
   "metadata": {},
   "outputs": [
    {
     "name": "stdout",
     "output_type": "stream",
     "text": [
      "X_train:  (7000, 10)\n",
      "Y_train:  (7000, 1)\n"
     ]
    }
   ],
   "source": [
    "print(\"X_train: \", X_train.shape)\n",
    "print(\"Y_train: \", Y_train.shape)"
   ]
  },
  {
   "cell_type": "code",
   "execution_count": 111,
   "metadata": {},
   "outputs": [
    {
     "name": "stdout",
     "output_type": "stream",
     "text": [
      "X_test:  (3000, 10)\n",
      "Y_test:  (3000, 1)\n"
     ]
    }
   ],
   "source": [
    "print(\"X_test: \", X_test.shape)\n",
    "print(\"Y_test: \", Y_test.shape)"
   ]
  },
  {
   "cell_type": "markdown",
   "metadata": {},
   "source": [
    "### 5. Normalize the train and test data (2.5 points)"
   ]
  },
  {
   "cell_type": "code",
   "execution_count": 112,
   "metadata": {},
   "outputs": [],
   "source": [
    "# Normalized variables: \n",
    "# Transform (centralize) the entire (independent variable data) to zscores through transformation.\n",
    "std_scale = StandardScaler()\n",
    "X_train_std = std_scale.fit_transform(X_train)\n",
    "X_test_std = std_scale.fit_transform(X_test)"
   ]
  },
  {
   "cell_type": "markdown",
   "metadata": {},
   "source": [
    "### 6. Initialize & build the model (10 points)"
   ]
  },
  {
   "cell_type": "code",
   "execution_count": 113,
   "metadata": {},
   "outputs": [
    {
     "name": "stdout",
     "output_type": "stream",
     "text": [
      "Input Dimension: 10\n"
     ]
    }
   ],
   "source": [
    "# input size\n",
    "print(\"Input Dimension: %d\" %(X_train_std.shape[1]))"
   ]
  },
  {
   "cell_type": "code",
   "execution_count": 114,
   "metadata": {},
   "outputs": [
    {
     "name": "stdout",
     "output_type": "stream",
     "text": [
      "Output Dimension: 1\n"
     ]
    }
   ],
   "source": [
    "# Output size\n",
    "print(\"Output Dimension: %d\" %(Y_train.shape[1]))"
   ]
  },
  {
   "cell_type": "code",
   "execution_count": 115,
   "metadata": {},
   "outputs": [],
   "source": [
    "#Initialize Sequential model\n",
    "model1 = keras.models.Sequential()\n",
    "\n",
    "#input_dim is required for the first hidden layer, as it is the first starting point. --> number of inputs.\n",
    "model1.add(keras.layers.BatchNormalization(input_shape=(X_train_std.shape[1],)))\n",
    "\n",
    "# Output Layer\n",
    "# output_dim should be 1, as output is binary outcome, and activation should be 'sigmoid'\n",
    "# Keras declares weights and bias automatically\n",
    "model1.add(keras.layers.Dense(1, activation='sigmoid'))"
   ]
  },
  {
   "cell_type": "code",
   "execution_count": 116,
   "metadata": {},
   "outputs": [],
   "source": [
    "#compile the model --> backpropagation -> gradient descent\n",
    "#optimizer = algorithm to find the optimal set of weights in ANN\n",
    "#loss = functions that should be optimized.\n",
    "#metrics = criterion used to calculate the performance of the model.\n",
    "model1.compile(optimizer='sgd', loss='binary_crossentropy', metrics=['accuracy'])"
   ]
  },
  {
   "cell_type": "code",
   "execution_count": 117,
   "metadata": {},
   "outputs": [
    {
     "name": "stdout",
     "output_type": "stream",
     "text": [
      "Train on 7000 samples, validate on 3000 samples\n",
      "Epoch 1/30\n",
      "7000/7000 [==============================] - 2s 317us/step - loss: 0.5378 - acc: 0.7389 - val_loss: 0.4660 - val_acc: 0.7980\n",
      "Epoch 2/30\n",
      "7000/7000 [==============================] - 1s 191us/step - loss: 0.4512 - acc: 0.8020 - val_loss: 0.4442 - val_acc: 0.8080\n",
      "Epoch 3/30\n",
      "7000/7000 [==============================] - 1s 194us/step - loss: 0.4434 - acc: 0.8029 - val_loss: 0.4376 - val_acc: 0.8090\n",
      "Epoch 4/30\n",
      "7000/7000 [==============================] - 1s 188us/step - loss: 0.4397 - acc: 0.8083 - val_loss: 0.4351 - val_acc: 0.8110\n",
      "Epoch 5/30\n",
      "7000/7000 [==============================] - 1s 193us/step - loss: 0.4397 - acc: 0.8097 - val_loss: 0.4340 - val_acc: 0.8107\n",
      "Epoch 6/30\n",
      "7000/7000 [==============================] - 1s 194us/step - loss: 0.4368 - acc: 0.8113 - val_loss: 0.4334 - val_acc: 0.8110\n",
      "Epoch 7/30\n",
      "7000/7000 [==============================] - 2s 246us/step - loss: 0.4367 - acc: 0.8111 - val_loss: 0.4334 - val_acc: 0.8097\n",
      "Epoch 8/30\n",
      "7000/7000 [==============================] - 2s 224us/step - loss: 0.4365 - acc: 0.8129 - val_loss: 0.4334 - val_acc: 0.8107\n",
      "Epoch 9/30\n",
      "7000/7000 [==============================] - 2s 227us/step - loss: 0.4388 - acc: 0.8077 - val_loss: 0.4329 - val_acc: 0.8123\n",
      "Epoch 10/30\n",
      "7000/7000 [==============================] - 1s 194us/step - loss: 0.4366 - acc: 0.8099 - val_loss: 0.4327 - val_acc: 0.8120\n",
      "Epoch 11/30\n",
      "7000/7000 [==============================] - 1s 191us/step - loss: 0.4375 - acc: 0.8094 - val_loss: 0.4326 - val_acc: 0.8127\n",
      "Epoch 12/30\n",
      "7000/7000 [==============================] - 1s 213us/step - loss: 0.4397 - acc: 0.8051 - val_loss: 0.4326 - val_acc: 0.8120\n",
      "Epoch 13/30\n",
      "7000/7000 [==============================] - 1s 196us/step - loss: 0.4398 - acc: 0.8096 - val_loss: 0.4326 - val_acc: 0.8123\n",
      "Epoch 14/30\n",
      "7000/7000 [==============================] - 1s 195us/step - loss: 0.4371 - acc: 0.8071 - val_loss: 0.4328 - val_acc: 0.8117\n",
      "Epoch 15/30\n",
      "7000/7000 [==============================] - 1s 188us/step - loss: 0.4389 - acc: 0.8080 - val_loss: 0.4327 - val_acc: 0.8133\n",
      "Epoch 16/30\n",
      "7000/7000 [==============================] - 2s 222us/step - loss: 0.4352 - acc: 0.8113 - val_loss: 0.4330 - val_acc: 0.8110\n",
      "Epoch 17/30\n",
      "7000/7000 [==============================] - 1s 193us/step - loss: 0.4370 - acc: 0.8103 - val_loss: 0.4331 - val_acc: 0.8127\n",
      "Epoch 18/30\n",
      "7000/7000 [==============================] - 1s 194us/step - loss: 0.4357 - acc: 0.8113 - val_loss: 0.4329 - val_acc: 0.8120\n",
      "Epoch 19/30\n",
      "7000/7000 [==============================] - 1s 198us/step - loss: 0.4383 - acc: 0.8090 - val_loss: 0.4327 - val_acc: 0.8123\n",
      "Epoch 20/30\n",
      "7000/7000 [==============================] - 1s 213us/step - loss: 0.4388 - acc: 0.8056 - val_loss: 0.4329 - val_acc: 0.8110\n",
      "Epoch 21/30\n",
      "7000/7000 [==============================] - 1s 195us/step - loss: 0.4343 - acc: 0.8121 - val_loss: 0.4324 - val_acc: 0.8137\n",
      "Epoch 22/30\n",
      "7000/7000 [==============================] - 1s 194us/step - loss: 0.4421 - acc: 0.8067 - val_loss: 0.4329 - val_acc: 0.8130\n",
      "Epoch 23/30\n",
      "7000/7000 [==============================] - 1s 198us/step - loss: 0.4379 - acc: 0.8074 - val_loss: 0.4332 - val_acc: 0.8117\n",
      "Epoch 24/30\n",
      "7000/7000 [==============================] - 2s 274us/step - loss: 0.4367 - acc: 0.8117 - val_loss: 0.4330 - val_acc: 0.8110\n",
      "Epoch 25/30\n",
      "7000/7000 [==============================] - 1s 200us/step - loss: 0.4392 - acc: 0.8083 - val_loss: 0.4334 - val_acc: 0.8117\n",
      "Epoch 26/30\n",
      "7000/7000 [==============================] - 1s 210us/step - loss: 0.4371 - acc: 0.8104 - val_loss: 0.4329 - val_acc: 0.8117\n",
      "Epoch 27/30\n",
      "7000/7000 [==============================] - 1s 208us/step - loss: 0.4392 - acc: 0.8083 - val_loss: 0.4328 - val_acc: 0.8130\n",
      "Epoch 28/30\n",
      "7000/7000 [==============================] - 2s 215us/step - loss: 0.4338 - acc: 0.8117 - val_loss: 0.4341 - val_acc: 0.8103\n",
      "Epoch 29/30\n",
      "7000/7000 [==============================] - 2s 224us/step - loss: 0.4392 - acc: 0.8101 - val_loss: 0.4334 - val_acc: 0.8120\n",
      "Epoch 30/30\n",
      "7000/7000 [==============================] - 1s 206us/step - loss: 0.4393 - acc: 0.8100 - val_loss: 0.4328 - val_acc: 0.8130\n"
     ]
    },
    {
     "data": {
      "text/plain": [
       "<keras.callbacks.History at 0x1d86caf84a8>"
      ]
     },
     "execution_count": 117,
     "metadata": {},
     "output_type": "execute_result"
    }
   ],
   "source": [
    "#batch_size = the number of observations after which you want to update the weights\n",
    "#           batch size and epochs should be tuned through experiments.\n",
    "#epoch = going through the whole dataset\n",
    "model1.fit(X_train_std, Y_train, \n",
    "          validation_data=(X_test_std, Y_test), \n",
    "          epochs=30,\n",
    "          batch_size=10)"
   ]
  },
  {
   "cell_type": "code",
   "execution_count": 118,
   "metadata": {},
   "outputs": [
    {
     "name": "stdout",
     "output_type": "stream",
     "text": [
      "3000/3000 [==============================] - 0s 23us/step\n",
      "\n",
      "Test accuracy:[Without any middle layer]: 81.30\n"
     ]
    }
   ],
   "source": [
    "test_loss1, test_acc1 = model1.evaluate(X_test_std, Y_test)\n",
    "print('\\nTest accuracy:[Without any middle layer]: %0.2f' %(test_acc1*100))"
   ]
  },
  {
   "cell_type": "markdown",
   "metadata": {},
   "source": [
    "### 7. Optimize the model (5 points)"
   ]
  },
  {
   "cell_type": "markdown",
   "metadata": {},
   "source": [
    "**Build optimized model using treated dataset and with diffferent graph having multiple middle layer and neurons**\n",
    "\n",
    "Below model is create after various iteration and experiment with different middle layers and neurons and finally selected model with following graph giving better accuracy\n",
    "\n",
    "**Graph:** \n",
    "1. input layer -> 3 middle layers having 6 neuron each and with actication=relu -> output layer with activation=sigmoid\n",
    "2. build with optimizer=\"adam\"\n",
    "3. executed with epochs=50, batch_size=50\n",
    "\n",
    "finally plotted Train and Test accuracy for each epoc to verify if model does not overfit"
   ]
  },
  {
   "cell_type": "code",
   "execution_count": 119,
   "metadata": {},
   "outputs": [
    {
     "name": "stdout",
     "output_type": "stream",
     "text": [
      "X_train:  (7000, 28)\n",
      "Y_train:  (7000, 1)\n",
      "X_test:  (3000, 28)\n",
      "Y_test:  (3000, 1)\n",
      "Input Dimension: 28\n",
      "Output Dimension: 1\n"
     ]
    }
   ],
   "source": [
    "# Distinguish the feature and target set \n",
    "df_target = df_bank_treated[[\"Exited\"]]\n",
    "df_features = df_bank_treated.drop(labels=\"Exited\",axis=1)\n",
    "\n",
    "# Divide the data set into Train and test sets\n",
    "test_size = 0.30 # taking 70:30 training and test set\n",
    "seed = 7  # Random numbmer seeding for reapeatability of the code\n",
    "X_train, X_test, Y_train, Y_test = train_test_split(df_features, df_target, test_size=test_size, random_state=seed)\n",
    "\n",
    "print(\"X_train: \", X_train.shape)\n",
    "print(\"Y_train: \", Y_train.shape)\n",
    "print(\"X_test: \", X_test.shape)\n",
    "print(\"Y_test: \", Y_test.shape)\n",
    "\n",
    "#Normalize the train and test data\n",
    "# Normalized variables: \n",
    "# Transform (centralize) the entire (independent variable data) to zscores through transformation.\n",
    "std_scale = StandardScaler()\n",
    "X_train_std = std_scale.fit_transform(X_train)\n",
    "X_test_std = std_scale.fit_transform(X_test)\n",
    "\n",
    "# input size\n",
    "print(\"Input Dimension: %d\" %(X_train_std.shape[1]))\n",
    "\n",
    "# Output size\n",
    "print(\"Output Dimension: %d\" %(Y_train.shape[1]))"
   ]
  },
  {
   "cell_type": "code",
   "execution_count": 120,
   "metadata": {},
   "outputs": [],
   "source": [
    "#Initialize Sequential model\n",
    "model2 = keras.models.Sequential()\n",
    "\n",
    "# Keras declares weights and bias automatically\n",
    "#input_dim is required for the first hidden layer, as it is the first starting point. --> number of inputs.\n",
    "#Normalize input data\n",
    "model2.add(keras.layers.BatchNormalization(input_shape=(X_train_std.shape[1],)))\n",
    "\n",
    "model2.add(keras.layers.Dense(6, activation='relu'))\n",
    "model2.add(keras.layers.Dense(6, activation='relu'))\n",
    "model2.add(keras.layers.Dense(6, activation='relu'))\n",
    "\n",
    "# Output Layer\n",
    "# output_dim should be 1, as output is binary outcome, and activation should be 'sigmoid'\n",
    "# Keras declares weights and bias automatically\n",
    "model2.add(keras.layers.Dense(output_dim = 1, activation='sigmoid'))"
   ]
  },
  {
   "cell_type": "code",
   "execution_count": 121,
   "metadata": {},
   "outputs": [],
   "source": [
    "#compile the model --> backpropagation -> gradient descent\n",
    "#optimizer = algorithm to find the optimal set of weights in ANN\n",
    "#loss = functions that should be optimized.\n",
    "#metrics = criterion used to calculate the performance of the model.\n",
    "model2.compile(optimizer=\"adam\", loss='binary_crossentropy', metrics=['accuracy'])"
   ]
  },
  {
   "cell_type": "code",
   "execution_count": 122,
   "metadata": {},
   "outputs": [
    {
     "name": "stdout",
     "output_type": "stream",
     "text": [
      "Train on 7000 samples, validate on 3000 samples\n",
      "Epoch 1/50\n",
      "7000/7000 [==============================] - 2s 264us/step - loss: 0.7971 - acc: 0.4606 - val_loss: 0.6324 - val_acc: 0.7803\n",
      "Epoch 2/50\n",
      "7000/7000 [==============================] - 0s 50us/step - loss: 0.5670 - acc: 0.8126 - val_loss: 0.4883 - val_acc: 0.8217\n",
      "Epoch 3/50\n",
      "7000/7000 [==============================] - 0s 57us/step - loss: 0.4447 - acc: 0.8253 - val_loss: 0.4056 - val_acc: 0.8323\n",
      "Epoch 4/50\n",
      "7000/7000 [==============================] - 0s 48us/step - loss: 0.3979 - acc: 0.8337 - val_loss: 0.3889 - val_acc: 0.8393\n",
      "Epoch 5/50\n",
      "7000/7000 [==============================] - 0s 52us/step - loss: 0.3867 - acc: 0.8380 - val_loss: 0.3811 - val_acc: 0.8420\n",
      "Epoch 6/50\n",
      "7000/7000 [==============================] - 0s 51us/step - loss: 0.3780 - acc: 0.8413 - val_loss: 0.3760 - val_acc: 0.8433\n",
      "Epoch 7/50\n",
      "7000/7000 [==============================] - 0s 52us/step - loss: 0.3734 - acc: 0.8410 - val_loss: 0.3726 - val_acc: 0.8467\n",
      "Epoch 8/50\n",
      "7000/7000 [==============================] - 0s 51us/step - loss: 0.3715 - acc: 0.8429 - val_loss: 0.3683 - val_acc: 0.8483\n",
      "Epoch 9/50\n",
      "7000/7000 [==============================] - 0s 50us/step - loss: 0.3676 - acc: 0.8451 - val_loss: 0.3669 - val_acc: 0.8473\n",
      "Epoch 10/50\n",
      "7000/7000 [==============================] - 0s 55us/step - loss: 0.3662 - acc: 0.8476 - val_loss: 0.3645 - val_acc: 0.8527\n",
      "Epoch 11/50\n",
      "7000/7000 [==============================] - 1s 84us/step - loss: 0.3638 - acc: 0.8486 - val_loss: 0.3638 - val_acc: 0.8533\n",
      "Epoch 12/50\n",
      "7000/7000 [==============================] - 0s 60us/step - loss: 0.3619 - acc: 0.8501 - val_loss: 0.3614 - val_acc: 0.8520\n",
      "Epoch 13/50\n",
      "7000/7000 [==============================] - 0s 51us/step - loss: 0.3594 - acc: 0.8461 - val_loss: 0.3611 - val_acc: 0.8537\n",
      "Epoch 14/50\n",
      "7000/7000 [==============================] - 0s 52us/step - loss: 0.3579 - acc: 0.8501 - val_loss: 0.3596 - val_acc: 0.8543\n",
      "Epoch 15/50\n",
      "7000/7000 [==============================] - 0s 55us/step - loss: 0.3575 - acc: 0.8506 - val_loss: 0.3581 - val_acc: 0.8540\n",
      "Epoch 16/50\n",
      "7000/7000 [==============================] - 0s 53us/step - loss: 0.3577 - acc: 0.8514 - val_loss: 0.3572 - val_acc: 0.8550\n",
      "Epoch 17/50\n",
      "7000/7000 [==============================] - 0s 50us/step - loss: 0.3585 - acc: 0.8509 - val_loss: 0.3559 - val_acc: 0.8563\n",
      "Epoch 18/50\n",
      "7000/7000 [==============================] - 0s 53us/step - loss: 0.3576 - acc: 0.8526 - val_loss: 0.3548 - val_acc: 0.8560\n",
      "Epoch 19/50\n",
      "7000/7000 [==============================] - 0s 50us/step - loss: 0.3565 - acc: 0.8547 - val_loss: 0.3539 - val_acc: 0.8593\n",
      "Epoch 20/50\n",
      "7000/7000 [==============================] - 0s 63us/step - loss: 0.3546 - acc: 0.8550 - val_loss: 0.3526 - val_acc: 0.8597\n",
      "Epoch 21/50\n",
      "7000/7000 [==============================] - 0s 57us/step - loss: 0.3548 - acc: 0.8524 - val_loss: 0.3517 - val_acc: 0.8593\n",
      "Epoch 22/50\n",
      "7000/7000 [==============================] - 0s 60us/step - loss: 0.3508 - acc: 0.8551 - val_loss: 0.3508 - val_acc: 0.8603\n",
      "Epoch 23/50\n",
      "7000/7000 [==============================] - 0s 55us/step - loss: 0.3508 - acc: 0.8544 - val_loss: 0.3498 - val_acc: 0.8607\n",
      "Epoch 24/50\n",
      "7000/7000 [==============================] - 0s 59us/step - loss: 0.3489 - acc: 0.8579 - val_loss: 0.3491 - val_acc: 0.8620\n",
      "Epoch 25/50\n",
      "7000/7000 [==============================] - 0s 57us/step - loss: 0.3492 - acc: 0.8571 - val_loss: 0.3487 - val_acc: 0.8650\n",
      "Epoch 26/50\n",
      "7000/7000 [==============================] - 0s 53us/step - loss: 0.3518 - acc: 0.8557 - val_loss: 0.3471 - val_acc: 0.8627\n",
      "Epoch 27/50\n",
      "7000/7000 [==============================] - 0s 53us/step - loss: 0.3489 - acc: 0.8554 - val_loss: 0.3465 - val_acc: 0.8630\n",
      "Epoch 28/50\n",
      "7000/7000 [==============================] - 0s 52us/step - loss: 0.3507 - acc: 0.8557 - val_loss: 0.3465 - val_acc: 0.8653\n",
      "Epoch 29/50\n",
      "7000/7000 [==============================] - 0s 63us/step - loss: 0.3489 - acc: 0.8586 - val_loss: 0.3454 - val_acc: 0.8620\n",
      "Epoch 30/50\n",
      "7000/7000 [==============================] - 0s 57us/step - loss: 0.3448 - acc: 0.8584 - val_loss: 0.3452 - val_acc: 0.8640\n",
      "Epoch 31/50\n",
      "7000/7000 [==============================] - 0s 57us/step - loss: 0.3451 - acc: 0.8589 - val_loss: 0.3450 - val_acc: 0.8677\n",
      "Epoch 32/50\n",
      "7000/7000 [==============================] - 0s 60us/step - loss: 0.3447 - acc: 0.8579 - val_loss: 0.3435 - val_acc: 0.8633\n",
      "Epoch 33/50\n",
      "7000/7000 [==============================] - 0s 52us/step - loss: 0.3414 - acc: 0.8583 - val_loss: 0.3442 - val_acc: 0.8650\n",
      "Epoch 34/50\n",
      "7000/7000 [==============================] - 0s 55us/step - loss: 0.3456 - acc: 0.8559 - val_loss: 0.3437 - val_acc: 0.8670\n",
      "Epoch 35/50\n",
      "7000/7000 [==============================] - 0s 57us/step - loss: 0.3439 - acc: 0.8580 - val_loss: 0.3422 - val_acc: 0.8650\n",
      "Epoch 36/50\n",
      "7000/7000 [==============================] - 0s 69us/step - loss: 0.3438 - acc: 0.8599 - val_loss: 0.3414 - val_acc: 0.8640\n",
      "Epoch 37/50\n",
      "7000/7000 [==============================] - 1s 88us/step - loss: 0.3427 - acc: 0.8630 - val_loss: 0.3413 - val_acc: 0.8640\n",
      "Epoch 38/50\n",
      "7000/7000 [==============================] - 1s 74us/step - loss: 0.3425 - acc: 0.8590 - val_loss: 0.3418 - val_acc: 0.8667\n",
      "Epoch 39/50\n",
      "7000/7000 [==============================] - 1s 79us/step - loss: 0.3419 - acc: 0.8610 - val_loss: 0.3413 - val_acc: 0.8633\n",
      "Epoch 40/50\n",
      "7000/7000 [==============================] - 1s 90us/step - loss: 0.3424 - acc: 0.8589 - val_loss: 0.3401 - val_acc: 0.8627\n",
      "Epoch 41/50\n",
      "7000/7000 [==============================] - 0s 53us/step - loss: 0.3398 - acc: 0.8571 - val_loss: 0.3399 - val_acc: 0.8687\n",
      "Epoch 42/50\n",
      "7000/7000 [==============================] - 0s 53us/step - loss: 0.3441 - acc: 0.8574 - val_loss: 0.3404 - val_acc: 0.8663\n",
      "Epoch 43/50\n",
      "7000/7000 [==============================] - 0s 47us/step - loss: 0.3396 - acc: 0.8627 - val_loss: 0.3403 - val_acc: 0.8680\n",
      "Epoch 44/50\n",
      "7000/7000 [==============================] - 0s 53us/step - loss: 0.3405 - acc: 0.8581 - val_loss: 0.3398 - val_acc: 0.8660\n",
      "Epoch 45/50\n",
      "7000/7000 [==============================] - 0s 43us/step - loss: 0.3397 - acc: 0.8593 - val_loss: 0.3400 - val_acc: 0.8667\n",
      "Epoch 46/50\n",
      "7000/7000 [==============================] - 0s 47us/step - loss: 0.3392 - acc: 0.8614 - val_loss: 0.3383 - val_acc: 0.8643\n",
      "Epoch 47/50\n",
      "7000/7000 [==============================] - 0s 47us/step - loss: 0.3402 - acc: 0.8610 - val_loss: 0.3395 - val_acc: 0.8690\n",
      "Epoch 48/50\n",
      "7000/7000 [==============================] - 0s 47us/step - loss: 0.3373 - acc: 0.8624 - val_loss: 0.3391 - val_acc: 0.8687\n",
      "Epoch 49/50\n",
      "7000/7000 [==============================] - 0s 50us/step - loss: 0.3396 - acc: 0.8604 - val_loss: 0.3380 - val_acc: 0.8667\n",
      "Epoch 50/50\n",
      "7000/7000 [==============================] - 0s 48us/step - loss: 0.3394 - acc: 0.8609 - val_loss: 0.3381 - val_acc: 0.8663\n"
     ]
    }
   ],
   "source": [
    "#batch_size = the number of observations after which you want to update the weights\n",
    "#           batch size and epochs should be tuned through experiments.\n",
    "#epoch = going through the whole dataset\n",
    "history = model2.fit(X_train_std, Y_train, \n",
    "          validation_data=(X_test_std, Y_test), \n",
    "          epochs=50,\n",
    "          batch_size=50)"
   ]
  },
  {
   "cell_type": "code",
   "execution_count": 123,
   "metadata": {},
   "outputs": [
    {
     "name": "stdout",
     "output_type": "stream",
     "text": [
      "dict_keys(['val_loss', 'val_acc', 'loss', 'acc'])\n"
     ]
    },
    {
     "data": {
      "image/png": "[encoded data removed]",
      "text/plain": [
       "<Figure size 432x288 with 1 Axes>"
      ]
     },
     "metadata": {
      "needs_background": "light"
     },
     "output_type": "display_data"
    },
    {
     "data": {
      "image/png": "[encoded data removed]",
      "text/plain": [
       "<Figure size 432x288 with 1 Axes>"
      ]
     },
     "metadata": {
      "needs_background": "light"
     },
     "output_type": "display_data"
    }
   ],
   "source": [
    "# list all data in history\n",
    "print(history.history.keys())\n",
    "# summarize history for accuracy\n",
    "plt.plot(history.history['acc'])\n",
    "plt.plot(history.history['val_acc'])\n",
    "plt.title('model accuracy')\n",
    "plt.ylabel('accuracy')\n",
    "plt.xlabel('epoch')\n",
    "plt.legend(['train', 'test'], loc='upper left')\n",
    "plt.show()\n",
    "\n",
    "# summarize history for loss\n",
    "plt.plot(history.history['loss'])\n",
    "plt.plot(history.history['val_loss'])\n",
    "plt.title('model loss')\n",
    "plt.ylabel('loss')\n",
    "plt.xlabel('epoch')\n",
    "plt.legend(['train', 'test'], loc='upper left')\n",
    "plt.show()"
   ]
  },
  {
   "cell_type": "markdown",
   "metadata": {},
   "source": [
    "**The fact that accuracy on train and test set are similar shows that the model did not overfit on the train set.**"
   ]
  },
  {
   "cell_type": "code",
   "execution_count": 124,
   "metadata": {},
   "outputs": [
    {
     "name": "stdout",
     "output_type": "stream",
     "text": [
      "3000/3000 [==============================] - 0s 21us/step\n",
      "\n",
      "Test accuracy:[With middle layer]: 86.63\n"
     ]
    }
   ],
   "source": [
    "test_loss2, test_acc2 = model2.evaluate(X_test_std, Y_test)\n",
    "print('\\nTest accuracy:[With middle layer]: %0.2f' %(test_acc2*100))"
   ]
  },
  {
   "cell_type": "markdown",
   "metadata": {},
   "source": [
    "### 8. Predict the results using 0.5 as a threshold (5 points)"
   ]
  },
  {
   "cell_type": "code",
   "execution_count": 125,
   "metadata": {},
   "outputs": [
    {
     "data": {
      "text/plain": [
       "array([[0.69337654],\n",
       "       [0.06238005],\n",
       "       [0.01590511],\n",
       "       ...,\n",
       "       [0.00217527],\n",
       "       [0.03269017],\n",
       "       [0.19525036]], dtype=float32)"
      ]
     },
     "execution_count": 125,
     "metadata": {},
     "output_type": "execute_result"
    }
   ],
   "source": [
    "# predict the model\n",
    "y_predict = model2.predict(X_test_std)\n",
    "y_predict"
   ]
  },
  {
   "cell_type": "code",
   "execution_count": 126,
   "metadata": {},
   "outputs": [
    {
     "data": {
      "text/plain": [
       "array([[ True],\n",
       "       [False],\n",
       "       [False],\n",
       "       ...,\n",
       "       [False],\n",
       "       [False],\n",
       "       [False]])"
      ]
     },
     "execution_count": 126,
     "metadata": {},
     "output_type": "execute_result"
    }
   ],
   "source": [
    "# keeping 0.5 as a threshold \n",
    "y_predict = (y_predict > 0.5) #to classify each probability into True or False\n",
    "y_predict"
   ]
  },
  {
   "cell_type": "markdown",
   "metadata": {},
   "source": [
    "### 9. Print the Accuracy score and confusion matrix (2.5 points)"
   ]
  },
  {
   "cell_type": "code",
   "execution_count": 127,
   "metadata": {},
   "outputs": [
    {
     "name": "stdout",
     "output_type": "stream",
     "text": [
      "\n",
      "Test accuracy:[With customized sgd with threshold as 0.5]: 86.63\n"
     ]
    }
   ],
   "source": [
    "test_acc = metrics.accuracy_score(Y_test,y_predict)\n",
    "print('\\nTest accuracy:[With customized sgd with threshold as 0.5]: %0.2f' %(test_acc*100))"
   ]
  },
  {
   "cell_type": "code",
   "execution_count": 134,
   "metadata": {},
   "outputs": [
    {
     "name": "stdout",
     "output_type": "stream",
     "text": [
      "Confusion matrix:\n"
     ]
    },
    {
     "data": {
      "text/plain": [
       "array([[2325,   70],\n",
       "       [ 331,  274]], dtype=int64)"
      ]
     },
     "execution_count": 134,
     "metadata": {},
     "output_type": "execute_result"
    }
   ],
   "source": [
    "print(\"Confusion matrix:\")\n",
    "metrics.confusion_matrix(Y_test, y_predict)"
   ]
  },
  {
   "cell_type": "code",
   "execution_count": 138,
   "metadata": {},
   "outputs": [
    {
     "name": "stdout",
     "output_type": "stream",
     "text": [
      "Classification Report: \n",
      "\n",
      "               precision    recall  f1-score   support\n",
      "\n",
      "           0       0.88      0.96      0.92      2395\n",
      "           1       0.75      0.46      0.57       605\n",
      "\n",
      "   micro avg       0.86      0.86      0.86      3000\n",
      "   macro avg       0.81      0.71      0.74      3000\n",
      "weighted avg       0.85      0.86      0.85      3000\n",
      "\n"
     ]
    }
   ],
   "source": [
    "cr = metrics.classification_report(Y_test,y_predict_final)\n",
    "print(\"Classification Report: \\n\\n\", cr)"
   ]
  },
  {
   "cell_type": "markdown",
   "metadata": {},
   "source": [
    "**ROC curve to choose a threshold that balances sensitivity and specificity**"
   ]
  },
  {
   "cell_type": "code",
   "execution_count": 130,
   "metadata": {},
   "outputs": [
    {
     "data": {
      "image/png": "[encoded data removed]",
      "text/plain": [
       "<Figure size 432x288 with 1 Axes>"
      ]
     },
     "metadata": {
      "needs_background": "light"
     },
     "output_type": "display_data"
    }
   ],
   "source": [
    "fpr,tpr, thresholds = metrics.roc_curve(Y_test, y_predict)\n",
    "plt.figure()\n",
    "plt.plot(fpr, tpr)\n",
    "plt.xlim([0.0, 1.0])\n",
    "plt.ylim([0.0, 1.0])\n",
    "plt.xlabel('False Positive Rate')\n",
    "plt.ylabel('True Positive Rate')\n",
    "plt.title('Receiver operating characteristic')\n",
    "plt.show()"
   ]
  },
  {
   "cell_type": "code",
   "execution_count": 131,
   "metadata": {},
   "outputs": [
    {
     "name": "stdout",
     "output_type": "stream",
     "text": [
      "Area Under the curve 0.7118325022860988\n"
     ]
    }
   ],
   "source": [
    "# Calculate AUC\n",
    "roc_auc = metrics.auc(fpr, tpr)\n",
    "print('Area Under the curve',roc_auc)"
   ]
  },
  {
   "cell_type": "code",
   "execution_count": 132,
   "metadata": {},
   "outputs": [],
   "source": [
    "# save the model\n",
    "model2.save('bank_customer.h5')"
   ]
  },
  {
   "cell_type": "code",
   "execution_count": null,
   "metadata": {},
   "outputs": [],
   "source": []
  }
 ],
 "metadata": {
  "kernelspec": {
   "display_name": "Python 3",
   "language": "python",
   "name": "python3"
  },
  "language_info": {
   "codemirror_mode": {
    "name": "ipython",
    "version": 3
   },
   "file_extension": ".py",
   "mimetype": "text/x-python",
   "name": "python",
   "nbconvert_exporter": "python",
   "pygments_lexer": "ipython3",
   "version": "3.7.3"
  }
 },
 "nbformat": 4,
 "nbformat_minor": 2
}
