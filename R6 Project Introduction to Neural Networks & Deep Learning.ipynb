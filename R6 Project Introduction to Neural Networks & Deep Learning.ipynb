{
 "cells": [
  {
   "cell_type": "markdown",
   "metadata": {},
   "source": [
    "Given a Bank customer, can we build a classifier which can determine whether they will leave or not using Neural networks?\n",
    "\n",
    "The points distribution for this case is as follows:\n",
    "\n",
    "1. Read the dataset\n",
    "\n",
    "2. Drop the columns which are unique for all users like IDs (2.5 points)\n",
    "\n",
    "3. Distinguish the feature and target set (2.5 points)\n",
    " \n",
    "4. Divide the data set into Train and test sets\n",
    "\n",
    "5. Normalize the train and test data (2.5 points)\n",
    " \n",
    "6. Initialize & build the model (10 points)\n",
    "\n",
    "7. Optimize the model (5 points)\n",
    "\n",
    "8. Predict the results using 0.5 as a threshold (5 points)\n",
    "\n",
    "9. Print the Accuracy score and confusion matrix (2.5 points)"
   ]
  },
  {
   "cell_type": "code",
   "execution_count": null,
   "metadata": {},
   "outputs": [],
   "source": []
  }
 ],
 "metadata": {
  "kernelspec": {
   "display_name": "Python 3",
   "language": "python",
   "name": "python3"
  },
  "language_info": {
   "codemirror_mode": {
    "name": "ipython",
    "version": 3
   },
   "file_extension": ".py",
   "mimetype": "text/x-python",
   "name": "python",
   "nbconvert_exporter": "python",
   "pygments_lexer": "ipython3",
   "version": "3.6.4"
  }
 },
 "nbformat": 4,
 "nbformat_minor": 2
}
