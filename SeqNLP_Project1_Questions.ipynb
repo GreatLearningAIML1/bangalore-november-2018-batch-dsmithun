{
 "cells": [
  {
   "cell_type": "markdown",
   "metadata": {
    "colab_type": "text",
    "id": "xT7MKZuMRaCg"
   },
   "source": [
    "# Sentiment Classification\n",
    "\n",
    "\n",
    "### Generate Word Embeddings and retrieve outputs of each layer with Keras based on Classification task\n",
    "\n",
    "Word embeddings are a type of word representation that allows words with similar meaning to have a similar representation.\n",
    "\n",
    "It is a distributed representation for text that is perhaps one of the key breakthroughs for the impressive performance of deep learning methods on challenging natural language processing problems.\n",
    "\n",
    "We willl use the imdb dataset to learn word embeddings as we train our dataset. This dataset contains 25,000 movie reviews from IMDB, labeled with sentiment (positive or negative). \n",
    "\n",
    "\n",
    "\n",
    "### Dataset\n",
    "\n",
    "`from keras.datasets import imdb`\n",
    "\n",
    "Dataset of 25,000 movies reviews from IMDB, labeled by sentiment (positive/negative). Reviews have been preprocessed, and each review is encoded as a sequence of word indexes (integers). For convenience, the words are indexed by their frequency in the dataset, meaning the for that has index 1 is the most frequent word. Use the first 20 words from each review to speed up training, using a max vocab size of 10,000.\n",
    "\n",
    "As a convention, \"0\" does not stand for a specific word, but instead is used to encode any unknown word.\n",
    "\n",
    "\n",
    "### Aim\n",
    "\n",
    "1. Import test and train data  \n",
    "2. Import the labels ( train and test) \n",
    "3. Get the word index and then Create key value pair for word and word_id. (12.5 points)\n",
    "4. Build a Sequential Model using Keras for Sentiment Classification task. (10 points)\n",
    "5. Report the Accuracy of the model. (5 points)  \n",
    "6. Retrive the output of each layer in keras for a given single test sample from the trained model you built. (2.5 points)\n"
   ]
  },
  {
   "cell_type": "code",
   "execution_count": 1,
   "metadata": {},
   "outputs": [
    {
     "name": "stderr",
     "output_type": "stream",
     "text": [
      "Using TensorFlow backend.\n"
     ]
    }
   ],
   "source": [
    "# import all necessary packages\n",
    "import warnings \n",
    "warnings.filterwarnings('ignore')\n",
    "\n",
    "import matplotlib.pyplot as plt\n",
    "%matplotlib inline\n",
    "\n",
    "import numpy as np\n",
    "import seaborn as sns\n",
    "from sklearn import metrics\n",
    "\n",
    "import keras\n",
    "from keras.models import Sequential\n",
    "from keras.layers import LSTM, SimpleRNN, Dense, Dropout\n",
    "from keras.layers import Flatten\n",
    "from keras.layers.embeddings import Embedding\n",
    "\n",
    "from keras.callbacks import ModelCheckpoint, EarlyStopping\n",
    "from keras.callbacks import TensorBoard\n",
    "import time"
   ]
  },
  {
   "cell_type": "markdown",
   "metadata": {
    "colab_type": "text",
    "id": "Wq4RCyyPSYRp"
   },
   "source": [
    "#### Usage:"
   ]
  },
  {
   "cell_type": "code",
   "execution_count": 2,
   "metadata": {},
   "outputs": [],
   "source": [
    "# current version of numpy have default allow_pickle as false so temporarily making it true to allow loading imdb dataset\n",
    "\n",
    "# save np.load\n",
    "np_load_old = np.load\n",
    "\n",
    "# modify the default parameters of np.load. This makes load_data with allow_pickle implicitly set to true\n",
    "np.load = lambda *a,**k: np_load_old(*a, allow_pickle=True, **k)"
   ]
  },
  {
   "cell_type": "code",
   "execution_count": 3,
   "metadata": {
    "colab": {},
    "colab_type": "code",
    "id": "fCPC_WN-eCyw"
   },
   "outputs": [],
   "source": [
    "from keras.datasets import imdb\n",
    "from keras.preprocessing.sequence import pad_sequences\n",
    "vocab_size = 10000 #vocab size\n",
    "maxlen = 300  #number of word used from each review"
   ]
  },
  {
   "cell_type": "code",
   "execution_count": 4,
   "metadata": {
    "colab": {},
    "colab_type": "code",
    "id": "h0g381XzeCyz"
   },
   "outputs": [],
   "source": [
    "#load dataset as a list of ints\n",
    "(x_train, y_train), (x_test, y_test) = imdb.load_data(num_words=vocab_size) # vocab_size is no.of words to consider from the dataset, ordering based on frequency.\n",
    "\n",
    "#make all sequences of the same length\n",
    "x_train = pad_sequences(x_train, maxlen=maxlen)\n",
    "x_test =  pad_sequences(x_test, maxlen=maxlen)"
   ]
  },
  {
   "cell_type": "code",
   "execution_count": 5,
   "metadata": {
    "colab": {},
    "colab_type": "code",
    "id": "Jy6n-uM2eCy2"
   },
   "outputs": [],
   "source": [
    "# restore np.load for future normal usage\n",
    "np.load = np_load_old"
   ]
  },
  {
   "cell_type": "code",
   "execution_count": 6,
   "metadata": {
    "colab": {},
    "colab_type": "code",
    "id": "tZhMAgaNeCy5"
   },
   "outputs": [
    {
     "name": "stdout",
     "output_type": "stream",
     "text": [
      "x_train shape:  (25000, 300)\n",
      "y_train shape:  (25000,)\n",
      "x_test shape:  (25000, 300)\n",
      "y_test shape:  (25000,)\n"
     ]
    }
   ],
   "source": [
    "# checking the dataset shape\n",
    "print(\"x_train shape: \", x_train.shape)\n",
    "print(\"y_train shape: \", y_train.shape)\n",
    "print(\"x_test shape: \", x_test.shape)\n",
    "print(\"y_test shape: \", y_test.shape)"
   ]
  },
  {
   "cell_type": "code",
   "execution_count": 7,
   "metadata": {},
   "outputs": [
    {
     "data": {
      "text/plain": [
       "array([1, 0, 0, 1, 0], dtype=int64)"
      ]
     },
     "execution_count": 7,
     "metadata": {},
     "output_type": "execute_result"
    }
   ],
   "source": [
    "# checking first five review \n",
    "y_train[0:5]"
   ]
  },
  {
   "cell_type": "markdown",
   "metadata": {
    "colab_type": "text",
    "id": "dybtUgUReCy8"
   },
   "source": [
    "## Build Keras Embedding Layer Model\n",
    "We can think of the Embedding layer as a dicionary that maps a index assigned to a word to a word vector. This layer is very flexible and can be used in a few ways:\n",
    "\n",
    "* The embedding layer can be used at the start of a larger deep learning model. \n",
    "* Also we could load pre-train word embeddings into the embedding layer when we create our model.\n",
    "* Use the embedding layer to train our own word2vec models.\n",
    "\n",
    "The keras embedding layer doesn't require us to onehot encode our words, instead we have to give each word a unqiue intger number as an id. For the imdb dataset we've loaded this has already been done, but if this wasn't the case we could use sklearn [LabelEncoder](http://scikit-learn.org/stable/modules/generated/sklearn.preprocessing.LabelEncoder.html)."
   ]
  },
  {
   "cell_type": "code",
   "execution_count": 8,
   "metadata": {},
   "outputs": [
    {
     "name": "stderr",
     "output_type": "stream",
     "text": [
      "A subdirectory or file # already exists.\n",
      "Error occurred while processing: #.\n",
      "A subdirectory or file folder already exists.\n",
      "Error occurred while processing: folder.\n",
      "A subdirectory or file for already exists.\n",
      "Error occurred while processing: for.\n",
      "A subdirectory or file saving already exists.\n",
      "Error occurred while processing: saving.\n",
      "A subdirectory or file models already exists.\n",
      "Error occurred while processing: models.\n",
      "A subdirectory or file for already exists.\n",
      "Error occurred while processing: for.\n",
      "A subdirectory or file # already exists.\n",
      "Error occurred while processing: #.\n",
      "A subdirectory or file folder already exists.\n",
      "Error occurred while processing: folder.\n",
      "A subdirectory or file for already exists.\n",
      "Error occurred while processing: for.\n",
      "A subdirectory or file saving already exists.\n",
      "Error occurred while processing: saving.\n",
      "A subdirectory or file models already exists.\n",
      "Error occurred while processing: models.\n",
      "A subdirectory or file for already exists.\n",
      "Error occurred while processing: for.\n",
      "A subdirectory or file future already exists.\n",
      "Error occurred while processing: future.\n",
      "A subdirectory or file use already exists.\n",
      "Error occurred while processing: use.\n"
     ]
    }
   ],
   "source": [
    "!mkdir model_checkpoints # folder for saving checkpoints\n",
    "!mkdir models # folder for saving models for future use\n",
    "!mkdir cnf # folder for saving models for future use"
   ]
  },
  {
   "cell_type": "code",
   "execution_count": 9,
   "metadata": {},
   "outputs": [],
   "source": [
    "# utility fxn to plot model history and accuracy for each epoch\n",
    "def plot_model_history(model_history):\n",
    "    fig, axs = plt.subplots(1,2,figsize=(15,5))\n",
    "    # summarize history for accuracy\n",
    "    axs[0].plot(range(1,len(model_history.history['acc'])+1),model_history.history['acc'])\n",
    "    axs[0].plot(range(1,len(model_history.history['val_acc'])+1),model_history.history['val_acc'])\n",
    "    axs[0].set_title('Model Accuracy')\n",
    "    axs[0].set_ylabel('Accuracy')\n",
    "    axs[0].set_xlabel('Epoch')\n",
    "    axs[0].set_xticks(np.arange(1,len(model_history.history['acc'])+1),len(model_history.history['acc'])/10)\n",
    "    axs[0].legend(['train', 'val'], loc='best')\n",
    "    # summarize history for loss\n",
    "    axs[1].plot(range(1,len(model_history.history['loss'])+1),model_history.history['loss'])\n",
    "    axs[1].plot(range(1,len(model_history.history['val_loss'])+1),model_history.history['val_loss'])\n",
    "    axs[1].set_title('Model Loss')\n",
    "    axs[1].set_ylabel('Loss')\n",
    "    axs[1].set_xlabel('Epoch')\n",
    "    axs[1].set_xticks(np.arange(1,len(model_history.history['loss'])+1),len(model_history.history['loss'])/10)\n",
    "    axs[1].legend(['train', 'val'], loc='best')\n",
    "    plt.show()\n",
    "\n",
    "# callback utility fxn for tensorboard, Initializing Early stopping and Model chekpoint callbacks**\n",
    "# these fxn will be passed in model.fit \n",
    "def EarlyStopingModelCheckPoint():\n",
    "    #tensorboard = TensorBoard(log_dir=\".logs/{}\".format(time.time()))\n",
    "\n",
    "    #Adding Early stopping callback to the fit function is going to stop the training,\n",
    "    #if the val_loss is not going to change even '0.001' for more than 5 continous epochs\n",
    "\n",
    "    early_stopping = EarlyStopping(monitor='val_loss', min_delta=0.001, patience=3)\n",
    "\n",
    "    #Adding Model Checkpoint callback to the fit function is going to save the weights whenever val_loss achieves \n",
    "    # a new low value. Hence saving the best weights occurred during training\n",
    "\n",
    "    model_checkpoint =  ModelCheckpoint('model_checkpoints/checkpoint_{epoch:02d}_loss{val_loss:.4f}.h5',\n",
    "                                                               monitor='val_loss',\n",
    "                                                               verbose=1,\n",
    "                                                               save_best_only=True,\n",
    "                                                               save_weights_only=True,\n",
    "                                                               mode='auto',\n",
    "                                                               period=1)\n",
    "    return early_stopping, model_checkpoint\n",
    "\n",
    "review = ['Positive', 'Negative']\n",
    "\n",
    "def plot_cnf_matrix(cnf_matrix, name):\n",
    "    fig, ax = plt.subplots(1, figsize=(12,5))\n",
    "    ax = sns.heatmap(cnf_matrix, ax=ax, cmap=plt.cm.Greens, annot=True)\n",
    "    ax.set_xticklabels(review)\n",
    "    ax.set_yticklabels(review)\n",
    "    plt.title('Confusion Matrix')\n",
    "    plt.ylabel('True class')\n",
    "    plt.xlabel('Predicted class')\n",
    "    fig.savefig('cnf/{}.png'.format(name), dpi=300)\n",
    "    plt.show();\n",
    "    \n",
    "def get1D_y_predict(y_pred):\n",
    "    result = []\n",
    "    for i in range(len(y_pred)):\n",
    "        if(y_pred[i][0] > 0.50):\n",
    "            result.append(1)\n",
    "        else:\n",
    "            result.append(0)\n",
    "    return result"
   ]
  },
  {
   "cell_type": "markdown",
   "metadata": {},
   "source": [
    "**Build model**"
   ]
  },
  {
   "cell_type": "code",
   "execution_count": 10,
   "metadata": {
    "colab": {},
    "colab_type": "code",
    "id": "A5OLM4eBeCy9"
   },
   "outputs": [
    {
     "name": "stdout",
     "output_type": "stream",
     "text": [
      "WARNING:tensorflow:From C:\\Users\\msrikanta\\AppData\\Local\\Continuum\\anaconda3\\lib\\site-packages\\tensorflow\\python\\framework\\op_def_library.py:263: colocate_with (from tensorflow.python.framework.ops) is deprecated and will be removed in a future version.\n",
      "Instructions for updating:\n",
      "Colocations handled automatically by placer.\n",
      "WARNING:tensorflow:From C:\\Users\\msrikanta\\AppData\\Local\\Continuum\\anaconda3\\lib\\site-packages\\keras\\backend\\tensorflow_backend.py:3138: calling dropout (from tensorflow.python.ops.nn_ops) with keep_prob is deprecated and will be removed in a future version.\n",
      "Instructions for updating:\n",
      "Please use `rate` instead of `keep_prob`. Rate should be set to `rate = 1 - keep_prob`.\n"
     ]
    }
   ],
   "source": [
    "# define the model\n",
    "model1 = Sequential()\n",
    "\n",
    "# Embedding layer\n",
    "model1.add(Embedding(vocab_size, 8, input_length=maxlen, name=\"embedding1\"))\n",
    "\n",
    "# Recurrent layer\n",
    "model1.add(\n",
    "    SimpleRNN(\n",
    "        1, return_sequences=False, dropout=0.1, name=\"simple_rnn1\"))\n",
    "\n",
    "# Output layer: binary output\n",
    "model1.add(Dense(1, activation='sigmoid', name=\"output\"))"
   ]
  },
  {
   "cell_type": "markdown",
   "metadata": {},
   "source": [
    "**Compile and review model**"
   ]
  },
  {
   "cell_type": "code",
   "execution_count": 11,
   "metadata": {
    "colab": {},
    "colab_type": "code",
    "id": "TxNDNhrseCzA"
   },
   "outputs": [],
   "source": [
    "# compile the model\n",
    "model1.compile(optimizer='adam', loss='binary_crossentropy', metrics=['acc'])"
   ]
  },
  {
   "cell_type": "code",
   "execution_count": 12,
   "metadata": {
    "colab": {},
    "colab_type": "code",
    "id": "L3CSVVPPeCzD"
   },
   "outputs": [
    {
     "name": "stdout",
     "output_type": "stream",
     "text": [
      "_________________________________________________________________\n",
      "Layer (type)                 Output Shape              Param #   \n",
      "=================================================================\n",
      "embedding1 (Embedding)       (None, 300, 8)            80000     \n",
      "_________________________________________________________________\n",
      "simple_rnn1 (SimpleRNN)      (None, 1)                 10        \n",
      "_________________________________________________________________\n",
      "output (Dense)               (None, 1)                 2         \n",
      "=================================================================\n",
      "Total params: 80,012\n",
      "Trainable params: 80,012\n",
      "Non-trainable params: 0\n",
      "_________________________________________________________________\n",
      "None\n"
     ]
    }
   ],
   "source": [
    "# summarize the model\n",
    "print(model1.summary())"
   ]
  },
  {
   "cell_type": "markdown",
   "metadata": {},
   "source": [
    "**Train the model**"
   ]
  },
  {
   "cell_type": "code",
   "execution_count": 13,
   "metadata": {},
   "outputs": [
    {
     "name": "stdout",
     "output_type": "stream",
     "text": [
      "WARNING:tensorflow:From C:\\Users\\msrikanta\\AppData\\Local\\Continuum\\anaconda3\\lib\\site-packages\\tensorflow\\python\\ops\\math_ops.py:3066: to_int32 (from tensorflow.python.ops.math_ops) is deprecated and will be removed in a future version.\n",
      "Instructions for updating:\n",
      "Use tf.cast instead.\n",
      "Train on 25000 samples, validate on 25000 samples\n",
      "Epoch 1/50\n",
      "25000/25000 [==============================] - 32s 1ms/step - loss: 0.5586 - acc: 0.7563 - val_loss: 0.5035 - val_acc: 0.8123\n",
      "\n",
      "Epoch 00001: val_loss improved from inf to 0.50348, saving model to model_checkpoints/checkpoint_01_loss0.5035.h5\n",
      "Epoch 2/50\n",
      "25000/25000 [==============================] - 32s 1ms/step - loss: 0.4536 - acc: 0.8405 - val_loss: 0.4741 - val_acc: 0.8044\n",
      "\n",
      "Epoch 00002: val_loss improved from 0.50348 to 0.47411, saving model to model_checkpoints/checkpoint_02_loss0.4741.h5\n",
      "Epoch 3/50\n",
      "25000/25000 [==============================] - 33s 1ms/step - loss: 0.4199 - acc: 0.8408 - val_loss: 0.4524 - val_acc: 0.8109\n",
      "\n",
      "Epoch 00003: val_loss improved from 0.47411 to 0.45242, saving model to model_checkpoints/checkpoint_03_loss0.4524.h5\n",
      "Epoch 4/50\n",
      "25000/25000 [==============================] - 36s 1ms/step - loss: 0.3915 - acc: 0.8512 - val_loss: 0.4446 - val_acc: 0.8114\n",
      "\n",
      "Epoch 00004: val_loss improved from 0.45242 to 0.44455, saving model to model_checkpoints/checkpoint_04_loss0.4446.h5\n",
      "Epoch 5/50\n",
      "25000/25000 [==============================] - 35s 1ms/step - loss: 0.3664 - acc: 0.8628 - val_loss: 0.4484 - val_acc: 0.8090\n",
      "\n",
      "Epoch 00005: val_loss did not improve\n",
      "Epoch 6/50\n",
      "25000/25000 [==============================] - 35s 1ms/step - loss: 0.3630 - acc: 0.8592 - val_loss: 0.4876 - val_acc: 0.7886\n",
      "\n",
      "Epoch 00006: val_loss did not improve\n",
      "Epoch 7/50\n",
      "25000/25000 [==============================] - 39s 2ms/step - loss: 0.3455 - acc: 0.8684 - val_loss: 0.4569 - val_acc: 0.8072\n",
      "\n",
      "Epoch 00007: val_loss did not improve\n"
     ]
    }
   ],
   "source": [
    "# fit the model\n",
    "early_stopping,model_checkpoint = EarlyStopingModelCheckPoint()\n",
    "\n",
    "history1 = model1.fit(x_train, y_train, \n",
    "                    validation_data=(x_test, y_test),\n",
    "                    epochs=50,\n",
    "                    batch_size=64, # Number of observations per batch\n",
    "                    verbose=1, # Print description after each epoch\n",
    "                    callbacks=[early_stopping,model_checkpoint])"
   ]
  },
  {
   "cell_type": "markdown",
   "metadata": {},
   "source": [
    "**Model history and get model accuracy on test data**"
   ]
  },
  {
   "cell_type": "code",
   "execution_count": 14,
   "metadata": {},
   "outputs": [
    {
     "data": {
      "image/png": "[encoded data removed]",
      "text/plain": [
       "<Figure size 1080x360 with 2 Axes>"
      ]
     },
     "metadata": {
      "needs_background": "light"
     },
     "output_type": "display_data"
    }
   ],
   "source": [
    "# plot model history\n",
    "plot_model_history(history1)"
   ]
  },
  {
   "cell_type": "code",
   "execution_count": 15,
   "metadata": {},
   "outputs": [
    {
     "name": "stdout",
     "output_type": "stream",
     "text": [
      "25000/25000 [==============================] - 11s 457us/step\n",
      "\n",
      "Experiment1: Accuracy: 80.72\n"
     ]
    }
   ],
   "source": [
    "# compute accuracy for validation dataset\n",
    "val_loss1, val_acc1 = model1.evaluate(x_test, y_test, verbose=1)\n",
    "print('\\nExperiment1: Accuracy: %0.2f' %(val_acc1*100))"
   ]
  },
  {
   "cell_type": "code",
   "execution_count": 16,
   "metadata": {},
   "outputs": [
    {
     "name": "stdout",
     "output_type": "stream",
     "text": [
      "Classification Report: \n",
      "\n",
      "               precision    recall  f1-score   support\n",
      "\n",
      "           0       0.81      0.81      0.81     12500\n",
      "           1       0.81      0.81      0.81     12500\n",
      "\n",
      "   micro avg       0.81      0.81      0.81     25000\n",
      "   macro avg       0.81      0.81      0.81     25000\n",
      "weighted avg       0.81      0.81      0.81     25000\n",
      "\n"
     ]
    }
   ],
   "source": [
    "# predict test data and get classification report\n",
    "y_pred1 = model1.predict(x_test)\n",
    "ypred1 = get1D_y_predict(y_pred1)\n",
    "\n",
    "# classification report with model acciracy and F1 score\n",
    "cr1 = metrics.classification_report(y_test,ypred1)\n",
    "print(\"Classification Report: \\n\\n\", cr1)"
   ]
  },
  {
   "cell_type": "code",
   "execution_count": 17,
   "metadata": {},
   "outputs": [],
   "source": [
    "# Save model and weights for future use. \n",
    "model1.save('models/exp1_model.h5')\n",
    "model1.save_weights('exp1_weights.h5')"
   ]
  },
  {
   "cell_type": "markdown",
   "metadata": {},
   "source": [
    "**Experiment-2: Add more dense layer and customized optimizer with slower learning rate**"
   ]
  },
  {
   "cell_type": "code",
   "execution_count": 18,
   "metadata": {},
   "outputs": [],
   "source": [
    "# define the model\n",
    "model2 = Sequential()\n",
    "\n",
    "# Embedding layer\n",
    "model2.add(Embedding(vocab_size, 8, input_length=maxlen, name=\"embedding1\"))\n",
    "\n",
    "# Recurrent layer\n",
    "model2.add(\n",
    "    SimpleRNN(\n",
    "        1, return_sequences=False, dropout=0.1, name=\"simple_rnn1\"))\n",
    "\n",
    "# Fully connected layer\n",
    "model2.add(Dense(16, activation='relu', name=\"fc1\"))\n",
    "\n",
    "# Dropout for regularization\n",
    "model2.add(Dropout(0.3, name=\"fc1_dropout\"))\n",
    "\n",
    "# Output layer: binary output\n",
    "model2.add(Dense(1, activation='sigmoid', name=\"output\"))"
   ]
  },
  {
   "cell_type": "code",
   "execution_count": 19,
   "metadata": {},
   "outputs": [
    {
     "name": "stdout",
     "output_type": "stream",
     "text": [
      "_________________________________________________________________\n",
      "Layer (type)                 Output Shape              Param #   \n",
      "=================================================================\n",
      "embedding1 (Embedding)       (None, 300, 8)            80000     \n",
      "_________________________________________________________________\n",
      "simple_rnn1 (SimpleRNN)      (None, 1)                 10        \n",
      "_________________________________________________________________\n",
      "fc1 (Dense)                  (None, 16)                32        \n",
      "_________________________________________________________________\n",
      "fc1_dropout (Dropout)        (None, 16)                0         \n",
      "_________________________________________________________________\n",
      "output (Dense)               (None, 1)                 17        \n",
      "=================================================================\n",
      "Total params: 80,059\n",
      "Trainable params: 80,059\n",
      "Non-trainable params: 0\n",
      "_________________________________________________________________\n",
      "None\n"
     ]
    }
   ],
   "source": [
    "# creat customize optimizer with slower learning rate\n",
    "optimizer = keras.optimizers.Adam(lr=0.001)\n",
    "\n",
    "# compile the model\n",
    "model2.compile(optimizer=optimizer, loss='binary_crossentropy', metrics=['acc'])\n",
    "\n",
    "# summarize the model\n",
    "print(model2.summary())"
   ]
  },
  {
   "cell_type": "code",
   "execution_count": 20,
   "metadata": {},
   "outputs": [
    {
     "name": "stdout",
     "output_type": "stream",
     "text": [
      "Train on 25000 samples, validate on 25000 samples\n",
      "Epoch 1/50\n",
      "25000/25000 [==============================] - 38s 2ms/step - loss: 0.6909 - acc: 0.5170 - val_loss: 0.6846 - val_acc: 0.5449\n",
      "\n",
      "Epoch 00001: val_loss improved from inf to 0.68464, saving model to model_checkpoints/checkpoint_01_loss0.6846.h5\n",
      "Epoch 2/50\n",
      "25000/25000 [==============================] - 34s 1ms/step - loss: 0.6621 - acc: 0.6064 - val_loss: 0.6820 - val_acc: 0.5601\n",
      "\n",
      "Epoch 00002: val_loss improved from 0.68464 to 0.68204, saving model to model_checkpoints/checkpoint_02_loss0.6820.h5\n",
      "Epoch 3/50\n",
      "25000/25000 [==============================] - 34s 1ms/step - loss: 0.6185 - acc: 0.6722 - val_loss: 0.7025 - val_acc: 0.5557\n",
      "\n",
      "Epoch 00003: val_loss did not improve\n",
      "Epoch 4/50\n",
      "25000/25000 [==============================] - 36s 1ms/step - loss: 0.5894 - acc: 0.7046 - val_loss: 0.7287 - val_acc: 0.5543\n",
      "\n",
      "Epoch 00004: val_loss did not improve\n",
      "Epoch 5/50\n",
      "25000/25000 [==============================] - 36s 1ms/step - loss: 0.5669 - acc: 0.7286 - val_loss: 0.7502 - val_acc: 0.5483\n",
      "\n",
      "Epoch 00005: val_loss did not improve\n"
     ]
    }
   ],
   "source": [
    "# fit the model\n",
    "early_stopping,model_checkpoint = EarlyStopingModelCheckPoint()\n",
    "\n",
    "history2 = model2.fit(x_train, y_train, \n",
    "                    validation_data=(x_test, y_test),\n",
    "                    epochs=50,\n",
    "                    batch_size=64, # Number of observations per batch\n",
    "                    verbose=1, # Print description after each epoch\n",
    "                    callbacks=[early_stopping,model_checkpoint])"
   ]
  },
  {
   "cell_type": "code",
   "execution_count": 21,
   "metadata": {},
   "outputs": [
    {
     "data": {
      "image/png": "[encoded data removed]",
      "text/plain": [
       "<Figure size 1080x360 with 2 Axes>"
      ]
     },
     "metadata": {
      "needs_background": "light"
     },
     "output_type": "display_data"
    }
   ],
   "source": [
    "# plot model history\n",
    "plot_model_history(history2)"
   ]
  },
  {
   "cell_type": "code",
   "execution_count": 22,
   "metadata": {},
   "outputs": [
    {
     "name": "stdout",
     "output_type": "stream",
     "text": [
      "25000/25000 [==============================] - 11s 458us/step\n",
      "\n",
      "Experiment2: Test Accuracy: 54.83\n"
     ]
    }
   ],
   "source": [
    "# compute accuracy for validation dataset\n",
    "val_loss2, val_acc2 = model2.evaluate(x_test, y_test, verbose=1)\n",
    "print('\\nExperiment2: Test Accuracy: %0.2f' %(val_acc2*100))"
   ]
  },
  {
   "cell_type": "code",
   "execution_count": 23,
   "metadata": {},
   "outputs": [
    {
     "name": "stdout",
     "output_type": "stream",
     "text": [
      "Classification Report: \n",
      "\n",
      "               precision    recall  f1-score   support\n",
      "\n",
      "           0       0.54      0.62      0.58     12500\n",
      "           1       0.56      0.48      0.51     12500\n",
      "\n",
      "   micro avg       0.55      0.55      0.55     25000\n",
      "   macro avg       0.55      0.55      0.55     25000\n",
      "weighted avg       0.55      0.55      0.55     25000\n",
      "\n"
     ]
    }
   ],
   "source": [
    "# predict test data and get classification report\n",
    "y_pred2 = model2.predict(x_test)\n",
    "ypred2 = get1D_y_predict(y_pred2)\n",
    "\n",
    "# classification report with model acciracy and F1 score\n",
    "cr2 = metrics.classification_report(y_test,ypred2)\n",
    "print(\"Classification Report: \\n\\n\", cr2)"
   ]
  },
  {
   "cell_type": "code",
   "execution_count": 24,
   "metadata": {},
   "outputs": [],
   "source": [
    "# Save model and weights for future use. \n",
    "model2.save('models/exp2_model.h5')\n",
    "model2.save_weights('exp2_weights.h5')"
   ]
  },
  {
   "cell_type": "markdown",
   "metadata": {},
   "source": [
    "**Experiment-3: model build using LSTM recurrent layer**"
   ]
  },
  {
   "cell_type": "code",
   "execution_count": 25,
   "metadata": {},
   "outputs": [],
   "source": [
    "# define the model\n",
    "model3 = Sequential()\n",
    "\n",
    "# Embedding layer\n",
    "model3.add(Embedding(vocab_size, 8, input_length=maxlen, name=\"embedding1\"))\n",
    "\n",
    "# Recurrent layer\n",
    "model3.add(\n",
    "    LSTM(\n",
    "        64, return_sequences=False, dropout=0.1, recurrent_dropout=0.1, name=\"lstm1\"))\n",
    "\n",
    "# Fully connected layer\n",
    "model3.add(Dense(16, activation='relu', name=\"fc1\"))\n",
    "\n",
    "# Dropout for regularization\n",
    "model3.add(Dropout(0.3, name=\"fc1_dropout\"))\n",
    "\n",
    "# Output layer: binary output\n",
    "model3.add(Dense(1, activation='sigmoid', name=\"output\"))"
   ]
  },
  {
   "cell_type": "code",
   "execution_count": 26,
   "metadata": {},
   "outputs": [
    {
     "name": "stdout",
     "output_type": "stream",
     "text": [
      "_________________________________________________________________\n",
      "Layer (type)                 Output Shape              Param #   \n",
      "=================================================================\n",
      "embedding1 (Embedding)       (None, 300, 8)            80000     \n",
      "_________________________________________________________________\n",
      "lstm1 (LSTM)                 (None, 64)                18688     \n",
      "_________________________________________________________________\n",
      "fc1 (Dense)                  (None, 16)                1040      \n",
      "_________________________________________________________________\n",
      "fc1_dropout (Dropout)        (None, 16)                0         \n",
      "_________________________________________________________________\n",
      "output (Dense)               (None, 1)                 17        \n",
      "=================================================================\n",
      "Total params: 99,745\n",
      "Trainable params: 99,745\n",
      "Non-trainable params: 0\n",
      "_________________________________________________________________\n",
      "None\n"
     ]
    }
   ],
   "source": [
    "# creat customize optimizer with slower learning rate\n",
    "optimizer = keras.optimizers.Adam(lr=0.001)\n",
    "\n",
    "# compile the model\n",
    "model3.compile(optimizer=optimizer, loss='binary_crossentropy', metrics=['acc'])\n",
    "\n",
    "# summarize the model\n",
    "print(model3.summary())"
   ]
  },
  {
   "cell_type": "code",
   "execution_count": 27,
   "metadata": {},
   "outputs": [
    {
     "name": "stdout",
     "output_type": "stream",
     "text": [
      "Train on 25000 samples, validate on 25000 samples\n",
      "Epoch 1/50\n",
      "25000/25000 [==============================] - 283s 11ms/step - loss: 0.5358 - acc: 0.7244 - val_loss: 0.3686 - val_acc: 0.8414\n",
      "\n",
      "Epoch 00001: val_loss improved from inf to 0.36859, saving model to model_checkpoints/checkpoint_01_loss0.3686.h5\n",
      "Epoch 2/50\n",
      "25000/25000 [==============================] - 264s 11ms/step - loss: 0.3506 - acc: 0.8595 - val_loss: 0.3372 - val_acc: 0.8563\n",
      "\n",
      "Epoch 00002: val_loss improved from 0.36859 to 0.33721, saving model to model_checkpoints/checkpoint_02_loss0.3372.h5\n",
      "Epoch 3/50\n",
      "25000/25000 [==============================] - 320s 13ms/step - loss: 0.2934 - acc: 0.8894 - val_loss: 0.3401 - val_acc: 0.8573\n",
      "\n",
      "Epoch 00003: val_loss did not improve\n",
      "Epoch 4/50\n",
      "25000/25000 [==============================] - 319s 13ms/step - loss: 0.2720 - acc: 0.9000 - val_loss: 0.3985 - val_acc: 0.8541\n",
      "\n",
      "Epoch 00004: val_loss did not improve\n",
      "Epoch 5/50\n",
      "25000/25000 [==============================] - 348s 14ms/step - loss: 0.2405 - acc: 0.9132 - val_loss: 0.3828 - val_acc: 0.8392\n",
      "\n",
      "Epoch 00005: val_loss did not improve\n"
     ]
    }
   ],
   "source": [
    "# fit the model\n",
    "early_stopping,model_checkpoint = EarlyStopingModelCheckPoint()\n",
    "\n",
    "history3 = model3.fit(x_train, y_train, \n",
    "                    validation_data=(x_test, y_test),\n",
    "                    epochs=50,\n",
    "                    batch_size=64, # Number of observations per batch\n",
    "                    verbose=1, # Print description after each epoch\n",
    "                    callbacks=[early_stopping,model_checkpoint])"
   ]
  },
  {
   "cell_type": "code",
   "execution_count": 28,
   "metadata": {},
   "outputs": [
    {
     "data": {
      "image/png": "[encoded data removed]",
      "text/plain": [
       "<Figure size 1080x360 with 2 Axes>"
      ]
     },
     "metadata": {
      "needs_background": "light"
     },
     "output_type": "display_data"
    }
   ],
   "source": [
    "# plot model history\n",
    "plot_model_history(history3)"
   ]
  },
  {
   "cell_type": "code",
   "execution_count": 29,
   "metadata": {},
   "outputs": [
    {
     "name": "stdout",
     "output_type": "stream",
     "text": [
      "25000/25000 [==============================] - 115s 5ms/step\n",
      "\n",
      "Experiment3: Test Accuracy: 83.92\n"
     ]
    }
   ],
   "source": [
    "# compute accuracy for validation dataset\n",
    "val_loss3, val_acc3 = model3.evaluate(x_test, y_test, verbose=1)\n",
    "print('\\nExperiment3: Test Accuracy: %0.2f' %(val_acc3*100))"
   ]
  },
  {
   "cell_type": "code",
   "execution_count": 30,
   "metadata": {},
   "outputs": [
    {
     "name": "stdout",
     "output_type": "stream",
     "text": [
      "Classification Report: \n",
      "\n",
      "               precision    recall  f1-score   support\n",
      "\n",
      "           0       0.86      0.81      0.83     12500\n",
      "           1       0.82      0.87      0.84     12500\n",
      "\n",
      "   micro avg       0.84      0.84      0.84     25000\n",
      "   macro avg       0.84      0.84      0.84     25000\n",
      "weighted avg       0.84      0.84      0.84     25000\n",
      "\n"
     ]
    }
   ],
   "source": [
    "# predict test data and get classification report\n",
    "y_pred3 = model3.predict(x_test)\n",
    "ypred3 = get1D_y_predict(y_pred3)\n",
    "\n",
    "# classification report with model acciracy and F1 score\n",
    "cr3 = metrics.classification_report(y_test,ypred3)\n",
    "print(\"Classification Report: \\n\\n\", cr3)"
   ]
  },
  {
   "cell_type": "code",
   "execution_count": 31,
   "metadata": {},
   "outputs": [
    {
     "data": {
      "image/png": "[encoded data removed]",
      "text/plain": [
       "<Figure size 864x360 with 2 Axes>"
      ]
     },
     "metadata": {
      "needs_background": "light"
     },
     "output_type": "display_data"
    }
   ],
   "source": [
    "# confusion matrix\n",
    "cm3 = metrics.confusion_matrix(y_test, ypred3)\n",
    "plot_cnf_matrix(cm3, \"exp3_cm\")"
   ]
  },
  {
   "cell_type": "code",
   "execution_count": 32,
   "metadata": {},
   "outputs": [],
   "source": [
    "# Save model and weights for future use. \n",
    "model3.save('models/exp3_model.h5')\n",
    "model3.save_weights('exp3_weights.h5')"
   ]
  },
  {
   "cell_type": "markdown",
   "metadata": {
    "colab_type": "text",
    "id": "Igq8Qm8GeCzG"
   },
   "source": [
    "## Retrive the output of each layer in keras for a given single test sample from the trained model you built"
   ]
  },
  {
   "cell_type": "markdown",
   "metadata": {},
   "source": [
    "**load best performing model from above experiment**"
   ]
  },
  {
   "cell_type": "code",
   "execution_count": 33,
   "metadata": {
    "colab": {},
    "colab_type": "code",
    "id": "0AqOnLa2eCzH"
   },
   "outputs": [],
   "source": [
    "from keras.models import load_model\n",
    "model = load_model('models/exp3_model.h5')"
   ]
  },
  {
   "cell_type": "code",
   "execution_count": 34,
   "metadata": {
    "colab": {},
    "colab_type": "code",
    "id": "-dUDSg7VeCzM"
   },
   "outputs": [
    {
     "name": "stdout",
     "output_type": "stream",
     "text": [
      "_________________________________________________________________\n",
      "Layer (type)                 Output Shape              Param #   \n",
      "=================================================================\n",
      "embedding1 (Embedding)       (None, 300, 8)            80000     \n",
      "_________________________________________________________________\n",
      "lstm1 (LSTM)                 (None, 64)                18688     \n",
      "_________________________________________________________________\n",
      "fc1 (Dense)                  (None, 16)                1040      \n",
      "_________________________________________________________________\n",
      "fc1_dropout (Dropout)        (None, 16)                0         \n",
      "_________________________________________________________________\n",
      "output (Dense)               (None, 1)                 17        \n",
      "=================================================================\n",
      "Total params: 99,745\n",
      "Trainable params: 99,745\n",
      "Non-trainable params: 0\n",
      "_________________________________________________________________\n"
     ]
    }
   ],
   "source": [
    "model.summary()"
   ]
  },
  {
   "cell_type": "markdown",
   "metadata": {},
   "source": [
    "**Retrieve output at each layer for test sample**"
   ]
  },
  {
   "cell_type": "code",
   "execution_count": 35,
   "metadata": {},
   "outputs": [],
   "source": [
    "from keras import backend as K\n",
    "\n",
    "inp = model.input                               # input placeholder\n",
    "outputs = [layer.output for layer in model.layers ]          # all layer outputs\n",
    "functors = [K.function([inp, K.learning_phase()], [out]) for out in outputs]    # evaluation functions"
   ]
  },
  {
   "cell_type": "code",
   "execution_count": 36,
   "metadata": {},
   "outputs": [
    {
     "name": "stdout",
     "output_type": "stream",
     "text": [
      "\n",
      "Layer name: embedding1, Shape: (300, 8): \n",
      "Layer output\n",
      "[[-0.02617314  0.00889815 -0.04247195 ...  0.01206627 -0.06735698\n",
      "   0.03264588]\n",
      " [-0.02617314  0.00889815 -0.04247195 ...  0.01206627 -0.06735698\n",
      "   0.03264588]\n",
      " [-0.02617314  0.00889815 -0.04247195 ...  0.01206627 -0.06735698\n",
      "   0.03264588]\n",
      " ...\n",
      " [ 0.01108345  0.01479889 -0.02016562 ... -0.01243295 -0.01987867\n",
      "   0.02111901]\n",
      " [ 0.06202379 -0.03854897 -0.01831938 ...  0.00724862 -0.01197295\n",
      "   0.03930199]\n",
      " [ 0.00063181  0.01426973  0.01036321 ... -0.03703092  0.0409575\n",
      "  -0.00345577]]\n",
      "\n",
      "Layer name: lstm1, Shape: (64,): \n",
      "Layer output\n",
      "[ 2.05405235e-01 -1.11080166e-02 -1.77500136e-02  1.57955091e-03\n",
      " -9.69281606e-03 -5.02071865e-02 -2.34625638e-02  8.66037502e-04\n",
      " -2.00643986e-02  3.62256169e-02  5.28460369e-02  1.11484177e-01\n",
      " -3.85855744e-03  6.86453134e-02 -5.05332742e-03  4.85475641e-03\n",
      "  1.75678525e-02  1.40616149e-02  3.51546742e-02  1.27138998e-02\n",
      " -4.76476625e-02 -3.31573822e-02 -3.26840766e-02 -6.11188263e-02\n",
      "  1.29859615e-02  9.61480197e-03  5.98741835e-03  4.91746105e-02\n",
      " -2.37978920e-02  1.16274087e-02  4.20255540e-03 -4.93733212e-03\n",
      "  5.18149557e-03  2.33863853e-02  1.52424164e-02  2.89394390e-02\n",
      "  6.62263185e-02  3.66966613e-02  3.81707810e-02  1.78518370e-02\n",
      "  1.16662579e-02 -3.24823923e-04  2.03311667e-02 -3.19792219e-02\n",
      "  3.38083506e-02 -1.76526178e-02  1.33785112e-02 -7.77987763e-04\n",
      "  3.97869013e-03  2.42738742e-02 -2.44477242e-02  1.44045735e-02\n",
      " -2.15081461e-02 -7.37739727e-02 -6.17965497e-03 -1.28840627e-02\n",
      " -1.58749092e-02  4.18715999e-02 -1.12744747e-02 -1.67023651e-02\n",
      "  4.03358536e-05 -2.03969562e-03  8.44264925e-02 -3.35199386e-02]\n",
      "\n",
      "Layer name: fc1, Shape: (16,): \n",
      "Layer output\n",
      "[-0.         -0.         -0.          0.24089502  0.49466884  0.5426544\n",
      "  0.1922873  -0.         -0.         -0.         -0.         -0.\n",
      "  0.5277541  -0.          0.5332897  -0.        ]\n",
      "\n",
      "Layer name: fc1_dropout, Shape: (16,): \n",
      "Layer output\n",
      "[ 0.          0.          0.3783518  -0.          0.01526497 -0.\n",
      " -0.          0.14393517  0.          0.          0.20074971  0.\n",
      " -0.          0.09244682 -0.          0.        ]\n",
      "\n",
      "Layer name: output, Shape: (1,): \n",
      "Layer output\n",
      "[0.67836404]\n"
     ]
    }
   ],
   "source": [
    "# getting outpur at each layer for test sample\n",
    "\n",
    "sample_pos = 100  # btw 0~24999\n",
    "testSample = x_test[sample_pos][np.newaxis,...] # get the test sample\n",
    "\n",
    "layer_outs = [func([testSample, 1.]) for func in functors] # get the output at each layer for the test sample\n",
    "\n",
    "# print output at each layer\n",
    "for idx, layer in enumerate(model.layers):\n",
    "    print(\"\\nLayer name: {}, Shape: {}: \".format(layer.name, layer_outs[idx][0][0].shape))\n",
    "    print(\"Layer output\")\n",
    "    print(layer_outs[idx][0][0])"
   ]
  },
  {
   "cell_type": "markdown",
   "metadata": {
    "colab": {},
    "colab_type": "code",
    "id": "Tskt_1npeCzP"
   },
   "source": [
    "### Experiment Analysis Report"
   ]
  },
  {
   "cell_type": "code",
   "execution_count": 37,
   "metadata": {},
   "outputs": [
    {
     "data": {
      "text/plain": [
       "<matplotlib.axes._subplots.AxesSubplot at 0x16fa81050f0>"
      ]
     },
     "execution_count": 37,
     "metadata": {},
     "output_type": "execute_result"
    },
    {
     "data": {
      "image/png": "[encoded data removed]",
      "text/plain": [
       "<Figure size 432x288 with 1 Axes>"
      ]
     },
     "metadata": {
      "needs_background": "light"
     },
     "output_type": "display_data"
    }
   ],
   "source": [
    "# comparing validation accuracy of all the experiments\n",
    "models = [\"Emb+S-RNN\",\"Emb+S-RNN+CustOpt\", \"Emb+LSTM\"]\n",
    "model_acc = [val_acc1, val_acc2, val_acc3]\n",
    "sns.barplot(x=models, y=model_acc)"
   ]
  },
  {
   "cell_type": "markdown",
   "metadata": {},
   "source": [
    "**Experiment-1:**: Keras embedding layer model with Simple-RNN and dense layer with Adma optimizer\n",
    "1. F1 Score: Negative: 57%, Positive: 56%\n",
    "2. Validation accuracy: 56.15%\n",
    "3. Train loss: loss: 0.5668 - train acc: 0.7198 - val_loss: 0.7331 - val_acc: 0.5615\n",
    "4. Trainable params: 80,012\n",
    "\n",
    "**Experiment-2:**: Above model is optimized further using customized adma optimizer with small learning rate of 0.001 and adding few Dense layer.\n",
    "1. F1 Score: Negative: 81%, Positive: 82%\n",
    "2. Accuracy: 81.25%\n",
    "3. Train loss: loss: 0.3384 - train acc: 0.8802 - val_loss: 0.4509 - val_acc: 0.8125\n",
    "4. Trainable params: 99,745\n",
    "\n",
    "**Experiment-3:**: Keras embedding layer model with LSTN and dense layer with Adma optimizer.\n",
    "1. F1 Score: Negative: 85%, Positive: 85%\n",
    "2. Validation Accuracy: 85%\n",
    "3. Train loss: 0.2655 - train acc: 0.8964 - val_loss: 0.3852 - val_acc: 0.8507\n",
    "4. Trainable params: 99,745\n",
    "\n",
    "Additionally, calssification report and confusion matrix are generated for comparing each model's precison, recall and F1 scored. Model using Embedding layer with LSTM shown better perfomance for model accuracy and F1 score."
   ]
  },
  {
   "cell_type": "code",
   "execution_count": null,
   "metadata": {},
   "outputs": [],
   "source": []
  }
 ],
 "metadata": {
  "accelerator": "GPU",
  "colab": {
   "collapsed_sections": [],
   "name": "SeqNLP_Project1_Questions.ipynb",
   "provenance": [],
   "version": "0.3.2"
  },
  "kernelspec": {
   "display_name": "Python 3",
   "language": "python",
   "name": "python3"
  },
  "language_info": {
   "codemirror_mode": {
    "name": "ipython",
    "version": 3
   },
   "file_extension": ".py",
   "mimetype": "text/x-python",
   "name": "python",
   "nbconvert_exporter": "python",
   "pygments_lexer": "ipython3",
   "version": "3.7.3"
  }
 },
 "nbformat": 4,
 "nbformat_minor": 1
}
